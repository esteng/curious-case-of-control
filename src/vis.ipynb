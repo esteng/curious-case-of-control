{
 "cells": [
  {
   "cell_type": "code",
   "execution_count": 32,
   "metadata": {},
   "outputs": [],
   "source": [
    "import seaborn as sns \n",
    "from matplotlib import pyplot as plt \n",
    "import pandas as pd \n",
    "import numpy as np \n",
    "\n",
    "from metrics import accuracy_report"
   ]
  },
  {
   "cell_type": "code",
   "execution_count": 35,
   "metadata": {},
   "outputs": [],
   "source": [
    "def barplot(csvs, level, x_name, hue_name, title=None):\n",
    "    # consolidate data from different csvs \n",
    "    all_dfs = []\n",
    "    for csv in csvs:\n",
    "        df = pd.read_csv(csv)\n",
    "        print(csv, len(df))\n",
    "        all_dfs.append(df)\n",
    "\n",
    "    reports = [accuracy_report(df) for df in all_dfs]\n",
    "    data = [report[level] for report in reports]\n",
    "    df_to_plot = pd.DataFrame(columns=[\"model\", \"acc\", \"type\"], dtype=object)\n",
    "    for i, data_dict in enumerate(data):\n",
    "        df = all_dfs[i]\n",
    "        model_name = df['model'][0]\n",
    "        if type(data_dict) == dict:\n",
    "            for k, v in data_dict.items():\n",
    "                acc = float(v[0])\n",
    "                type_name = k\n",
    "                df_to_plot = df_to_plot.append({\"model\": model_name, \"acc\": acc, \"type\": type_name}, ignore_index=True)\n",
    "        else:\n",
    "            v, __, __, __ = data_dict\n",
    "            acc = float(v) \n",
    "            type_name = \"total\"\n",
    "            df_to_plot = df_to_plot.append({\"model\": model_name, \"acc\": acc, \"type\": type_name}, ignore_index=True)\n",
    "\n",
    "    g = sns.catplot(data = df_to_plot, kind='bar', x = x_name, y = 'acc', hue = hue_name, palette=\"colorblind\")\n",
    "    g.ax.set_ylim(top=1.0, bottom=0.0)\n",
    "    [plt.setp(ax.get_xticklabels(), rotation=45) for ax in g.axes.flat]\n",
    "    if title is not None:\n",
    "        g.fig.suptitle(title)\n",
    "    \n",
    "    return g "
   ]
  },
  {
   "cell_type": "code",
   "execution_count": 42,
   "metadata": {},
   "outputs": [
    {
     "ename": "IndexError",
     "evalue": "list index out of range",
     "output_type": "error",
     "traceback": [
      "\u001b[0;31m---------------------------------------------------------------------------\u001b[0m",
      "\u001b[0;31mIndexError\u001b[0m                                Traceback (most recent call last)",
      "\u001b[0;32m/var/folders/d2/d0n6tsxs5cq1hbszm2w1sw1m0000gn/T/ipykernel_1819/4189021480.py\u001b[0m in \u001b[0;36m<module>\u001b[0;34m\u001b[0m\n\u001b[1;32m     20\u001b[0m     \u001b[0mfilename\u001b[0m \u001b[0;34m=\u001b[0m \u001b[0mpathlib\u001b[0m\u001b[0;34m.\u001b[0m\u001b[0mPath\u001b[0m\u001b[0;34m(\u001b[0m\u001b[0mcsv\u001b[0m\u001b[0;34m)\u001b[0m\u001b[0;34m.\u001b[0m\u001b[0mname\u001b[0m\u001b[0;34m\u001b[0m\u001b[0;34m\u001b[0m\u001b[0m\n\u001b[1;32m     21\u001b[0m     \u001b[0mexp\u001b[0m\u001b[0;34m.\u001b[0m\u001b[0mrecover\u001b[0m\u001b[0;34m(\u001b[0m\u001b[0mcsv\u001b[0m\u001b[0;34m)\u001b[0m\u001b[0;34m\u001b[0m\u001b[0;34m\u001b[0m\u001b[0m\n\u001b[0;32m---> 22\u001b[0;31m     \u001b[0mexp\u001b[0m\u001b[0;34m.\u001b[0m\u001b[0mrecompute\u001b[0m\u001b[0;34m(\u001b[0m\u001b[0mnicknames\u001b[0m\u001b[0;34m)\u001b[0m\u001b[0;34m\u001b[0m\u001b[0;34m\u001b[0m\u001b[0m\n\u001b[0m\u001b[1;32m     23\u001b[0m     \u001b[0mdf\u001b[0m \u001b[0;34m=\u001b[0m \u001b[0mexp\u001b[0m\u001b[0;34m.\u001b[0m\u001b[0mformat_results\u001b[0m\u001b[0;34m(\u001b[0m\u001b[0;34m)\u001b[0m\u001b[0;34m\u001b[0m\u001b[0;34m\u001b[0m\u001b[0m\n\u001b[1;32m     24\u001b[0m     \u001b[0mdf\u001b[0m\u001b[0;34m.\u001b[0m\u001b[0mto_csv\u001b[0m\u001b[0;34m(\u001b[0m\u001b[0;34mf\"../results_to_plot/{filename}\"\u001b[0m\u001b[0;34m)\u001b[0m\u001b[0;34m\u001b[0m\u001b[0;34m\u001b[0m\u001b[0m\n",
      "\u001b[0;32m~/child-lm/src/experiment.py\u001b[0m in \u001b[0;36mrecompute\u001b[0;34m(self, nicknames)\u001b[0m\n\u001b[1;32m     56\u001b[0m         \u001b[0;32mfor\u001b[0m \u001b[0mi\u001b[0m\u001b[0;34m,\u001b[0m \u001b[0mres_line\u001b[0m \u001b[0;32min\u001b[0m \u001b[0menumerate\u001b[0m\u001b[0;34m(\u001b[0m\u001b[0mself\u001b[0m\u001b[0;34m.\u001b[0m\u001b[0mresults\u001b[0m\u001b[0;34m)\u001b[0m\u001b[0;34m:\u001b[0m\u001b[0;34m\u001b[0m\u001b[0;34m\u001b[0m\u001b[0m\n\u001b[1;32m     57\u001b[0m             \u001b[0mresponse\u001b[0m \u001b[0;34m=\u001b[0m \u001b[0mres_line\u001b[0m\u001b[0;34m[\u001b[0m\u001b[0;34m'response'\u001b[0m\u001b[0;34m]\u001b[0m\u001b[0;34m\u001b[0m\u001b[0;34m\u001b[0m\u001b[0m\n\u001b[0;32m---> 58\u001b[0;31m             \u001b[0mresponse\u001b[0m \u001b[0;34m=\u001b[0m \u001b[0mresponse\u001b[0m\u001b[0;34m.\u001b[0m\u001b[0msplit\u001b[0m\u001b[0;34m(\u001b[0m\u001b[0;34m\"Answer: \\',\"\u001b[0m\u001b[0;34m)\u001b[0m\u001b[0;34m[\u001b[0m\u001b[0;36m1\u001b[0m\u001b[0;34m]\u001b[0m\u001b[0;34m\u001b[0m\u001b[0;34m\u001b[0m\u001b[0m\n\u001b[0m\u001b[1;32m     59\u001b[0m             \u001b[0mpred_name\u001b[0m \u001b[0;34m=\u001b[0m \u001b[0mre\u001b[0m\u001b[0;34m.\u001b[0m\u001b[0msub\u001b[0m\u001b[0;34m(\u001b[0m\u001b[0;34m\"[()']\"\u001b[0m\u001b[0;34m,\u001b[0m \u001b[0;34m\"\"\u001b[0m\u001b[0;34m,\u001b[0m \u001b[0mresponse\u001b[0m\u001b[0;34m)\u001b[0m\u001b[0;34m.\u001b[0m\u001b[0mstrip\u001b[0m\u001b[0;34m(\u001b[0m\u001b[0;34m)\u001b[0m\u001b[0;34m\u001b[0m\u001b[0;34m\u001b[0m\u001b[0m\n\u001b[1;32m     60\u001b[0m             \u001b[0mtrue_name\u001b[0m \u001b[0;34m=\u001b[0m \u001b[0mres_line\u001b[0m\u001b[0;34m[\u001b[0m\u001b[0;34m'true'\u001b[0m\u001b[0;34m]\u001b[0m\u001b[0;34m\u001b[0m\u001b[0;34m\u001b[0m\u001b[0m\n",
      "\u001b[0;31mIndexError\u001b[0m: list index out of range"
     ]
    }
   ],
   "source": [
    "# recompute everything \n",
    "import json \n",
    "import pathlib \n",
    "from experiment import Experiment\n",
    "prompt=None\n",
    "wrapper_fxn=None\n",
    "nicknames = json.load(open(\"../data/nicknames.json\"))\n",
    "csvs = [\"../results/gpt_object_control_swap_names.csv\", \n",
    "     \"../results/gpt_neo_1.3B_object_control.csv\", \n",
    "     \"../results/gpt_neo_2.7b_object_control.csv\", \n",
    "     \"../results/gpt_j_object_control.csv\", \n",
    "     \"../results/jurassic_object_control_swap_names.csv\",\n",
    "     \"../results/jurassic_jumbo_object_control_swap_names.csv\", \n",
    "     \"../results/t5_qa_object_control.csv\",\n",
    "     \"../results/t0_object_control.csv\"]\n",
    "\n",
    "names = [\"gpt\", \"gpt-neo-1.3b\", \"gpt-neo-2.7b\", \"gpt-j\", \"jurassic-large\", \"jurassic-jumbo\", \"t5_qa\", \"t0\"]\n",
    "for csv, name in zip(csvs, names): \n",
    "    exp  = Experiment(name, \"object-control\", prompt, wrapper_fxn, 1, None)\n",
    "    filename = pathlib.Path(csv).name\n",
    "    exp.recover(csv)\n",
    "    exp.recompute(nicknames)\n",
    "    df = exp.format_results()\n",
    "    df.to_csv(f\"../results_to_plot/{filename}\")\n"
   ]
  },
  {
   "cell_type": "code",
   "execution_count": 36,
   "metadata": {},
   "outputs": [
    {
     "name": "stdout",
     "output_type": "stream",
     "text": [
      "../results/gpt_object_control_swap_names.csv 3000\n",
      "../results/gpt_neo_1.3B_object_control.csv 3000\n",
      "../results/gpt_neo_2.7b_object_control.csv 1500\n",
      "../results/gpt_j_object_control.csv 1500\n",
      "../results/jurassic_object_control_swap_names.csv 3000\n",
      "../results/t5_qa_object_control.csv 1500\n",
      "../results/t0_object_control.csv 1500\n"
     ]
    },
    {
     "data": {
      "image/png": "[encoded data removed]",
      "text/plain": [
       "<Figure size 612x324 with 1 Axes>"
      ]
     },
     "metadata": {
      "needs_background": "light"
     },
     "output_type": "display_data"
    }
   ],
   "source": [
    "# fig, ax = plt.subplots(1,1)\n",
    "csvs=[\"../results/gpt_object_control_swap_names.csv\", \n",
    "     \"../results/gpt_neo_1.3B_object_control.csv\", \n",
    "     \"../results/gpt_neo_2.7b_object_control.csv\", \n",
    "     \"../results/gpt_j_object_control.csv\", \n",
    "     \"../results/jurassic_object_control_swap_names.csv\", \n",
    "     \"../results/t5_qa_object_control.csv\",\n",
    "     \"../results/t0_object_control.csv\"]\n",
    "\n",
    "g = barplot(csvs, level=\"total\", x_name = \"type\", hue_name = \"model\", title = \"Object control: total\")\n",
    "g.figure.set_size_inches(8.5, 4.5)\n",
    "sns.despine()\n",
    "\n",
    "# g = barplot(csvs, level=\"acc_by_name\", x_name = \"type\", hue_name = \"model\", title = \"Object control by name\")\n",
    "# g.figure.set_size_inches(8.5, 4.5)\n",
    "# sns.despine()\n",
    "\n",
    "# g = barplot(csvs, level=\"acc_by_verb\", x_name = \"type\", hue_name = \"model\", title = \"Object control by verb\")\n",
    "# g.figure.set_size_inches(8.5, 4.5)\n",
    "# sns.despine()\n",
    "\n",
    "# g = barplot(csvs, level=\"acc_by_action\", x_name = \"type\", hue_name = \"model\", title = \"Object control by action\")\n",
    "# g.figure.set_size_inches(8.5, 4.5)\n",
    "# sns.despine()\n"
   ]
  },
  {
   "cell_type": "code",
   "execution_count": 37,
   "metadata": {},
   "outputs": [
    {
     "name": "stdout",
     "output_type": "stream",
     "text": [
      "../results/gpt_passive_object_control_swap_names.csv 3000\n",
      "../results/gpt_neo_1.3B_passive_object_control.csv 3000\n",
      "../results/gpt_neo_2.7b_passive_object_control.csv 3000\n",
      "../results/jurassic_passive_object_control_swap_names.csv 3000\n",
      "../results/t5_passive_object_control.csv 1500\n",
      "../results/t0_passive_object_control.csv 1500\n"
     ]
    },
    {
     "data": {
      "image/png": "[encoded data removed]",
      "text/plain": [
       "<Figure size 612x324 with 1 Axes>"
      ]
     },
     "metadata": {
      "needs_background": "light"
     },
     "output_type": "display_data"
    }
   ],
   "source": [
    "\n",
    "csvs=[\"../results/gpt_passive_object_control_swap_names.csv\", \n",
    "     \"../results/gpt_neo_1.3B_passive_object_control.csv\",\n",
    "     \"../results/gpt_neo_2.7b_passive_object_control.csv\",\n",
    "     \"../results/jurassic_passive_object_control_swap_names.csv\", \n",
    "     \"../results/t5_passive_object_control.csv\",\n",
    "     \"../results/t0_passive_object_control.csv\"]\n",
    "\n",
    "\n",
    "g = barplot(csvs, level=\"total\", x_name = \"type\", hue_name = \"model\", title = \"Passive Object: Total\")\n",
    "g.figure.set_size_inches(8.5, 4.5)\n",
    "sns.despine()\n",
    "\n",
    "\n",
    "# g = barplot(csvs, level=\"acc_by_name\", x_name = \"type\", hue_name = \"model\", title = \"Passive Object Control by Name\")\n",
    "# g.figure.set_size_inches(8.5, 4.5)\n",
    "# sns.despine()\n",
    "\n",
    "\n",
    "\n",
    "# g = barplot(csvs, level=\"acc_by_verb\", x_name = \"type\", hue_name = \"model\", title = \"Passive Object Control by Verb\")\n",
    "# g.figure.set_size_inches(8.5, 4.5)\n",
    "# sns.despine()\n",
    "\n",
    "\n",
    "# g = barplot(csvs, level=\"acc_by_action\", x_name = \"type\", hue_name = \"model\", title = \"Passive Object Control by Action\")\n",
    "# g.figure.set_size_inches(8.5, 4.5)\n",
    "# sns.despine()\n",
    "\n",
    "\n"
   ]
  },
  {
   "cell_type": "code",
   "execution_count": 38,
   "metadata": {},
   "outputs": [
    {
     "name": "stdout",
     "output_type": "stream",
     "text": [
      "../results/gpt_subject_control_swap_names.csv 300\n",
      "../results/gpt_neo_1.3B_subject_control.csv 300\n",
      "../results/gpt_neo_2.7b_subject_control.csv 300\n",
      "../results/gpt_j_subject_control.csv 150\n",
      "../results/jurassic_subject_control_swap_names.csv 300\n",
      "../results/t5_qa_subject_control.csv 150\n",
      "../results/t0_subject_control.csv 150\n"
     ]
    },
    {
     "data": {
      "image/png": "[encoded data removed]",
      "text/plain": [
       "<Figure size 612x324 with 1 Axes>"
      ]
     },
     "metadata": {
      "needs_background": "light"
     },
     "output_type": "display_data"
    }
   ],
   "source": [
    "\n",
    "# fig, ax = plt.subplots(1,1)\n",
    "csvs=[\"../results/gpt_subject_control_swap_names.csv\", \n",
    "     \"../results/gpt_neo_1.3B_subject_control.csv\",\n",
    "     \"../results/gpt_neo_2.7b_subject_control.csv\", \n",
    "     \"../results/gpt_j_subject_control.csv\",\n",
    "     \"../results/jurassic_subject_control_swap_names.csv\", \n",
    "     \"../results/t5_qa_subject_control.csv\",\n",
    "     \"../results/t0_subject_control.csv\"]\n",
    "\n",
    "\n",
    "g = barplot(csvs, level=\"total\", x_name = \"type\", hue_name = \"model\", title = \"Total accuracy\")\n",
    "g.figure.set_size_inches(8.5, 4.5)\n",
    "sns.despine()\n",
    "\n",
    "# g = barplot(csvs, level=\"acc_by_name\", x_name = \"type\", hue_name = \"model\", title = \"Subject Control by Name\")\n",
    "# g.figure.set_size_inches(8.5, 4.5)\n",
    "# sns.despine()\n",
    "\n",
    "# g = barplot(csvs, level=\"acc_by_verb\", x_name = \"type\", hue_name = \"model\", title = \"Subject Control by Verb\")\n",
    "# g.figure.set_size_inches(8.5, 4.5)\n",
    "# sns.despine()\n",
    "\n",
    "# g = barplot(csvs, level=\"acc_by_action\", x_name = \"type\", hue_name = \"model\", title = \"Subject Control by Action\")\n",
    "# g.figure.set_size_inches(8.5, 4.5)\n",
    "# sns.despine()\n",
    "\n"
   ]
  },
  {
   "cell_type": "code",
   "execution_count": null,
   "metadata": {},
   "outputs": [],
   "source": [
    "\n",
    "# fig, ax = plt.subplots(1,1)\n",
    "csvs=[\"../results/gpt_gendered_subject_control_swap_names.csv\", \n",
    "     \"../results/jurassic_gendered_subject_control_swap_names.csv\", \n",
    "     \"../results/t5_gendered_subject_control_swap_names.csv\"]\n",
    "\n",
    "\n",
    "g = barplot(csvs, level=\"total\", x_name = \"type\", hue_name = \"model\", title = \"Total accuracy\")\n",
    "g.figure.set_size_inches(8.5, 4.5)\n",
    "sns.despine()\n",
    "\n",
    "g = barplot(csvs, level=\"acc_by_name\", x_name = \"type\", hue_name = \"model\", title = \"Subject Control by Name\")\n",
    "g.figure.set_size_inches(8.5, 4.5)\n",
    "sns.despine()\n",
    "\n",
    "g = barplot(csvs, level=\"acc_by_verb\", x_name = \"type\", hue_name = \"model\", title = \"Subject Control by Verb\")\n",
    "g.figure.set_size_inches(8.5, 4.5)\n",
    "sns.despine()\n",
    "\n",
    "g = barplot(csvs, level=\"acc_by_action\", x_name = \"type\", hue_name = \"model\", title = \"Subject Control by Action\")\n",
    "g.figure.set_size_inches(8.5, 4.5)\n",
    "sns.despine()\n",
    "\n"
   ]
  },
  {
   "cell_type": "code",
   "execution_count": null,
   "metadata": {},
   "outputs": [],
   "source": []
  }
 ],
 "metadata": {
  "interpreter": {
   "hash": "ec6008f546f3cd66431ed7a4f2e2b63949ea9a2fd324a00b9368fd8a5a5333f5"
  },
  "kernelspec": {
   "display_name": "Python 3.7.11 64-bit ('openai': conda)",
   "language": "python",
   "name": "python3"
  },
  "language_info": {
   "codemirror_mode": {
    "name": "ipython",
    "version": 3
   },
   "file_extension": ".py",
   "mimetype": "text/x-python",
   "name": "python",
   "nbconvert_exporter": "python",
   "pygments_lexer": "ipython3",
   "version": "3.7.11"
  },
  "orig_nbformat": 4
 },
 "nbformat": 4,
 "nbformat_minor": 2
}
