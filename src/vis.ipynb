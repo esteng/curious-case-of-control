{
 "cells": [
  {
   "cell_type": "code",
   "execution_count": 1,
   "metadata": {},
   "outputs": [],
   "source": [
    "from vis import barplot, recompute\n",
    "import seaborn as sns \n",
    "import json \n",
    "import pathlib \n",
    "import pandas as pd \n",
    "import re \n",
    "import subprocess"
   ]
  },
  {
   "cell_type": "code",
   "execution_count": 2,
   "metadata": {},
   "outputs": [],
   "source": [
    "def compute_max_over_instructions(instruction_dirs, results_dir, idx=2, restrict=None): \n",
    "    df = pd.DataFrame(columns=[\"model\", \"instruction_dir\", \"results_dir\", \"type\", \"value\"], dtype=object)\n",
    "    for instruction_dir in instruction_dirs:\n",
    "        oc_acc, poc_acc, sc_acc = recompute_all(instruction_dir, results_dir)\n",
    "        models = set(oc_acc.keys()) & set(poc_acc.keys()) & set(sc_acc.keys())\n",
    "        print(f\"models {models}\")\n",
    "        if restrict is not None:\n",
    "            models = [x for x in models if x in restrict]\n",
    "        for model in models:\n",
    "            df = df.append({\"model\": model, \"instruction_dir\": instruction_dir, \"results_dir\": results_dir, \"type\": \"oc\", \"value\": oc_acc[model][idx] }, ignore_index=True)\n",
    "            df = df.append({\"model\": model, \"instruction_dir\": instruction_dir, \"results_dir\": results_dir, \"type\": \"poc\", \"value\": poc_acc[model][idx] }, ignore_index=True)\n",
    "            df = df.append({\"model\": model, \"instruction_dir\": instruction_dir, \"results_dir\": results_dir, \"type\": \"sc\", \"value\": sc_acc[model][idx] }, ignore_index=True)\n",
    "    max_df = pd.DataFrame(columns=[\"model\", \"instruction_dir\", \"results_dir\", \"type\", \"value\"], dtype=object)\n",
    "    done = []\n",
    "    instruction_dirs = [\"with_instructions\", \"short_instructions\"]\n",
    "    for i, row in df.iterrows():\n",
    "        other_instruction_dir = [x for x in instruction_dirs if x != row['instruction_dir']][0]\n",
    "        value1 = row['value']\n",
    "        other_row = df[(df['model'] == row['model']) & (df['instruction_dir'] == other_instruction_dir) & \n",
    "                    (df['results_dir'] == row['results_dir']) & (df['type'] == row['type'])]\n",
    "        try:\n",
    "            value2 = other_row['value'].values[0]\n",
    "        except IndexError:\n",
    "            # print(f\"row: {row}\") \n",
    "            # print(f\"other: {other_row}\") \n",
    "            pass\n",
    "        if value1 > value2:\n",
    "            max_df = max_df.append(row, ignore_index=True)\n",
    "        else:\n",
    "            max_df = max_df.append(other_row, ignore_index=True)\n",
    "    best_instruction_dir = \"best_instructions\"\n",
    "    for i, row in max_df.iterrows():\n",
    "        results_dir = row['results_dir']\n",
    "        if row['type'] == \"oc\":\n",
    "            exp_type = \"object_control\"\n",
    "        elif row['type'] == \"poc\":\n",
    "            exp_type = \"passive_object_control\"\n",
    "        else:\n",
    "            exp_type = \"subject_control\" \n",
    "        model = re.sub(\"-\", \"_\", row['model'])\n",
    "        model = re.sub(\"_qa\", \"\", model)\n",
    "        model = re.sub(\"_large\", \"\", model)\n",
    "        instruction_dir = row['instruction_dir']\n",
    "        src_path = f\"../{instruction_dir}/{results_dir}/{model}_{exp_type}.csv\"\n",
    "        out_path = f\"../{best_instruction_dir}/{results_dir}/{model}_{exp_type}.csv\"\n",
    "        subprocess.Popen([\"cp\", src_path, out_path])\n",
    "    return df, max_df\n",
    "\n",
    "def recompute_all(instruction_dir, results_dir):\n",
    "    pathlib.Path(f\"../{instruction_dir}/{results_dir}_to_plot\").mkdir(exist_ok=True)\n",
    "    names = [\"gpt\", \"gpt-neo-1.3b\", \"gpt-neo-2.7b\", \"gpt-j\", \"jurassic-large\", \"jurassic-jumbo\", \"t5_qa\", \"t0\"]\n",
    "    nicknames = json.load(open(\"../data/nicknames.json\"))\n",
    "    pre_oc_csvs = [\n",
    "     f\"../{instruction_dir}/{results_dir}/gpt_object_control.csv\", \n",
    "     f\"../{instruction_dir}/{results_dir}/gpt_neo_1.3b_object_control.csv\", \n",
    "     f\"../{instruction_dir}/{results_dir}/gpt_neo_2.7b_object_control.csv\", \n",
    "     f\"../{instruction_dir}/{results_dir}/gpt_j_object_control.csv\", \n",
    "     f\"../{instruction_dir}/{results_dir}/jurassic_object_control.csv\",\n",
    "     f\"../{instruction_dir}/{results_dir}/jurassic_jumbo_object_control.csv\", \n",
    "     f\"../{instruction_dir}/{results_dir}/t5_object_control.csv\",\n",
    "     f\"../{instruction_dir}/{results_dir}/t0_object_control.csv\"]\n",
    "\n",
    "    print(f\"recompute object control\")\n",
    "    oc_acc = recompute(pre_oc_csvs, names, nicknames, exp_name = \"object-control\", results_path=f\"{instruction_dir}/{results_dir}_to_plot\")   \n",
    "\n",
    "    pre_poc_csvs = [\n",
    "     f\"../{instruction_dir}/{results_dir}/gpt_passive_object_control.csv\", \n",
    "     f\"../{instruction_dir}/{results_dir}/gpt_neo_1.3b_passive_object_control.csv\", \n",
    "     f\"../{instruction_dir}/{results_dir}/gpt_neo_2.7b_passive_object_control.csv\", \n",
    "     f\"../{instruction_dir}/{results_dir}/gpt_j_passive_object_control.csv\", \n",
    "     f\"../{instruction_dir}/{results_dir}/jurassic_passive_object_control.csv\",\n",
    "     f\"../{instruction_dir}/{results_dir}/jurassic_jumbo_passive_object_control.csv\", \n",
    "     f\"../{instruction_dir}/{results_dir}/t5_passive_object_control.csv\",\n",
    "     f\"../{instruction_dir}/{results_dir}/t0_passive_object_control.csv\"]\n",
    "    \n",
    "    print(f\"recompute passive object control\")\n",
    "    poc_acc = recompute(pre_poc_csvs, names, nicknames, exp_name = \"object-control-passive\", results_path=f\"{instruction_dir}/{results_dir}_to_plot\")   \n",
    "\n",
    "    pre_sc_csvs =  [\n",
    "     f\"../{instruction_dir}/{results_dir}/gpt_subject_control.csv\", \n",
    "     f\"../{instruction_dir}/{results_dir}/gpt_neo_1.3b_subject_control.csv\", \n",
    "     f\"../{instruction_dir}/{results_dir}/gpt_neo_2.7b_subject_control.csv\", \n",
    "     f\"../{instruction_dir}/{results_dir}/gpt_j_subject_control.csv\", \n",
    "     f\"../{instruction_dir}/{results_dir}/jurassic_subject_control.csv\",\n",
    "     f\"../{instruction_dir}/{results_dir}/jurassic_jumbo_subject_control.csv\", \n",
    "     f\"../{instruction_dir}/{results_dir}/t5_subject_control.csv\",\n",
    "     f\"../{instruction_dir}/{results_dir}/t0_subject_control.csv\"]\n",
    "\n",
    "    print(f\"recompute subject control\")\n",
    "    sc_acc = recompute(pre_sc_csvs, names, nicknames, exp_name = \"subject-control\", results_path=f\"{instruction_dir}/{results_dir}_to_plot\") \n",
    "    return oc_acc, poc_acc, sc_acc\n",
    "\n",
    "def plot_all(instruction_dir, results_dir, recompute=True, filtered=True, ignore_first_only = False):\n",
    "    if recompute:\n",
    "        print(f\"recomputing...\")\n",
    "        recompute_all(instruction_dir, results_dir)\n",
    "\n",
    "    oc_csvs=[\n",
    "        f\"../{instruction_dir}/{results_dir}_to_plot/gpt_object_control.csv\", \n",
    "        f\"../{instruction_dir}/{results_dir}_to_plot/gpt_neo_1.3b_object_control.csv\", \n",
    "        f\"../{instruction_dir}/{results_dir}_to_plot/gpt_neo_2.7b_object_control.csv\", \n",
    "        f\"../{instruction_dir}/{results_dir}_to_plot/gpt_j_object_control.csv\", \n",
    "        f\"../{instruction_dir}/{results_dir}_to_plot/jurassic_object_control.csv\", \n",
    "        f\"../{instruction_dir}/{results_dir}_to_plot/jurassic_jumbo_object_control.csv\", \n",
    "        f\"../{instruction_dir}/{results_dir}_to_plot/t5_object_control.csv\",\n",
    "        f\"../{instruction_dir}/{results_dir}_to_plot/t0_object_control.csv\"]\n",
    "\n",
    "    sc_csvs=[\n",
    "        f\"../{instruction_dir}/{results_dir}_to_plot/gpt_subject_control.csv\", \n",
    "        f\"../{instruction_dir}/{results_dir}_to_plot/gpt_neo_1.3b_subject_control.csv\",\n",
    "        f\"../{instruction_dir}/{results_dir}_to_plot/gpt_neo_2.7b_subject_control.csv\", \n",
    "        f\"../{instruction_dir}/{results_dir}_to_plot/gpt_j_subject_control.csv\",\n",
    "        f\"../{instruction_dir}/{results_dir}_to_plot/jurassic_subject_control.csv\", \n",
    "        f\"../{instruction_dir}/{results_dir}_to_plot/jurassic_jumbo_subject_control.csv\", \n",
    "        f\"../{instruction_dir}/{results_dir}_to_plot/t5_subject_control.csv\",\n",
    "        f\"../{instruction_dir}/{results_dir}_to_plot/t0_subject_control.csv\"]\n",
    "\n",
    "    poc_csvs=[\n",
    "        f\"../{instruction_dir}/{results_dir}_to_plot/gpt_passive_object_control.csv\", \n",
    "        f\"../{instruction_dir}/{results_dir}_to_plot/gpt_neo_1.3b_passive_object_control.csv\",\n",
    "        f\"../{instruction_dir}/{results_dir}_to_plot/gpt_neo_2.7b_passive_object_control.csv\",\n",
    "        f\"../{instruction_dir}/{results_dir}_to_plot/gpt_j_passive_object_control.csv\",\n",
    "        f\"../{instruction_dir}/{results_dir}_to_plot/jurassic_passive_object_control.csv\", \n",
    "        f\"../{instruction_dir}/{results_dir}_to_plot/jurassic_jumbo_passive_object_control.csv\", \n",
    "        f\"../{instruction_dir}/{results_dir}_to_plot/t5_passive_object_control.csv\",\n",
    "        f\"../{instruction_dir}/{results_dir}_to_plot/t0_passive_object_control.csv\"]\n",
    "\n",
    "    csv_data = {\"Object control\": oc_csvs, \"Passive object control\": poc_csvs, \"Subject control\": sc_csvs}\n",
    "    print(\"plotting...\")\n",
    "    g = barplot(csv_data, level=\"total\", x_name = \"type\", hue_name = \"model\", filtered=filtered, ignore_first_only=ignore_first_only)\n",
    "    g.figure.set_size_inches(9.5, 4.5)\n",
    "\n",
    "    sns.despine()"
   ]
  },
  {
   "cell_type": "code",
   "execution_count": null,
   "metadata": {},
   "outputs": [],
   "source": [
    "df, max_df = compute_max_over_instructions([\"with_instructions\", \"short_instructions\"], \"results\")"
   ]
  },
  {
   "cell_type": "code",
   "execution_count": null,
   "metadata": {},
   "outputs": [],
   "source": [
    "df, max_df = compute_max_over_instructions([\"with_instructions\", \"short_instructions\"], \"results_hacked\")"
   ]
  },
  {
   "cell_type": "code",
   "execution_count": null,
   "metadata": {},
   "outputs": [],
   "source": [
    "plot_all(\"with_instructions\", \"results\", recompute=True)\n",
    "plot_all(\"short_instructions\", \"results\", recompute=True)\n",
    "plot_all(\"best_instructions\", \"results\", recompute=True)"
   ]
  },
  {
   "cell_type": "code",
   "execution_count": 3,
   "metadata": {},
   "outputs": [
    {
     "name": "stdout",
     "output_type": "stream",
     "text": [
      "recomputing...\n",
      "recompute object control\n",
      "FileNotFound: ../with_instructions/results_hacked/t5_object_control.csv\n",
      "recompute passive object control\n",
      "FileNotFound: ../with_instructions/results_hacked/t5_passive_object_control.csv\n",
      "recompute subject control\n",
      "FileNotFound: ../with_instructions/results_hacked/t5_subject_control.csv\n",
      "plotting...\n",
      "Not found: ../with_instructions/results_hacked_to_plot/t5_object_control.csv\n",
      "Not found: ../with_instructions/results_hacked_to_plot/t5_passive_object_control.csv\n",
      "Not found: ../with_instructions/results_hacked_to_plot/t5_subject_control.csv\n"
     ]
    },
    {
     "data": {
      "image/png": "[encoded data removed]",
      "text/plain": [
       "<Figure size 684x324 with 3 Axes>"
      ]
     },
     "metadata": {
      "needs_background": "light"
     },
     "output_type": "display_data"
    }
   ],
   "source": [
    "plot_all(\"with_instructions\", \"results_hacked\", recompute=True)\n",
    "# plot_all(\"short_instructions\", \"results_hacked\", recompute=False)\n",
    "# plot_all(\"best_instructions\", \"results_hacked\", recompute=True)"
   ]
  },
  {
   "cell_type": "code",
   "execution_count": null,
   "metadata": {},
   "outputs": [],
   "source": [
    "plot_all(\"with_instructions\", \"results_just_prompt_agent\", recompute=True)\n",
    "plot_all(\"short_instructions\", \"results_just_prompt_agent\", recompute=True)"
   ]
  },
  {
   "cell_type": "code",
   "execution_count": null,
   "metadata": {},
   "outputs": [],
   "source": [
    "plot_all(\"with_instructions\", \"results_just_prompt_patient\", recompute=True)\n",
    "plot_all(\"short_instructions\", \"results_just_prompt_patient\", recompute=True)"
   ]
  },
  {
   "cell_type": "code",
   "execution_count": null,
   "metadata": {},
   "outputs": [],
   "source": []
  }
 ],
 "metadata": {
  "interpreter": {
   "hash": "ec6008f546f3cd66431ed7a4f2e2b63949ea9a2fd324a00b9368fd8a5a5333f5"
  },
  "kernelspec": {
   "display_name": "Python 3.7.11 64-bit ('openai': conda)",
   "language": "python",
   "name": "python3"
  },
  "language_info": {
   "codemirror_mode": {
    "name": "ipython",
    "version": 3
   },
   "file_extension": ".py",
   "mimetype": "text/x-python",
   "name": "python",
   "nbconvert_exporter": "python",
   "pygments_lexer": "ipython3",
   "version": "3.7.11"
  },
  "orig_nbformat": 4
 },
 "nbformat": 4,
 "nbformat_minor": 2
}
