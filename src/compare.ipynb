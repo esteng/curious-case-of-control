{
 "cells": [
  {
   "cell_type": "code",
   "execution_count": null,
   "metadata": {},
   "outputs": [],
   "source": [
    "from vis import execute_mcnemar_general"
   ]
  },
  {
   "cell_type": "markdown",
   "metadata": {},
   "source": [
    "# Comparisons Experiment 1-2\n",
    "\n",
    "1. Prompting decreases performance of GPT Neo 1.3 and 2.7, GPT-j, and Jurassic jumbo on subject control and passive object control\n",
    "2. Prompting improves performance of GPT Neo 1.3 and 2.7, GPT-j, and Jurassic jumbo on object control \n",
    "3. Prompting decreases performance of T0 slightly in object control and passive object control, but not significantly for subject control \n",
    "4. Prompting makes GPT-3 better at object control, stays same at subject control\n",
    "\n",
    "\n",
    "## Claim 1: after prompting, the performance of gpt_neo_1.3b, gpt_neo_2.7b, gpt_j, jurassic_jumbo on subject control and passives decreases significantly \n",
    "\n",
    "\n"
   ]
  },
  {
   "cell_type": "code",
   "execution_count": null,
   "metadata": {},
   "outputs": [],
   "source": [
    "# Passive object control \n",
    "\n",
    "# GPT_Neo_1.3b\n",
    "p_value, stat, table, __ = execute_mcnemar_general(\"gpt_neo_1.3b_before\", \"../best_instructions/results_to_plot/gpt_neo_1.3b_passive_object_control.csv\", \n",
    "                                            \"gpt_neo_1.3b_after\", \"../best_instructions/results_hacked_to_plot/gpt_neo_1.3b_passive_object_control.csv\")\n",
    "print(f\"gpt_neo_1.3b: {p_value: 0.3f}, stat: {stat}\")\n",
    "\n",
    "# gpt_neo_2.7b\n",
    "p_value, stat, table, __ = execute_mcnemar_general(\"gpt_neo_2.7b_before\", \"../best_instructions/results_to_plot/gpt_neo_2.7b_passive_object_control.csv\", \n",
    "                                            \"gpt_neo_2.7b_after\", \"../best_instructions/results_hacked_to_plot/gpt_neo_2.7b_passive_object_control.csv\")\n",
    "print(f\"gpt_neo_2.7b: {p_value: 0.3f}, stat: {stat}\")\n",
    "\n",
    "# gpt_j\n",
    "p_value, stat, table, __ = execute_mcnemar_general(\"gpt_j_before\", \"../best_instructions/results_to_plot/gpt_j_passive_object_control.csv\", \n",
    "                                               \"gpt_j_after\", \"../best_instructions/results_hacked_to_plot/gpt_j_passive_object_control.csv\")\n",
    "print(f\"gpt_j: {p_value: 0.3f}, stat: {stat}\") \n",
    "\n",
    "# jurassic_jumbo\n",
    "p_value, stat, table, __ = execute_mcnemar_general(\"jurassic_jumbo_before\", \"../best_instructions/results_to_plot/jurassic_jumbo_passive_object_control.csv\", \n",
    "                                                \"jurassic_jumbo_after\", \"../best_instructions/results_hacked_to_plot/jurassic_jumbo_passive_object_control.csv\")\n",
    "print(f\"jurassic_jumbo: {p_value: 0.3f}, stat: {stat}\")"
   ]
  },
  {
   "cell_type": "code",
   "execution_count": null,
   "metadata": {},
   "outputs": [],
   "source": [
    "\n",
    "# Subject control \n",
    "\n",
    "# GPT_Neo_1.3b\n",
    "p_value, stat, table, table_arr = execute_mcnemar_general(model1=\"gpt_neo_1.3b_before\", model1_path=\"../best_instructions/results_to_plot/gpt_neo_1.3b_subject_control.csv\", \n",
    "                                               model2=\"gpt_neo_1.3b_after\", model2_path=\"../best_instructions/results_hacked_to_plot/gpt_neo_1.3b_subject_control.csv\")\n",
    "print(f\"gpt_neo_1.3b: {p_value: 0.3f}, stat: {stat}\")\n",
    "\n",
    "# gpt_neo_2.7b\n",
    "p_value, stat, table, __ = execute_mcnemar_general(\"gpt_neo_2.7b_before\", \"../best_instructions/results_to_plot/gpt_neo_2.7b_subject_control.csv\", \n",
    "                                               \"gpt_neo_2.7b_after\", \"../best_instructions/results_hacked_to_plot/gpt_neo_2.7b_subject_control.csv\")\n",
    "print(f\"gpt_neo_2.7b: {p_value: 0.3f}, stat: {stat}\")\n",
    "\n",
    "# gpt_j\n",
    "p_value, stat, table, __ = execute_mcnemar_general(\"gpt_j_before\", \"../best_instructions/results_to_plot/gpt_j_subject_control.csv\", \n",
    "                                               \"gpt_j_after\", \"../best_instructions/results_hacked_to_plot/gpt_j_subject_control.csv\")\n",
    "print(f\"gpt_j: {p_value: 0.3f}, stat: {stat}\") \n",
    "\n",
    "# jurassic_jumbo\n",
    "p_value, stat, table, __ = execute_mcnemar_general(\"jurassic_jumbo_before\", \"../best_instructions/results_to_plot/jurassic_jumbo_subject_control.csv\", \n",
    "                                               \"jurassic_jumbo_after\", \"../best_instructions/results_hacked_to_plot/jurassic_jumbo_subject_control.csv\")\n",
    "print(f\"jurassic_jumbo: {p_value: 0.3f}, stat: {stat}\")"
   ]
  },
  {
   "cell_type": "markdown",
   "metadata": {},
   "source": [
    "## Summary: Claim 1\n",
    "All changes are significant except Jurassic-jumbo on subject control, which is reduced by not significantly "
   ]
  },
  {
   "cell_type": "markdown",
   "metadata": {},
   "source": [
    "\n",
    "## Claim 2: after prompting, the performance of gpt_neo_1.3b, gpt_neo_2.7b, gpt_j, jurassic_jumbo on object control increases "
   ]
  },
  {
   "cell_type": "code",
   "execution_count": null,
   "metadata": {},
   "outputs": [],
   "source": [
    "# Object control \n",
    "\n",
    "# GPT_Neo_1.3b\n",
    "p_value, stat, table, table_arr = execute_mcnemar_general(model1=\"gpt_neo_1.3b_before\", model1_path=\"../best_instructions/results_to_plot/gpt_neo_1.3b_object_control.csv\", \n",
    "                                               model2=\"gpt_neo_1.3b_after\", model2_path=\"../best_instructions/results_hacked_to_plot/gpt_neo_1.3b_object_control.csv\")\n",
    "print(f\"gpt_neo_1.3b: {p_value: 0.3f}, stat: {stat}\")\n",
    "\n",
    "# gpt_neo_2.7b\n",
    "p_value, stat, table, __ = execute_mcnemar_general(\"gpt_neo_2.7b_before\", \"../best_instructions/results_to_plot/gpt_neo_2.7b_object_control.csv\", \n",
    "                                               \"gpt_neo_2.7b_after\", \"../best_instructions/results_hacked_to_plot/gpt_neo_2.7b_object_control.csv\")\n",
    "print(f\"gpt_neo_2.7b: {p_value: 0.3f}, stat: {stat}\")\n",
    "\n",
    "# gpt_j\n",
    "p_value, stat, table, __ = execute_mcnemar_general(\"gpt_j_before\", \"../best_instructions/results_to_plot/gpt_j_object_control.csv\", \n",
    "                                               \"gpt_j_after\", \"../best_instructions/results_hacked_to_plot/gpt_j_object_control.csv\")\n",
    "print(f\"gpt_j: {p_value: 0.3f}, stat: {stat}\") \n",
    "\n",
    "# jurassic_jumbo\n",
    "p_value, stat, table, __ = execute_mcnemar_general(\"jurassic_jumbo_before\", \"../best_instructions/results_to_plot/jurassic_jumbo_object_control.csv\", \n",
    "                                               \"jurassic_jumbo_after\", \"../best_instructions/results_hacked_to_plot/jurassic_jumbo_object_control.csv\")\n",
    "print(f\"jurassic_jumbo: {p_value: 0.3f}, stat: {stat}\")"
   ]
  },
  {
   "cell_type": "markdown",
   "metadata": {},
   "source": [
    "## Summary: Claim 2\n",
    "all increases are significant "
   ]
  },
  {
   "cell_type": "markdown",
   "metadata": {},
   "source": [
    "## Claim 3: T0 decreases slightly in object control and passive object control, roughly the same in subject control "
   ]
  },
  {
   "cell_type": "code",
   "execution_count": null,
   "metadata": {},
   "outputs": [],
   "source": [
    "# Object control \n",
    "\n",
    "# t0\n",
    "p_value, stat, table, table_arr = execute_mcnemar_general(model1=\"t0_before\", model1_path=\"../best_instructions/results_to_plot/t0_object_control.csv\", \n",
    "                                               model2=\"t0_after\", model2_path=\"../best_instructions/results_hacked_to_plot/t0_object_control.csv\")\n",
    "print(f\"t0 object control: {p_value: 0.3f}, stat: {stat}\")\n",
    "\n",
    "p_value, stat, table, table_arr = execute_mcnemar_general(model1=\"t0_before\", model1_path=\"../best_instructions/results_to_plot/t0_passive_object_control.csv\", \n",
    "                                               model2=\"t0_after\", model2_path=\"../best_instructions/results_hacked_to_plot/t0_passive_object_control.csv\")\n",
    "print(f\"t0 passive object control: {p_value: 0.3f}, stat: {stat}\")\n",
    "\n",
    "p_value, stat, table, table_arr = execute_mcnemar_general(model1=\"t0_before\", model1_path=\"../best_instructions/results_to_plot/t0_subject_control.csv\", \n",
    "                                               model2=\"t0_after\", model2_path=\"../best_instructions/results_hacked_to_plot/t0_subject_control.csv\")\n",
    "print(f\"t0 subject control: {p_value: 0.3f}, stat: {stat}\")\n",
    "\n"
   ]
  },
  {
   "cell_type": "markdown",
   "metadata": {},
   "source": [
    "## Summary: Claim 3\n",
    "decreases are significnant in object and passive object control, no significant difference for subject control "
   ]
  },
  {
   "cell_type": "markdown",
   "metadata": {},
   "source": [
    "## Claim 4: GPT-3 gets better at object control, stays same at subject control \n"
   ]
  },
  {
   "cell_type": "code",
   "execution_count": null,
   "metadata": {},
   "outputs": [],
   "source": [
    "\n",
    "\n",
    "p_value, stat, table, table_arr = execute_mcnemar_general(model1=\"gpt_3_before\", model1_path=\"../best_instructions/results_to_plot/gpt_object_control.csv\", \n",
    "                                               model2=\"gpt_3_after\", model2_path=\"../best_instructions/results_hacked_to_plot/gpt_object_control.csv\")\n",
    "print(f\"gpt3 object control: {p_value: 0.3f}, stat: {stat}\")\n",
    "\n",
    "p_value, stat, table, table_arr = execute_mcnemar_general(model1=\"gpt_3_before\", model1_path=\"../best_instructions/results_to_plot/gpt_subject_control.csv\", \n",
    "                                               model2=\"gpt_3_after\", model2_path=\"../best_instructions/results_hacked_to_plot/gpt_subject_control.csv\")\n",
    "print(f\"gpt3 object control: {p_value: 0.3f}, stat: {stat}\")\n"
   ]
  },
  {
   "cell_type": "markdown",
   "metadata": {},
   "source": [
    "## Summary: Claim 4 \n",
    "GPT-3 increases significantly for object control, and the subject control accuracy stays at 100% "
   ]
  },
  {
   "cell_type": "markdown",
   "metadata": {},
   "source": [
    "# Further observations \n",
    "1. In the unhacked setting, GPT-3 is different from Jurassic Jumbo on all settings (object control, passive object control, subject control)\n",
    "2. In the unhacked setting, GPT-3 is different from GPT-Neo's, GPT-j (except GPT-j subject control, obviously)\n",
    "3. In the unhacked setting, GPT-j is significantly better than gpt-neo-1.3 \n",
    "4. Jurassic jumbo is significantly higher on passive object control and subject control than jurassic large "
   ]
  },
  {
   "cell_type": "markdown",
   "metadata": {},
   "source": [
    "## Claim 1: GPT-3 is different from Jurassic Jumbo on all settings (object control, passive object control, subject control)\n",
    "Better in object control, subject control, worse in passive object control "
   ]
  },
  {
   "cell_type": "code",
   "execution_count": null,
   "metadata": {},
   "outputs": [],
   "source": [
    "# object control \n",
    "p_value, stat, table, table_arr = execute_mcnemar_general(model1=\"gpt_3\", model1_path=\"../best_instructions/results_to_plot/gpt_object_control.csv\", \n",
    "                                               model2=\"jurassic_jumbo\", model2_path=\"../best_instructions/results_to_plot/jurassic_jumbo_object_control.csv\")\n",
    "print(f\"gpt3 vs jurassic_jumbo object control: {p_value: 0.3f}, stat: {stat}\")\n",
    "\n",
    "# passive object control \n",
    "p_value, stat, table, table_arr = execute_mcnemar_general(model1=\"gpt_3\", model1_path=\"../best_instructions/results_to_plot/gpt_passive_object_control.csv\", \n",
    "                                               model2=\"jurassic_jumbo\", model2_path=\"../best_instructions/results_to_plot/jurassic_jumbo_passive_object_control.csv\")\n",
    "print(f\"gpt3 vs jurassic_jumbo passive object control: {p_value: 0.3f}, stat: {stat}\")\n",
    "\n",
    "# subject control\n",
    "p_value, stat, table, table_arr = execute_mcnemar_general(model1=\"gpt_3\", model1_path=\"../best_instructions/results_to_plot/gpt_subject_control.csv\", \n",
    "                                               model2=\"jurassic_jumbo\", model2_path=\"../best_instructions/results_to_plot/jurassic_jumbo_subject_control.csv\")\n",
    "print(f\"gpt3 vs jurassic_jumbo subject control: {p_value: 0.3f}, stat: {stat}\")"
   ]
  },
  {
   "cell_type": "markdown",
   "metadata": {},
   "source": [
    "## Summary: Claim 1:\n",
    "GPT 3 is significantly better at object control, significantly worse at passive object control, and not significantly different on subject control "
   ]
  },
  {
   "cell_type": "markdown",
   "metadata": {},
   "source": [
    "## Claim 2:  GPT-3 is different from GPT-Neo's, GPT-j \n",
    "- (except GPT-j subject control, obviously)"
   ]
  },
  {
   "cell_type": "code",
   "execution_count": null,
   "metadata": {},
   "outputs": [],
   "source": [
    "# object control \n",
    "p_value, stat, table, table_arr = execute_mcnemar_general(model1=\"gpt_3\", model1_path=\"../best_instructions/results_to_plot/gpt_object_control.csv\", \n",
    "                                               model2=\"gpt_neo_1.3b\", model2_path=\"../best_instructions/results_to_plot/gpt_neo_1.3b_object_control.csv\")\n",
    "print(f\"gpt3 vs gpt_neo_1.3b object control: {p_value: 0.3f}, stat: {stat}\")\n",
    "\n",
    "# passive object control \n",
    "p_value, stat, table, table_arr = execute_mcnemar_general(model1=\"gpt_3\", model1_path=\"../best_instructions/results_to_plot/gpt_passive_object_control.csv\", \n",
    "                                               model2=\"gpt_neo_1.3b\", model2_path=\"../best_instructions/results_to_plot/gpt_neo_1.3b_passive_object_control.csv\")\n",
    "print(f\"gpt3 vs gpt_neo_1.3b passive object control: {p_value: 0.3f}, stat: {stat}\")\n",
    "\n",
    "# subject control\n",
    "p_value, stat, table, table_arr = execute_mcnemar_general(model1=\"gpt_3\", model1_path=\"../best_instructions/results_to_plot/gpt_subject_control.csv\", \n",
    "                                               model2=\"gpt_neo_1.3b\", model2_path=\"../best_instructions/results_to_plot/gpt_neo_1.3b_subject_control.csv\")\n",
    "print(f\"gpt3 vs gpt_neo_1.3b subject control: {p_value: 0.3f}, stat: {stat}\")"
   ]
  },
  {
   "cell_type": "code",
   "execution_count": null,
   "metadata": {},
   "outputs": [],
   "source": [
    "# object control \n",
    "p_value, stat, table, table_arr = execute_mcnemar_general(model1=\"gpt_3\", model1_path=\"../best_instructions/results_to_plot/gpt_object_control.csv\", \n",
    "                                               model2=\"gpt_neo_2.7b\", model2_path=\"../best_instructions/results_to_plot/gpt_neo_2.7b_object_control.csv\")\n",
    "print(f\"gpt3 vs gpt_neo_2.7b object control: {p_value: 0.3f}, stat: {stat}\")\n",
    "\n",
    "# passive object control \n",
    "p_value, stat, table, table_arr = execute_mcnemar_general(model1=\"gpt_3\", model1_path=\"../best_instructions/results_to_plot/gpt_passive_object_control.csv\", \n",
    "                                               model2=\"gpt_neo_2.7b\", model2_path=\"../best_instructions/results_to_plot/gpt_neo_2.7b_passive_object_control.csv\")\n",
    "print(f\"gpt3 vs gpt_neo_2.7b passive object control: {p_value: 0.3f}, stat: {stat}\")\n",
    "\n",
    "# subject control\n",
    "p_value, stat, table, table_arr = execute_mcnemar_general(model1=\"gpt_3\", model1_path=\"../best_instructions/results_to_plot/gpt_subject_control.csv\", \n",
    "                                               model2=\"gpt_neo_2.7b\", model2_path=\"../best_instructions/results_to_plot/gpt_neo_2.7b_subject_control.csv\")\n",
    "print(f\"gpt3 vs gpt_neo_2.7b subject control: {p_value: 0.3f}, stat: {stat}\")"
   ]
  },
  {
   "cell_type": "code",
   "execution_count": null,
   "metadata": {},
   "outputs": [],
   "source": [
    "# object control \n",
    "p_value, stat, table, table_arr = execute_mcnemar_general(model1=\"gpt_3\", model1_path=\"../best_instructions/results_to_plot/gpt_object_control.csv\", \n",
    "                                               model2=\"gpt_j\", model2_path=\"../best_instructions/results_to_plot/gpt_j_object_control.csv\")\n",
    "print(f\"gpt3 vs gpt_j object control: {p_value: 0.3f}, stat: {stat}\")\n",
    "\n",
    "# passive object control \n",
    "p_value, stat, table, table_arr = execute_mcnemar_general(model1=\"gpt_3\", model1_path=\"../best_instructions/results_to_plot/gpt_passive_object_control.csv\", \n",
    "                                               model2=\"gpt_j\", model2_path=\"../best_instructions/results_to_plot/gpt_j_passive_object_control.csv\")\n",
    "print(f\"gpt3 vs gpt_j passive object control: {p_value: 0.3f}, stat: {stat}\")\n",
    "\n",
    "# subject control\n",
    "p_value, stat, table, table_arr = execute_mcnemar_general(model1=\"gpt_3\", model1_path=\"../best_instructions/results_to_plot/gpt_subject_control.csv\", \n",
    "                                               model2=\"gpt_j\", model2_path=\"../best_instructions/results_to_plot/gpt_j_subject_control.csv\")\n",
    "print(f\"gpt3 vs gpt_j subject control: {p_value: 0.3f}, stat: {stat}\")"
   ]
  },
  {
   "cell_type": "markdown",
   "metadata": {},
   "source": [
    "## Summary: Claim 2\n",
    "- gpt3 is different from gpt-neo-1.3b on object control\n",
    "- gpt3 is different from gpt-neo-2.7b and gpt-j on object control, passive object control\n"
   ]
  },
  {
   "cell_type": "markdown",
   "metadata": {},
   "source": [
    "## Claim 3: GPT-J is significantly better than gpt_neo_1.3b\n",
    "\n",
    "\n"
   ]
  },
  {
   "cell_type": "code",
   "execution_count": null,
   "metadata": {},
   "outputs": [],
   "source": [
    "# object control \n",
    "p_value, stat, table, table_arr = execute_mcnemar_general(model1=\"gpt_neo_1.3b\", model1_path=\"../best_instructions/results_to_plot/gpt_neo_1.3b_object_control.csv\", \n",
    "                                               model2=\"gpt_j\", model2_path=\"../best_instructions/results_to_plot/gpt_j_object_control.csv\")\n",
    "print(f\"gpt_neo_1.3b vs gpt_j object control: {p_value: 0.3f}, stat: {stat}\")\n",
    "\n",
    "# passive object control \n",
    "p_value, stat, table, table_arr = execute_mcnemar_general(model1=\"gpt_neo_1.3b\", model1_path=\"../best_instructions/results_to_plot/gpt_neo_1.3b_passive_object_control.csv\", \n",
    "                                               model2=\"gpt_j\", model2_path=\"../best_instructions/results_to_plot/gpt_j_passive_object_control.csv\")\n",
    "print(f\"gpt_neo_1.3b vs gpt_j passive object control: {p_value: 0.3f}, stat: {stat}\")\n",
    "\n",
    "# subject control\n",
    "p_value, stat, table, table_arr = execute_mcnemar_general(model1=\"gpt_neo_1.3b\", model1_path=\"../best_instructions/results_to_plot/gpt_neo_1.3b_subject_control.csv\", \n",
    "                                               model2=\"gpt_j\", model2_path=\"../best_instructions/results_to_plot/gpt_j_subject_control.csv\")\n",
    "print(f\"gpt_neo_1.3b vs gpt_j subject control: {p_value: 0.3f}, stat: {stat}\")"
   ]
  },
  {
   "cell_type": "markdown",
   "metadata": {},
   "source": [
    "## Summary: Claim 3\n",
    "- yes "
   ]
  },
  {
   "cell_type": "markdown",
   "metadata": {},
   "source": [
    "## Claim 4:  Jurassic jumbo is significantly higher on passive object control and subject control than jurassic large "
   ]
  },
  {
   "cell_type": "code",
   "execution_count": null,
   "metadata": {},
   "outputs": [],
   "source": [
    "\n",
    "\n",
    "# passive object control \n",
    "p_value, stat, table, table_arr = execute_mcnemar_general(model1=\"jurassic\", model1_path=\"../best_instructions/results_to_plot/jurassic_passive_object_control.csv\", \n",
    "                                               model2=\"jurassic_jumbo\", model2_path=\"../best_instructions/results_to_plot/jurassic_jumbo_passive_object_control.csv\")\n",
    "print(f\"jurassic vs jurassic_jumbo passive object control: {p_value: 0.3f}, stat: {stat}\")\n",
    "\n",
    "# subject control\n",
    "p_value, stat, table, table_arr = execute_mcnemar_general(model1=\"jurassic\", model1_path=\"../best_instructions/results_to_plot/jurassic_subject_control.csv\", \n",
    "                                               model2=\"jurassic_jumbo\", model2_path=\"../best_instructions/results_to_plot/jurassic_jumbo_subject_control.csv\")\n",
    "print(f\"jurassicvs jurassic_jumbo subject control: {p_value: 0.3f}, stat: {stat}\")"
   ]
  }
 ],
 "metadata": {
  "interpreter": {
   "hash": "3121ba8541e67f7e839f305684ea3814f59c71974b3238c74aa3730a425f63bc"
  },
  "kernelspec": {
   "display_name": "Python 3.7.11 64-bit ('openai': conda)",
   "language": "python",
   "name": "python3"
  },
  "language_info": {
   "codemirror_mode": {
    "name": "ipython",
    "version": 3
   },
   "file_extension": ".py",
   "mimetype": "text/x-python",
   "name": "python",
   "nbconvert_exporter": "python",
   "pygments_lexer": "ipython3",
   "version": "3.7.11"
  },
  "orig_nbformat": 4
 },
 "nbformat": 4,
 "nbformat_minor": 2
}
