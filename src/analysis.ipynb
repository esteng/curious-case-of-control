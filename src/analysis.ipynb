{
 "cells": [
  {
   "cell_type": "code",
   "execution_count": 1,
   "metadata": {},
   "outputs": [],
   "source": [
    "import pandas as pd\n",
    "\n",
    "from metrics import accuracy_report"
   ]
  },
  {
   "cell_type": "code",
   "execution_count": null,
   "metadata": {},
   "outputs": [],
   "source": [
    "csvs=[\"../results_to_plot/gpt_object_control_swap_names.csv\", \n",
    "     \"../results_to_plot/gpt_neo_1.3B_object_control.csv\", \n",
    "     \"../results_to_plot/gpt_neo_2.7b_object_control.csv\", \n",
    "     \"../results_to_plot/gpt_j_object_control.csv\", \n",
    "     \"../results_to_plot/jurassic_object_control_swap_names.csv\", \n",
    "     \"../results_to_plot/t5_qa_object_control.csv\",\n",
    "     \"../results_to_plot/t0_object_control.csv\"]\n",
    "\n",
    "\n",
    "\n",
    "all_dfs = []\n",
    "for csv in csvs:\n",
    "    df = pd.read_csv(csv)\n",
    "    print(csv, len(df))\n",
    "    all_dfs.append(df)\n",
    "\n",
    "reports = [accuracy_report(df) for df in all_dfs]     "
   ]
  },
  {
   "cell_type": "code",
   "execution_count": null,
   "metadata": {},
   "outputs": [],
   "source": [
    "import numpy as np\n",
    "import seaborn as sns \n",
    "from matplotlib import pyplot as plt \n",
    "\n",
    "fig, ax = plt.subplots(len(all_dfs),1, figsize=(6,5*len(all_dfs)))\n",
    "    \n",
    "    \n",
    "\n",
    "for i in range(len(all_dfs)):\n",
    "    df = all_dfs[i]\n",
    "    report = reports[i]\n",
    "    model = df['model'][0]\n",
    "\n",
    "\n",
    "    all_name1s = sorted(list(set(df['name1'])))\n",
    "    heatmap_data = np.zeros((len(all_name1s), len(all_name1s)))\n",
    "\n",
    "    name_to_idx = {n:i for i, n in enumerate(all_name1s)}\n",
    "    idx_to_name = {i:n for n, i in name_to_idx.items()}\n",
    "    for n1 in all_name1s:\n",
    "        for n2 in all_name1s:\n",
    "            key = f\"{n1},{n2}\"\n",
    "            acc, __, __, __ = report['acc_by_first_name'][key]\n",
    "            if acc == -1:\n",
    "                acc = 0 \n",
    "            heatmap_data[name_to_idx[n1], name_to_idx[n2]] = acc\n",
    "\n",
    "    sns.heatmap(heatmap_data, vmin = 0, vmax = 1.0, xticklabels= all_name1s, yticklabels=all_name1s, annot=True, ax=ax[i])\n",
    "    ax[i].set_title(model)\n"
   ]
  },
  {
   "cell_type": "code",
   "execution_count": null,
   "metadata": {},
   "outputs": [],
   "source": [
    "responses = df[df['name2'] == \"Nicole\"]['response']\n",
    "for r in responses:\n",
    "    print(r)"
   ]
  },
  {
   "cell_type": "code",
   "execution_count": 2,
   "metadata": {},
   "outputs": [
    {
     "name": "stdout",
     "output_type": "stream",
     "text": [
      "../results_professions_to_plot/gpt_neo_1.3b_object_control.csv 3000\n"
     ]
    }
   ],
   "source": [
    "\n",
    "# csvs=[\"../results_to_plot/gpt_object_control_swap_names.csv\", \n",
    "#      \"../results_to_plot/gpt_neo_1.3B_object_control.csv\", \n",
    "#      \"../results_to_plot/gpt_neo_2.7b_object_control.csv\", \n",
    "#      \"../results_to_plot/gpt_j_object_control.csv\", \n",
    "#      \"../results_to_plot/jurassic_object_control_swap_names.csv\", \n",
    "#      \"../results_to_plot/t5_qa_object_control.csv\",\n",
    "#      \"../results_to_plot/t0_object_control.csv\"]\n",
    "\n",
    "csvs = [\"../results_profession/gpt_neo_1.3b_object_control.csv\"]\n",
    "names = [\"gpt-neo-1.3b\"]\n",
    "import pandas as pd \n",
    "import json \n",
    "import pathlib \n",
    "from experiment import Experiment\n",
    "from metrics import accuracy_report\n",
    "prompt=None\n",
    "wrapper_fxn=None\n",
    "nicknames = json.load(open(\"../data/nicknames_professions.json\"))\n",
    "for name, csv in zip(names, csvs):\n",
    "    exp  = Experiment(name, \"object-control-passive\", prompt, wrapper_fxn, 1, None)\n",
    "    filename = pathlib.Path(csv).name\n",
    "    exp.recover(csv)\n",
    "    exp.recompute(nicknames)\n",
    "    df = exp.format_results()\n",
    "    df.to_csv(f\"../results_professions_to_plot/{filename}\")\n",
    "\n",
    "all_dfs = []\n",
    "csvs = [\"../results_professions_to_plot/gpt_neo_1.3b_object_control.csv\"]\n",
    "for csv in csvs:\n",
    "    df = pd.read_csv(csv)\n",
    "    print(csv, len(df))\n",
    "    all_dfs.append(df)\n",
    "\n",
    "\n",
    "\n",
    "reports = [accuracy_report(df) for df in all_dfs]   \n",
    "  "
   ]
  },
  {
   "cell_type": "code",
   "execution_count": 4,
   "metadata": {},
   "outputs": [
    {
     "name": "stdout",
     "output_type": "stream",
     "text": [
      "{'the janitor,the writer': (0.0, 200, 0.0, 200), 'the janitor,the bartender': (0.0, 200, 0.0, 200), 'the janitor,the lawyer': (0.0, 200, 0.0, 200), 'the janitor,the engineer': (0.0, 200, 0.0, 200), 'the janitor,the doctor': (0.0, 200, 0.0, 200), 'the writer,the bartender': (0.565, 200, 0.565, 200), 'the writer,the lawyer': (0.54, 200, 0.54, 200), 'the writer,the engineer': (0.6, 200, 0.6, 200), 'the writer,the doctor': (0.575, 200, 0.575, 200), 'the bartender,the lawyer': (0.5, 200, 0.5, 200), 'the bartender,the engineer': (0.56, 200, 0.56, 200), 'the bartender,the doctor': (0.61, 200, 0.61, 200), 'the lawyer,the engineer': (0.58, 200, 0.58, 200), 'the lawyer,the doctor': (0.5, 200, 0.5, 200), 'the engineer,the doctor': (0.5, 200, 0.5, 200)}\n"
     ]
    }
   ],
   "source": [
    "print(reports[0]['acc_by_name'])"
   ]
  },
  {
   "cell_type": "code",
   "execution_count": null,
   "metadata": {},
   "outputs": [],
   "source": []
  }
 ],
 "metadata": {
  "interpreter": {
   "hash": "ec6008f546f3cd66431ed7a4f2e2b63949ea9a2fd324a00b9368fd8a5a5333f5"
  },
  "kernelspec": {
   "display_name": "Python 3.7.11 64-bit ('openai': conda)",
   "language": "python",
   "name": "python3"
  },
  "language_info": {
   "codemirror_mode": {
    "name": "ipython",
    "version": 3
   },
   "file_extension": ".py",
   "mimetype": "text/x-python",
   "name": "python",
   "nbconvert_exporter": "python",
   "pygments_lexer": "ipython3",
   "version": "3.7.11"
  },
  "orig_nbformat": 4
 },
 "nbformat": 4,
 "nbformat_minor": 2
}
