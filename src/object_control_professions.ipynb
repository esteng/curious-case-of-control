{
 "cells": [
  {
   "cell_type": "code",
   "execution_count": 1,
   "metadata": {},
   "outputs": [],
   "source": [
    "import json\n",
    "import pandas as pd \n",
    "\n",
    "from experiment import Experiment\n",
    "from api_tools import (FixedGPTPrompt, \n",
    "                       FixedPassiveGPTPrompt, \n",
    "                       FixedT5Prompt, \n",
    "                       FixedPassiveT5Prompt, \n",
    "                       run_ai21_prompt, \n",
    "                       run_gpt_prompt, \n",
    "                       run_t5_prompt)\n",
    "\n",
    "from metrics import accuracy_report\n"
   ]
  },
  {
   "cell_type": "markdown",
   "metadata": {},
   "source": [
    "# Object Control\n",
    "Starting with the object control experiments, we will look at how 4 LMs do:\n",
    "1. GPT3\n",
    "2. T5 for QA \n",
    "3. Jurassic large \n",
    "4. Jurassic Jumbo\n",
    "\n",
    "## Experimental settings\n",
    "We're looking at different name pairs to control for gender. We have 2 male-female name pairs, 1 male-male pair, 1 female-female pair, and 1 neutral-neutral. \n",
    "We're also looking at 10 object control verbs and 5 different actions. "
   ]
  },
  {
   "cell_type": "code",
   "execution_count": 2,
   "metadata": {},
   "outputs": [],
   "source": [
    "names = json.load(open(\"../data/professions.json\"))\n",
    "verbs = [\"told\", \"ordered\", \"called upon\", \"reminded\", \"urged\", \"asked\", \"persuaded\", \"convinced\", \"forced\", \"pushed\"]\n",
    "actions = json.load(open(\"../data/verbs.json\"))\n",
    "correct_index = 0\n",
    "\n",
    "nicknames = json.load(open(\"../data/nicknames_professions.json\"))"
   ]
  },
  {
   "cell_type": "markdown",
   "metadata": {},
   "source": [
    "## GPT 3\n",
    " "
   ]
  },
  {
   "cell_type": "code",
   "execution_count": null,
   "metadata": {},
   "outputs": [],
   "source": [
    "gpt_kwargs = {\"max_tokens\": 4, \"temperature\": 0.0}\n",
    "gpt_object_control_experiment  = Experiment(\"gpt3\", \"object-control\", FixedGPTPrompt, run_gpt_prompt, 1, gpt_kwargs)\n",
    "gpt_object_control_experiment.run(names, correct_index, verbs, actions, nicknames=nicknames) \n",
    "gpt_df = gpt_object_control_experiment.format_results()\n",
    "gpt_df.to_csv(\"../results_profession/gpt_object_control_swap_names.csv\")"
   ]
  },
  {
   "cell_type": "code",
   "execution_count": null,
   "metadata": {},
   "outputs": [],
   "source": [
    "accuracy_report(gpt_df)"
   ]
  },
  {
   "cell_type": "markdown",
   "metadata": {},
   "source": [
    "## Jurassic Large"
   ]
  },
  {
   "cell_type": "code",
   "execution_count": null,
   "metadata": {},
   "outputs": [],
   "source": [
    "\n",
    "jurassic_kwargs = {\"maxTokens\": 2, \"temperature\": 0.0}\n",
    "jurassic_object_control_experiment  = Experiment(\"jurassic-large\", \"object-control\", FixedGPTPrompt, run_ai21_prompt, 1, jurassic_kwargs)\n",
    "jurassic_object_control_experiment.run(names, correct_index, verbs, actions, nicknames=nicknames)\n",
    "jurassic_df = jurassic_object_control_experiment.format_results()\n",
    "jurassic_df.to_csv(\"../results_profession/jurassic_object_control_swap_names.csv\")"
   ]
  },
  {
   "cell_type": "code",
   "execution_count": null,
   "metadata": {},
   "outputs": [],
   "source": [
    "accuracy_report(jurassic_df)"
   ]
  },
  {
   "cell_type": "markdown",
   "metadata": {},
   "source": [
    "## Jurassic Jumbo"
   ]
  },
  {
   "cell_type": "code",
   "execution_count": null,
   "metadata": {},
   "outputs": [],
   "source": [
    "from api_tools import run_ai21_jumbo_prompt\n",
    "\n",
    "jurassic_kwargs = {\"maxTokens\": 2, \"temperature\": 0.0}\n",
    "jurassic_jumbo_object_control_experiment  = Experiment(\"jurassic-jumbo\", \"object-control\", FixedGPTPrompt, run_ai21_jumbo_prompt, 1, jurassic_kwargs)\n",
    "jurassic_jumbo_object_control_experiment.recover(\"../results_profession/jurassic_jumbo_object_control.csv\")\n",
    "\n",
    "jurassic_jumbo_object_control_experiment.run(names, correct_index, verbs, actions, nicknames=nicknames, do_swap=True, rate_limit_delay=60, rate_limit_count=19)\n",
    "jurassic_jumbo_df = jurassic_jumbo_object_control_experiment.format_results()\n",
    "\n",
    "jurassic_jumbo_df.to_csv(\"../results_profession/jurassic_jumbo_object_control.csv\")\n"
   ]
  },
  {
   "cell_type": "code",
   "execution_count": null,
   "metadata": {},
   "outputs": [],
   "source": [
    "accuracy_report(jurassic_jumbo_df)"
   ]
  },
  {
   "cell_type": "markdown",
   "metadata": {},
   "source": [
    "# Passives \n",
    "\n",
    "The passive form reverses the order and also syntactic role of the agent/patient. E.g. \n",
    "\n",
    "- Mary told Tom to wipe the counter \n",
    "- Tom was told by Mary to wipe the counter \n",
    "\n",
    "Now Tom is linearly further away from \"wipe\" and also the grammatical subject of the matrix clause (though still the patient) "
   ]
  },
  {
   "cell_type": "code",
   "execution_count": 3,
   "metadata": {},
   "outputs": [],
   "source": [
    "correct_index = 0 "
   ]
  },
  {
   "cell_type": "markdown",
   "metadata": {},
   "source": [
    "## GPT3 Passive"
   ]
  },
  {
   "cell_type": "code",
   "execution_count": 4,
   "metadata": {},
   "outputs": [
    {
     "name": "stderr",
     "output_type": "stream",
     "text": [
      "100%|██████████| 30/30 [1:02:08<00:00, 124.30s/it]\n"
     ]
    }
   ],
   "source": [
    "\n",
    "gpt_kwargs = {\"max_tokens\": 4, \"temperature\": 0.0}\n",
    "passive_gpt_object_control_experiment  = Experiment(\"gpt3\", \"object-control-passive\", FixedPassiveGPTPrompt, run_gpt_prompt, 1, gpt_kwargs) \n",
    "passive_gpt_object_control_experiment.run(names, correct_index, verbs, actions, nicknames=nicknames)\n",
    "passive_gpt_df = passive_gpt_object_control_experiment.format_results()\n",
    "passive_gpt_df.to_csv(\"../results_profession/gpt_passive_object_control_swap_names.csv\")"
   ]
  },
  {
   "cell_type": "code",
   "execution_count": null,
   "metadata": {},
   "outputs": [],
   "source": [
    "accuracy_report(passive_gpt_df)"
   ]
  },
  {
   "cell_type": "markdown",
   "metadata": {},
   "source": [
    "## Jurassic Large Passive"
   ]
  },
  {
   "cell_type": "code",
   "execution_count": null,
   "metadata": {},
   "outputs": [],
   "source": [
    "jurassic_kwargs = {\"maxTokens\": 4, \"temperature\": 0.0}\n",
    "passive_jurassic_object_control_experiment  = Experiment(\"jurassic-large\", \"object-control-passive\", FixedPassiveGPTPrompt, run_ai21_prompt, 1, jurassic_kwargs)\n",
    "passive_jurassic_object_control_experiment.run(names, correct_index, verbs, actions, nicknames=nicknames)\n",
    "passive_jurassic_df = passive_jurassic_object_control_experiment.format_results()\n",
    "passive_jurassic_df.to_csv(\"../results_profession/jurassic_passive_object_control_swap_names.csv\")"
   ]
  },
  {
   "cell_type": "code",
   "execution_count": null,
   "metadata": {},
   "outputs": [],
   "source": [
    "accuracy_report(passive_jurassic_df)"
   ]
  },
  {
   "cell_type": "code",
   "execution_count": null,
   "metadata": {},
   "outputs": [],
   "source": []
  },
  {
   "cell_type": "markdown",
   "metadata": {},
   "source": [
    "## Jurassic Jumbo Passive"
   ]
  },
  {
   "cell_type": "code",
   "execution_count": null,
   "metadata": {},
   "outputs": [],
   "source": [
    "from api_tools import run_ai21_jumbo_prompt\n",
    "\n",
    "jurassic_kwargs = {\"maxTokens\": 4, \"temperature\": 0.0}\n",
    "passive_jurassic_jumbo_object_control_experiment  = Experiment(\"jurassic-jumbo\", \"object-control\", FixedGPTPrompt, run_ai21_jumbo_prompt, 1, jurassic_kwargs)\n",
    "\n",
    "passive_jurassic_jumbo_object_control_experiment.run(names, correct_index, verbs, actions, nicknames=nicknames, do_swap=True, rate_limit_delay=60, rate_limit_count=19)\n",
    "passive_jurassic_jumbo_df = passive_jurassic_jumbo_object_control_experiment.format_results()\n",
    "\n",
    "passive_jurassic_jumbo_df.to_csv(\"../results_profession/jurassic_jumbo_passive_object_control.csv\")\n"
   ]
  },
  {
   "cell_type": "code",
   "execution_count": null,
   "metadata": {},
   "outputs": [],
   "source": []
  }
 ],
 "metadata": {
  "interpreter": {
   "hash": "ec6008f546f3cd66431ed7a4f2e2b63949ea9a2fd324a00b9368fd8a5a5333f5"
  },
  "kernelspec": {
   "display_name": "Python 3.7.11 64-bit ('openai': conda)",
   "language": "python",
   "name": "python3"
  },
  "language_info": {
   "codemirror_mode": {
    "name": "ipython",
    "version": 3
   },
   "file_extension": ".py",
   "mimetype": "text/x-python",
   "name": "python",
   "nbconvert_exporter": "python",
   "pygments_lexer": "ipython3",
   "version": "3.7.11"
  },
  "orig_nbformat": 4
 },
 "nbformat": 4,
 "nbformat_minor": 2
}
