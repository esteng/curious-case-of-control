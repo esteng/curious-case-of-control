{
 "cells": [
  {
   "cell_type": "code",
   "execution_count": 1,
   "metadata": {},
   "outputs": [],
   "source": [
    "import pandas as pd \n",
    "\n",
    "from experiment import Experiment\n",
    "from api_tools import (FixedGPTPrompt, \n",
    "                       FixedPassiveGPTPrompt, \n",
    "                       FixedT5Prompt, \n",
    "                       FixedPassiveT5Prompt, \n",
    "                       run_ai21_prompt, \n",
    "                       run_gpt_prompt, \n",
    "                       run_t5_prompt)\n",
    "\n",
    "from metrics import accuracy_report\n"
   ]
  },
  {
   "cell_type": "markdown",
   "metadata": {},
   "source": [
    "# Object Control\n",
    "Starting with the object control experiments, we will look at how 4 LMs do:\n",
    "1. GPT3\n",
    "2. T5 for QA \n",
    "3. Jurassic large \n",
    "4. Jurassic Jumbo\n",
    "\n",
    "## Experimental settings\n",
    "We're looking at different name pairs to control for gender. We have 2 male-female name pairs, 1 male-male pair, 1 female-female pair, and 1 neutral-neutral. \n",
    "We're also looking at 10 object control verbs and 5 different actions. "
   ]
  },
  {
   "cell_type": "code",
   "execution_count": 2,
   "metadata": {},
   "outputs": [],
   "source": [
    "# names = [(\"Tom\", \"Mary\"), (\"Tom\", \"Bill\"), (\"Mary\", \"Bill\"), (\"Ellen\", \"Mary\"), (\"Morgan\", \"Jaime\"), (\"Iago\", \"Hamlet\"), (\"Jules\", \"Yves\"), (\"Kurt\", \"Lena\")]\n",
    "names = [(\"Tom\", \"Mary\"), (\"Tom\", \"Bill\"), (\"Mary\", \"Bill\"), (\"Ellen\", \"Mary\"), (\"Morgan\", \"Jaime\")]\n",
    "verbs = [\"told\", \"ordered\", \"called upon\", \"reminded\", \"urged\", \"asked\", \"persuaded\", \"convinced\", \"forced\", \"pushed\"]\n",
    "actions = [(\"to leave\", \"left\"), (\"to call home\", \"called home\"), (\"to reply\", \"replied\"), (\"to wipe the counter\", \"wiped the counter\"), (\"to dance\", \"danced\")]\n",
    "correct_index = 1\n"
   ]
  },
  {
   "cell_type": "markdown",
   "metadata": {},
   "source": [
    "## GPT 3\n",
    "For GPT3, inference is not deterministic, so we're running 5 replicants per prompt "
   ]
  },
  {
   "cell_type": "code",
   "execution_count": 10,
   "metadata": {},
   "outputs": [],
   "source": [
    "\n",
    "# gpt_kwargs = {\"max_tokens\": 2, \"temperature\": 0.0}\n",
    "# gpt_object_control_experiment  = Experiment(\"gpt3\", \"object-control\", FixedGPTPrompt, run_gpt_prompt, 5, gpt_kwargs)\n",
    "\n",
    "# gpt_object_control_experiment.run(names, correct_index, verbs, actions)\n",
    "\n",
    "# gpt_df = gpt_object_control_experiment.format_results()\n",
    "\n",
    "# gpt_df.to_csv(\"/Users/Elias/child-lm/results/gpt_object_control_swap_names.csv\")\n",
    "\n",
    "gpt_df = pd.read_csv(\"/Users/Elias/child-lm/results/gpt_object_control_swap_names.csv\")"
   ]
  },
  {
   "cell_type": "code",
   "execution_count": 11,
   "metadata": {},
   "outputs": [
    {
     "data": {
      "text/plain": [
       "{'total': (0.562, 500),\n",
       " 'acc_by_name': {'Ellen,Mary': (0.93, 100),\n",
       "  'Morgan,Jaime': (0.0, 100),\n",
       "  'Tom,Bill': (0.65, 100),\n",
       "  'Tom,Mary': (0.81, 100),\n",
       "  'Mary,Bill': (0.42, 100)},\n",
       " 'acc_by_action': {'to call home': (0.56, 100),\n",
       "  'to reply': (0.43, 100),\n",
       "  'to dance': (0.59, 100),\n",
       "  'to wipe the counter': (0.55, 100),\n",
       "  'to leave': (0.68, 100)},\n",
       " 'acc_by_verb': {'asked': (0.52, 50),\n",
       "  'pushed': (0.56, 50),\n",
       "  'ordered': (0.48, 50),\n",
       "  'reminded': (0.62, 50),\n",
       "  'told': (0.64, 50),\n",
       "  'persuaded': (0.54, 50),\n",
       "  'urged': (0.66, 50),\n",
       "  'forced': (0.6, 50),\n",
       "  'called upon': (0.42, 50),\n",
       "  'convinced': (0.58, 50)},\n",
       " 'acc_by_action_by_verb': {'to call home,asked': (0.5, 10),\n",
       "  'to call home,pushed': (0.6, 10),\n",
       "  'to call home,ordered': (0.5, 10),\n",
       "  'to call home,reminded': (0.6, 10),\n",
       "  'to call home,told': (0.6, 10),\n",
       "  'to call home,persuaded': (0.5, 10),\n",
       "  'to call home,urged': (0.7, 10),\n",
       "  'to call home,forced': (0.6, 10),\n",
       "  'to call home,called upon': (0.5, 10),\n",
       "  'to call home,convinced': (0.5, 10),\n",
       "  'to reply,asked': (0.3, 10),\n",
       "  'to reply,pushed': (0.5, 10),\n",
       "  'to reply,ordered': (0.1, 10),\n",
       "  'to reply,reminded': (0.6, 10),\n",
       "  'to reply,told': (0.5, 10),\n",
       "  'to reply,persuaded': (0.5, 10),\n",
       "  'to reply,urged': (0.6, 10),\n",
       "  'to reply,forced': (0.6, 10),\n",
       "  'to reply,called upon': (0.0, 10),\n",
       "  'to reply,convinced': (0.6, 10),\n",
       "  'to dance,asked': (0.6, 10),\n",
       "  'to dance,pushed': (0.6, 10),\n",
       "  'to dance,ordered': (0.6, 10),\n",
       "  'to dance,reminded': (0.6, 10),\n",
       "  'to dance,told': (0.7, 10),\n",
       "  'to dance,persuaded': (0.5, 10),\n",
       "  'to dance,urged': (0.7, 10),\n",
       "  'to dance,forced': (0.6, 10),\n",
       "  'to dance,called upon': (0.4, 10),\n",
       "  'to dance,convinced': (0.6, 10),\n",
       "  'to wipe the counter,asked': (0.6, 10),\n",
       "  'to wipe the counter,pushed': (0.5, 10),\n",
       "  'to wipe the counter,ordered': (0.5, 10),\n",
       "  'to wipe the counter,reminded': (0.6, 10),\n",
       "  'to wipe the counter,told': (0.7, 10),\n",
       "  'to wipe the counter,persuaded': (0.5, 10),\n",
       "  'to wipe the counter,urged': (0.6, 10),\n",
       "  'to wipe the counter,forced': (0.5, 10),\n",
       "  'to wipe the counter,called upon': (0.5, 10),\n",
       "  'to wipe the counter,convinced': (0.5, 10),\n",
       "  'to leave,asked': (0.6, 10),\n",
       "  'to leave,pushed': (0.6, 10),\n",
       "  'to leave,ordered': (0.7, 10),\n",
       "  'to leave,reminded': (0.7, 10),\n",
       "  'to leave,told': (0.7, 10),\n",
       "  'to leave,persuaded': (0.7, 10),\n",
       "  'to leave,urged': (0.7, 10),\n",
       "  'to leave,forced': (0.7, 10),\n",
       "  'to leave,called upon': (0.7, 10),\n",
       "  'to leave,convinced': (0.7, 10)}}"
      ]
     },
     "execution_count": 11,
     "metadata": {},
     "output_type": "execute_result"
    }
   ],
   "source": [
    "accuracy_report(gpt_df)"
   ]
  },
  {
   "cell_type": "code",
   "execution_count": 8,
   "metadata": {},
   "outputs": [
    {
     "name": "stderr",
     "output_type": "stream",
     "text": [
      "100%|██████████| 5/5 [09:38<00:00, 115.63s/it]\n"
     ]
    }
   ],
   "source": [
    "\n",
    "gpt_kwargs = {\"max_tokens\": 2, \"temperature\": 0.0}\n",
    "gpt_object_control_experiment  = Experiment(\"gpt3\", \"object-control\", FixedGPTPrompt, run_gpt_prompt, 5, gpt_kwargs)\n",
    "gpt_object_control_experiment.run(names, correct_index, verbs, actions, qa_pair=(\"Q\", \"A\"))\n",
    "gpt_df = gpt_object_control_experiment.format_results()\n",
    "\n",
    "gpt_df.to_csv(\"/Users/Elias/child-lm/results/gpt_object_control_qa_swap_names.csv\")\n",
    "\n",
    "gpt_df = pd.read_csv(\"/Users/Elias/child-lm/results/gpt_object_control_qa_swap_names.csv\")"
   ]
  },
  {
   "cell_type": "code",
   "execution_count": 9,
   "metadata": {},
   "outputs": [
    {
     "data": {
      "text/plain": [
       "{'total': (0.504, 500),\n",
       " 'acc_by_name': {'Ellen,Mary': (0.88, 100),\n",
       "  'Morgan,Jaime': (0.0, 100),\n",
       "  'Tom,Bill': (0.71, 100),\n",
       "  'Tom,Mary': (0.46, 100),\n",
       "  'Mary,Bill': (0.47, 100)},\n",
       " 'acc_by_action': {'to call home': (0.53, 100),\n",
       "  'to reply': (0.33, 100),\n",
       "  'to dance': (0.52, 100),\n",
       "  'to wipe the counter': (0.49, 100),\n",
       "  'to leave': (0.65, 100)},\n",
       " 'acc_by_verb': {'asked': (0.44, 50),\n",
       "  'pushed': (0.6, 50),\n",
       "  'ordered': (0.46, 50),\n",
       "  'reminded': (0.56, 50),\n",
       "  'told': (0.52, 50),\n",
       "  'persuaded': (0.5, 50),\n",
       "  'urged': (0.54, 50),\n",
       "  'forced': (0.54, 50),\n",
       "  'called upon': (0.36, 50),\n",
       "  'convinced': (0.52, 50)},\n",
       " 'acc_by_action_by_verb': {'to call home,asked': (0.5, 10),\n",
       "  'to call home,pushed': (0.6, 10),\n",
       "  'to call home,ordered': (0.4, 10),\n",
       "  'to call home,reminded': (0.5, 10),\n",
       "  'to call home,told': (0.6, 10),\n",
       "  'to call home,persuaded': (0.5, 10),\n",
       "  'to call home,urged': (0.6, 10),\n",
       "  'to call home,forced': (0.6, 10),\n",
       "  'to call home,called upon': (0.5, 10),\n",
       "  'to call home,convinced': (0.5, 10),\n",
       "  'to reply,asked': (0.3, 10),\n",
       "  'to reply,pushed': (0.6, 10),\n",
       "  'to reply,ordered': (0.1, 10),\n",
       "  'to reply,reminded': (0.6, 10),\n",
       "  'to reply,told': (0.3, 10),\n",
       "  'to reply,persuaded': (0.4, 10),\n",
       "  'to reply,urged': (0.2, 10),\n",
       "  'to reply,forced': (0.3, 10),\n",
       "  'to reply,called upon': (0.0, 10),\n",
       "  'to reply,convinced': (0.5, 10),\n",
       "  'to dance,asked': (0.5, 10),\n",
       "  'to dance,pushed': (0.6, 10),\n",
       "  'to dance,ordered': (0.6, 10),\n",
       "  'to dance,reminded': (0.5, 10),\n",
       "  'to dance,told': (0.6, 10),\n",
       "  'to dance,persuaded': (0.5, 10),\n",
       "  'to dance,urged': (0.6, 10),\n",
       "  'to dance,forced': (0.6, 10),\n",
       "  'to dance,called upon': (0.2, 10),\n",
       "  'to dance,convinced': (0.5, 10),\n",
       "  'to wipe the counter,asked': (0.3, 10),\n",
       "  'to wipe the counter,pushed': (0.5, 10),\n",
       "  'to wipe the counter,ordered': (0.6, 10),\n",
       "  'to wipe the counter,reminded': (0.5, 10),\n",
       "  'to wipe the counter,told': (0.4, 10),\n",
       "  'to wipe the counter,persuaded': (0.5, 10),\n",
       "  'to wipe the counter,urged': (0.5, 10),\n",
       "  'to wipe the counter,forced': (0.6, 10),\n",
       "  'to wipe the counter,called upon': (0.5, 10),\n",
       "  'to wipe the counter,convinced': (0.5, 10),\n",
       "  'to leave,asked': (0.6, 10),\n",
       "  'to leave,pushed': (0.7, 10),\n",
       "  'to leave,ordered': (0.6, 10),\n",
       "  'to leave,reminded': (0.7, 10),\n",
       "  'to leave,told': (0.7, 10),\n",
       "  'to leave,persuaded': (0.6, 10),\n",
       "  'to leave,urged': (0.8, 10),\n",
       "  'to leave,forced': (0.6, 10),\n",
       "  'to leave,called upon': (0.6, 10),\n",
       "  'to leave,convinced': (0.6, 10)}}"
      ]
     },
     "execution_count": 9,
     "metadata": {},
     "output_type": "execute_result"
    }
   ],
   "source": [
    "accuracy_report(gpt_df)"
   ]
  },
  {
   "cell_type": "markdown",
   "metadata": {},
   "source": [
    "## T5 for QA"
   ]
  },
  {
   "cell_type": "code",
   "execution_count": null,
   "metadata": {},
   "outputs": [],
   "source": [
    "\n",
    "# t5_object_control_experiment  = Experiment(\"t5\", \"object-control\", FixedT5Prompt, run_t5_prompt, 1, None)\n",
    "\n",
    "# t5_object_control_experiment.run(names, correct_index, verbs, actions, do_swap = False)"
   ]
  },
  {
   "cell_type": "code",
   "execution_count": null,
   "metadata": {},
   "outputs": [],
   "source": [
    "# t5_df = t5_object_control_experiment.format_results()\n",
    "\n",
    "# t5_df.to_csv(\"/Users/Elias/child-lm/results/t5_object_control.csv\")\n",
    "\n",
    "t5_df = pd.read_csv(\"/Users/Elias/child-lm/results/t5_object_control.csv\")"
   ]
  },
  {
   "cell_type": "code",
   "execution_count": null,
   "metadata": {},
   "outputs": [],
   "source": [
    "correct = t5_df[t5_df['true'] == t5_df['pred']]\n",
    "incorrect = t5_df[t5_df['true'] != t5_df['pred']]\n",
    "\n",
    "print(f\"accuraccy: {(len(correct)/ len(t5_df)) * 100:.2f}\")"
   ]
  },
  {
   "cell_type": "markdown",
   "metadata": {},
   "source": [
    "## Jurassic Large"
   ]
  },
  {
   "cell_type": "code",
   "execution_count": 14,
   "metadata": {},
   "outputs": [],
   "source": [
    "\n",
    "# jurassic_kwargs = {\"maxTokens\": 2, \"temperature\": 0.0}\n",
    "# jurassic_object_control_experiment  = Experiment(\"jurassic-large\", \"object-control\", FixedGPTPrompt, run_ai21_prompt, 1, jurassic_kwargs)\n",
    "\n",
    "# jurassic_object_control_experiment.run(names, correct_index, verbs, actions)\n",
    "\n",
    "# jurassic_df = jurassic_object_control_experiment.format_results()\n",
    "\n",
    "# jurassic_df.to_csv(\"/Users/Elias/child-lm/results/jurassic_object_control_swap_names.csv\")\n",
    "\n",
    "jurassic_df = pd.read_csv(\"/Users/Elias/child-lm/results/jurassic_object_control_swap_names.csv\")"
   ]
  },
  {
   "cell_type": "code",
   "execution_count": 15,
   "metadata": {},
   "outputs": [
    {
     "data": {
      "text/plain": [
       "{'total': (0.26, 500),\n",
       " 'acc_by_name': {'Ellen,Mary': (0.26, 100),\n",
       "  'Morgan,Jaime': (0.0, 100),\n",
       "  'Tom,Bill': (0.2, 100),\n",
       "  'Tom,Mary': (0.35, 100),\n",
       "  'Mary,Bill': (0.49, 100)},\n",
       " 'acc_by_action': {'to call home': (0.18, 100),\n",
       "  'to reply': (0.27, 100),\n",
       "  'to dance': (0.2, 100),\n",
       "  'to wipe the counter': (0.34, 100),\n",
       "  'to leave': (0.31, 100)},\n",
       " 'acc_by_verb': {'asked': (0.36, 50),\n",
       "  'pushed': (0.26, 50),\n",
       "  'ordered': (0.24, 50),\n",
       "  'reminded': (0.18, 50),\n",
       "  'told': (0.26, 50),\n",
       "  'persuaded': (0.18, 50),\n",
       "  'urged': (0.28, 50),\n",
       "  'forced': (0.28, 50),\n",
       "  'called upon': (0.28, 50),\n",
       "  'convinced': (0.28, 50)},\n",
       " 'acc_by_action_by_verb': {'to call home,asked': (0.3, 10),\n",
       "  'to call home,pushed': (0.1, 10),\n",
       "  'to call home,ordered': (0.2, 10),\n",
       "  'to call home,reminded': (0.1, 10),\n",
       "  'to call home,told': (0.2, 10),\n",
       "  'to call home,persuaded': (0.1, 10),\n",
       "  'to call home,urged': (0.2, 10),\n",
       "  'to call home,forced': (0.3, 10),\n",
       "  'to call home,called upon': (0.1, 10),\n",
       "  'to call home,convinced': (0.2, 10),\n",
       "  'to reply,asked': (0.4, 10),\n",
       "  'to reply,pushed': (0.3, 10),\n",
       "  'to reply,ordered': (0.3, 10),\n",
       "  'to reply,reminded': (0.1, 10),\n",
       "  'to reply,told': (0.1, 10),\n",
       "  'to reply,persuaded': (0.1, 10),\n",
       "  'to reply,urged': (0.4, 10),\n",
       "  'to reply,forced': (0.3, 10),\n",
       "  'to reply,called upon': (0.4, 10),\n",
       "  'to reply,convinced': (0.3, 10),\n",
       "  'to dance,asked': (0.3, 10),\n",
       "  'to dance,pushed': (0.2, 10),\n",
       "  'to dance,ordered': (0.1, 10),\n",
       "  'to dance,reminded': (0.2, 10),\n",
       "  'to dance,told': (0.3, 10),\n",
       "  'to dance,persuaded': (0.1, 10),\n",
       "  'to dance,urged': (0.2, 10),\n",
       "  'to dance,forced': (0.2, 10),\n",
       "  'to dance,called upon': (0.2, 10),\n",
       "  'to dance,convinced': (0.2, 10),\n",
       "  'to wipe the counter,asked': (0.4, 10),\n",
       "  'to wipe the counter,pushed': (0.3, 10),\n",
       "  'to wipe the counter,ordered': (0.3, 10),\n",
       "  'to wipe the counter,reminded': (0.2, 10),\n",
       "  'to wipe the counter,told': (0.4, 10),\n",
       "  'to wipe the counter,persuaded': (0.3, 10),\n",
       "  'to wipe the counter,urged': (0.3, 10),\n",
       "  'to wipe the counter,forced': (0.4, 10),\n",
       "  'to wipe the counter,called upon': (0.4, 10),\n",
       "  'to wipe the counter,convinced': (0.4, 10),\n",
       "  'to leave,asked': (0.4, 10),\n",
       "  'to leave,pushed': (0.4, 10),\n",
       "  'to leave,ordered': (0.3, 10),\n",
       "  'to leave,reminded': (0.3, 10),\n",
       "  'to leave,told': (0.3, 10),\n",
       "  'to leave,persuaded': (0.3, 10),\n",
       "  'to leave,urged': (0.3, 10),\n",
       "  'to leave,forced': (0.2, 10),\n",
       "  'to leave,called upon': (0.3, 10),\n",
       "  'to leave,convinced': (0.3, 10)}}"
      ]
     },
     "execution_count": 15,
     "metadata": {},
     "output_type": "execute_result"
    }
   ],
   "source": [
    "accuracy_report(jurassic_df)"
   ]
  },
  {
   "cell_type": "code",
   "execution_count": 12,
   "metadata": {},
   "outputs": [
    {
     "name": "stderr",
     "output_type": "stream",
     "text": [
      "100%|██████████| 5/5 [09:37<00:00, 115.49s/it]\n"
     ]
    }
   ],
   "source": [
    "\n",
    "jurassic_kwargs = {\"maxTokens\": 2, \"temperature\": 0.0}\n",
    "jurassic_object_control_experiment  = Experiment(\"jurassic-large\", \"object-control\", FixedGPTPrompt, run_ai21_prompt, 1, jurassic_kwargs)\n",
    "jurassic_object_control_experiment.run(names, correct_index, verbs, actions, qa_pair=(\"Q\",\"A\"))\n",
    "jurassic_df = jurassic_object_control_experiment.format_results()\n",
    "jurassic_df.to_csv(\"/Users/Elias/child-lm/results/jurassic_object_control_qa_swap_names.csv\")\n",
    "\n",
    "# jurassic_df = pd.read_csv(\"/Users/Elias/child-lm/results/jurassic_object_control_qa_swap_names.csv\")"
   ]
  },
  {
   "cell_type": "code",
   "execution_count": 13,
   "metadata": {},
   "outputs": [
    {
     "data": {
      "text/plain": [
       "{'total': (0.328, 500),\n",
       " 'acc_by_name': {'Ellen,Mary': (0.49, 100),\n",
       "  'Morgan,Jaime': (0.0, 100),\n",
       "  'Tom,Bill': (0.3, 100),\n",
       "  'Tom,Mary': (0.36, 100),\n",
       "  'Mary,Bill': (0.49, 100)},\n",
       " 'acc_by_action': {'to call home': (0.29, 100),\n",
       "  'to reply': (0.33, 100),\n",
       "  'to dance': (0.29, 100),\n",
       "  'to wipe the counter': (0.38, 100),\n",
       "  'to leave': (0.35, 100)},\n",
       " 'acc_by_verb': {'asked': (0.34, 50),\n",
       "  'pushed': (0.34, 50),\n",
       "  'ordered': (0.3, 50),\n",
       "  'reminded': (0.26, 50),\n",
       "  'told': (0.3, 50),\n",
       "  'persuaded': (0.3, 50),\n",
       "  'urged': (0.36, 50),\n",
       "  'forced': (0.32, 50),\n",
       "  'called upon': (0.38, 50),\n",
       "  'convinced': (0.38, 50)},\n",
       " 'acc_by_action_by_verb': {'to call home,asked': (0.4, 10),\n",
       "  'to call home,pushed': (0.3, 10),\n",
       "  'to call home,ordered': (0.3, 10),\n",
       "  'to call home,reminded': (0.2, 10),\n",
       "  'to call home,told': (0.3, 10),\n",
       "  'to call home,persuaded': (0.2, 10),\n",
       "  'to call home,urged': (0.3, 10),\n",
       "  'to call home,forced': (0.3, 10),\n",
       "  'to call home,called upon': (0.3, 10),\n",
       "  'to call home,convinced': (0.3, 10),\n",
       "  'to reply,asked': (0.3, 10),\n",
       "  'to reply,pushed': (0.4, 10),\n",
       "  'to reply,ordered': (0.3, 10),\n",
       "  'to reply,reminded': (0.2, 10),\n",
       "  'to reply,told': (0.2, 10),\n",
       "  'to reply,persuaded': (0.3, 10),\n",
       "  'to reply,urged': (0.4, 10),\n",
       "  'to reply,forced': (0.3, 10),\n",
       "  'to reply,called upon': (0.5, 10),\n",
       "  'to reply,convinced': (0.4, 10),\n",
       "  'to dance,asked': (0.2, 10),\n",
       "  'to dance,pushed': (0.2, 10),\n",
       "  'to dance,ordered': (0.3, 10),\n",
       "  'to dance,reminded': (0.3, 10),\n",
       "  'to dance,told': (0.3, 10),\n",
       "  'to dance,persuaded': (0.3, 10),\n",
       "  'to dance,urged': (0.3, 10),\n",
       "  'to dance,forced': (0.3, 10),\n",
       "  'to dance,called upon': (0.3, 10),\n",
       "  'to dance,convinced': (0.4, 10),\n",
       "  'to wipe the counter,asked': (0.4, 10),\n",
       "  'to wipe the counter,pushed': (0.4, 10),\n",
       "  'to wipe the counter,ordered': (0.3, 10),\n",
       "  'to wipe the counter,reminded': (0.3, 10),\n",
       "  'to wipe the counter,told': (0.4, 10),\n",
       "  'to wipe the counter,persuaded': (0.4, 10),\n",
       "  'to wipe the counter,urged': (0.4, 10),\n",
       "  'to wipe the counter,forced': (0.4, 10),\n",
       "  'to wipe the counter,called upon': (0.4, 10),\n",
       "  'to wipe the counter,convinced': (0.4, 10),\n",
       "  'to leave,asked': (0.4, 10),\n",
       "  'to leave,pushed': (0.4, 10),\n",
       "  'to leave,ordered': (0.3, 10),\n",
       "  'to leave,reminded': (0.3, 10),\n",
       "  'to leave,told': (0.3, 10),\n",
       "  'to leave,persuaded': (0.3, 10),\n",
       "  'to leave,urged': (0.4, 10),\n",
       "  'to leave,forced': (0.3, 10),\n",
       "  'to leave,called upon': (0.4, 10),\n",
       "  'to leave,convinced': (0.4, 10)}}"
      ]
     },
     "execution_count": 13,
     "metadata": {},
     "output_type": "execute_result"
    }
   ],
   "source": [
    "accuracy_report(jurassic_df)"
   ]
  },
  {
   "cell_type": "markdown",
   "metadata": {},
   "source": [
    "# Passives \n",
    "\n",
    "The passive form reverses the order and also syntactic role of the agent/patient. E.g. \n",
    "\n",
    "- Mary told Tom to wipe the counter \n",
    "- Tom was told by Mary to wipe the counter \n",
    "\n",
    "Now Tom is linearly further away from \"wipe\" and also the grammatical subject of the matrix clause (though still the patient) "
   ]
  },
  {
   "cell_type": "code",
   "execution_count": null,
   "metadata": {},
   "outputs": [],
   "source": [
    "correct_index = 0 "
   ]
  },
  {
   "cell_type": "markdown",
   "metadata": {},
   "source": [
    "## GPT3 "
   ]
  },
  {
   "cell_type": "code",
   "execution_count": null,
   "metadata": {},
   "outputs": [],
   "source": [
    "\n",
    "# gpt_kwargs = {\"max_tokens\": 2, \"temperature\": 0.0}\n",
    "# passive_gpt_object_control_experiment  = Experiment(\"gpt3\", \"object-control-passive\", FixedPassiveGPTPrompt, run_gpt_prompt, 5, gpt_kwargs) \n",
    "\n",
    "# passive_gpt_object_control_experiment.run(names, correct_index, verbs, actions)\n",
    "\n",
    "# passive_gpt_df = passive_gpt_object_control_experiment.format_results()\n",
    "\n",
    "# passive_gpt_df.to_csv(\"/Users/Elias/child-lm/results/gpt_passive_object_control_swap_names.csv\")\n",
    "passive_gpt_df = pd.read_csv(\"/Users/Elias/child-lm/results/gpt_passive_object_control_swap_names.csv\")\n",
    "\n"
   ]
  },
  {
   "cell_type": "code",
   "execution_count": null,
   "metadata": {},
   "outputs": [],
   "source": [
    "accuracy_report(passive_gpt_df)"
   ]
  },
  {
   "cell_type": "markdown",
   "metadata": {},
   "source": [
    "\n",
    "## T5 for QA"
   ]
  },
  {
   "cell_type": "code",
   "execution_count": null,
   "metadata": {},
   "outputs": [],
   "source": [
    "\n",
    "# passive_t5_object_control_experiment  = Experiment(\"t5\", \"object-control-passive\", FixedPassiveT5Prompt, run_t5_prompt, 1, None)\n",
    "\n",
    "# passive_t5_object_control_experiment.run(names, correct_index, verbs, actions, do_swap = False)\n",
    "\n",
    "# passive_t5_df = passive_t5_object_control_experiment.format_results()\n",
    "\n",
    "# passive_t5_df.to_csv(\"/Users/Elias/child-lm/results/t5_passive_object_control.csv\")\n",
    "passive_t5_df = pd.read_csv(\"/Users/Elias/child-lm/results/t5_passive_object_control.csv\")"
   ]
  },
  {
   "cell_type": "code",
   "execution_count": null,
   "metadata": {},
   "outputs": [],
   "source": [
    "accuracy_report(passive_t5_df)"
   ]
  },
  {
   "cell_type": "markdown",
   "metadata": {},
   "source": [
    "## Jurassic Large "
   ]
  },
  {
   "cell_type": "code",
   "execution_count": null,
   "metadata": {},
   "outputs": [],
   "source": [
    "\n",
    "# jurassic_kwargs = {\"maxTokens\": 2, \"temperature\": 0.0}\n",
    "# passive_jurassic_object_control_experiment  = Experiment(\"jurassic-large\", \"object-control-passive\", FixedPassiveGPTPrompt, run_ai21_prompt, 1, jurassic_kwargs)\n",
    "\n",
    "# passive_jurassic_object_control_experiment.run(names, correct_index, verbs, actions)\n",
    "# passive_jurassic_df = passive_jurassic_object_control_experiment.format_results()\n",
    "\n",
    "# passive_jurassic_df.to_csv(\"/Users/Elias/child-lm/results/jurassic_passive_object_control_swap_names.csv\")\n",
    "\n",
    "passive_jurassic_df = pd.read_csv(\"/Users/Elias/child-lm/results/jurassic_object_control_swap_names.csv\")"
   ]
  },
  {
   "cell_type": "code",
   "execution_count": null,
   "metadata": {},
   "outputs": [],
   "source": [
    "accuracy_report(passive_jurassic_df)"
   ]
  },
  {
   "cell_type": "code",
   "execution_count": null,
   "metadata": {},
   "outputs": [],
   "source": []
  }
 ],
 "metadata": {
  "interpreter": {
   "hash": "ec6008f546f3cd66431ed7a4f2e2b63949ea9a2fd324a00b9368fd8a5a5333f5"
  },
  "kernelspec": {
   "display_name": "Python 3.7.11 64-bit ('openai': conda)",
   "language": "python",
   "name": "python3"
  },
  "language_info": {
   "codemirror_mode": {
    "name": "ipython",
    "version": 3
   },
   "file_extension": ".py",
   "mimetype": "text/x-python",
   "name": "python",
   "nbconvert_exporter": "python",
   "pygments_lexer": "ipython3",
   "version": "3.7.11"
  },
  "orig_nbformat": 4
 },
 "nbformat": 4,
 "nbformat_minor": 2
}
