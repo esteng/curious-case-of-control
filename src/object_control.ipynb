{
 "cells": [
  {
   "cell_type": "code",
   "execution_count": 1,
   "metadata": {},
   "outputs": [],
   "source": [
    "import json\n",
    "import pandas as pd \n",
    "\n",
    "from experiment import Experiment\n",
    "from api_tools import (FixedGPTPrompt, \n",
    "                       FixedPassiveGPTPrompt, \n",
    "                       FixedT5Prompt, \n",
    "                       FixedPassiveT5Prompt, \n",
    "                       run_ai21_prompt, \n",
    "                       run_gpt_prompt, \n",
    "                       run_t5_prompt)\n",
    "\n",
    "from metrics import accuracy_report\n"
   ]
  },
  {
   "cell_type": "markdown",
   "metadata": {},
   "source": [
    "# Object Control\n",
    "Starting with the object control experiments, we will look at how 4 LMs do:\n",
    "1. GPT3\n",
    "2. T5 for QA \n",
    "3. Jurassic large \n",
    "4. Jurassic Jumbo\n",
    "\n",
    "## Experimental settings\n",
    "We're looking at different name pairs to control for gender. We have 2 male-female name pairs, 1 male-male pair, 1 female-female pair, and 1 neutral-neutral. \n",
    "We're also looking at 10 object control verbs and 5 different actions. "
   ]
  },
  {
   "cell_type": "code",
   "execution_count": 2,
   "metadata": {},
   "outputs": [],
   "source": [
    "names = json.load(open(\"../data/names_top_2.json\"))\n",
    "verbs = [\"told\", \"ordered\", \"called upon\", \"reminded\", \"urged\", \"asked\", \"persuaded\", \"convinced\", \"forced\", \"pushed\"]\n",
    "# actions = [(\"to leave\", \"left\"), (\"to call home\", \"called home\"), (\"to reply\", \"replied\"), (\"to wipe the counter\", \"wiped the counter\"), (\"to dance\", \"danced\")]\n",
    "actions = json.load(open(\"../data/verbs.json\"))\n",
    "correct_index = 1\n",
    "nicknames = json.load(open(\"../data/nicknames.json\"))"
   ]
  },
  {
   "cell_type": "markdown",
   "metadata": {},
   "source": [
    "## GPT 3\n",
    "For GPT3, inference is not deterministic, so we're running 5 replicants per prompt "
   ]
  },
  {
   "cell_type": "code",
   "execution_count": null,
   "metadata": {},
   "outputs": [],
   "source": [
    "\n",
    "\n",
    "\n",
    "gpt_kwargs = {\"max_tokens\": 2, \"temperature\": 0.0}\n",
    "gpt_object_control_experiment  = Experiment(\"gpt3\", \"object-control\", FixedGPTPrompt, run_gpt_prompt, 1, gpt_kwargs)\n",
    "gpt_object_control_experiment.recover(\"/Users/Elias/child-lm/results/gpt_object_control_swap_names.csv\")\n",
    "\n",
    "\n",
    "# print(gpt_object_control_experiment.results[0:10])\n",
    "# print(gpt_object_control_experiment.results[-10:])\n",
    "# gpt_object_control_experiment.run(names, correct_index, verbs, actions, rate_limit=False, nicknames=nicknames)\n",
    "gpt_object_control_experiment.recompute(nicknames)\n",
    "gpt_df = gpt_object_control_experiment.format_results()\n",
    "# gpt_df.to_csv(\"/Users/Elias/child-lm/results/gpt_object_control_swap_names.csv\")\n"
   ]
  },
  {
   "cell_type": "code",
   "execution_count": null,
   "metadata": {},
   "outputs": [],
   "source": [
    "accuracy_report(gpt_df)"
   ]
  },
  {
   "cell_type": "code",
   "execution_count": null,
   "metadata": {},
   "outputs": [],
   "source": []
  },
  {
   "cell_type": "code",
   "execution_count": null,
   "metadata": {},
   "outputs": [],
   "source": [
    "\n",
    "# gpt_kwargs = {\"max_tokens\": 2, \"temperature\": 0.0}\n",
    "# gpt_object_control_experiment  = Experiment(\"gpt3\", \"object-control\", FixedGPTPrompt, run_gpt_prompt, 5, gpt_kwargs)\n",
    "# gpt_object_control_experiment.run(names, correct_index, verbs, actions, qa_pair=(\"Q\", \"A\"))\n",
    "# gpt_df = gpt_object_control_experiment.format_results()\n",
    "\n",
    "# gpt_df.to_csv(\"/Users/Elias/child-lm/results/gpt_object_control_qa_swap_names.csv\")\n",
    "\n",
    "# gpt_df = pd.read_csv(\"/Users/Elias/child-lm/results/gpt_object_control_qa_swap_names.csv\")"
   ]
  },
  {
   "cell_type": "code",
   "execution_count": null,
   "metadata": {},
   "outputs": [],
   "source": [
    "# accuracy_report(gpt_df)"
   ]
  },
  {
   "cell_type": "markdown",
   "metadata": {},
   "source": [
    "## T5 for QA"
   ]
  },
  {
   "cell_type": "code",
   "execution_count": 9,
   "metadata": {},
   "outputs": [
    {
     "name": "stderr",
     "output_type": "stream",
     "text": [
      "100%|██████████| 30/30 [13:09<00:00, 26.33s/it]\n"
     ]
    }
   ],
   "source": [
    "\n",
    "t5_object_control_experiment  = Experiment(\"t5\", \"object-control\", FixedT5Prompt, run_t5_prompt, 1, None)\n",
    "\n",
    "t5_object_control_experiment.run(names, correct_index, verbs, actions, do_swap = False, nicknames=nicknames, rate_limit_delay=20, overwrite=True)"
   ]
  },
  {
   "cell_type": "code",
   "execution_count": 11,
   "metadata": {},
   "outputs": [],
   "source": [
    "t5_df = t5_object_control_experiment.format_results()\n",
    "\n",
    "t5_df.to_csv(\"/Users/Elias/child-lm/results/t5_object_control.csv\")\n",
    "\n",
    "# t5_df = pd.read_csv(\"/Users/Elias/child-lm/results/t5_object_control.csv\")"
   ]
  },
  {
   "cell_type": "code",
   "execution_count": 12,
   "metadata": {},
   "outputs": [
    {
     "data": {
      "text/plain": [
       "{'total': (0.9593333333333334, 1500, 0.9965373961218836, 1444),\n",
       " 'acc_by_name': {'Nicole,Avery': (1.0, 100, 1.0, 100),\n",
       "  'Nicole,Stephanie': (1.0, 100, 1.0, 100),\n",
       "  'Nicole,Casey': (0.99, 100, 0.99, 100),\n",
       "  'Nicole,Joseph': (1.0, 100, 1.0, 100),\n",
       "  'Nicole,William': (1.0, 100, 1.0, 100),\n",
       "  'Avery,Stephanie': (1.0, 100, 1.0, 100),\n",
       "  'Avery,Casey': (0.5, 100, 1.0, 50),\n",
       "  'Avery,Joseph': (0.94, 100, 1.0, 94),\n",
       "  'Avery,William': (0.99, 100, 0.99, 100),\n",
       "  'Stephanie,Casey': (0.99, 100, 0.99, 100),\n",
       "  'Stephanie,Joseph': (1.0, 100, 1.0, 100),\n",
       "  'Stephanie,William': (0.99, 100, 0.99, 100),\n",
       "  'Casey,Joseph': (1.0, 100, 1.0, 100),\n",
       "  'Casey,William': (0.99, 100, 0.99, 100),\n",
       "  'Joseph,William': (1.0, 100, 1.0, 100)},\n",
       " 'acc_by_action': {'to run': (0.9633333333333334, 300, 1.0, 289),\n",
       "  'to come': (0.96, 300, 1.0, 288),\n",
       "  'to go': (0.9633333333333334, 300, 1.0, 289),\n",
       "  'to call': (0.9466666666666667, 300, 0.9826989619377162, 289),\n",
       "  'to read': (0.9633333333333334, 300, 1.0, 289)},\n",
       " 'acc_by_verb': {'reminded': (0.9666666666666667, 150, 1.0, 145),\n",
       "  'urged': (0.9666666666666667, 150, 1.0, 145),\n",
       "  'forced': (0.9666666666666667, 150, 1.0, 145),\n",
       "  'called upon': (0.9333333333333333, 150, 0.9655172413793104, 145),\n",
       "  'told': (0.9333333333333333, 150, 1.0, 140),\n",
       "  'convinced': (0.9666666666666667, 150, 1.0, 145),\n",
       "  'pushed': (0.9666666666666667, 150, 1.0, 145),\n",
       "  'ordered': (0.96, 150, 1.0, 144),\n",
       "  'asked': (0.9666666666666667, 150, 1.0, 145),\n",
       "  'persuaded': (0.9666666666666667, 150, 1.0, 145)},\n",
       " 'acc_by_action_by_verb': {'to run,reminded': (0.9666666666666667,\n",
       "   30,\n",
       "   1.0,\n",
       "   29),\n",
       "  'to run,urged': (0.9666666666666667, 30, 1.0, 29),\n",
       "  'to run,forced': (0.9666666666666667, 30, 1.0, 29),\n",
       "  'to run,called upon': (0.9666666666666667, 30, 1.0, 29),\n",
       "  'to run,told': (0.9333333333333333, 30, 1.0, 28),\n",
       "  'to run,convinced': (0.9666666666666667, 30, 1.0, 29),\n",
       "  'to run,pushed': (0.9666666666666667, 30, 1.0, 29),\n",
       "  'to run,ordered': (0.9666666666666667, 30, 1.0, 29),\n",
       "  'to run,asked': (0.9666666666666667, 30, 1.0, 29),\n",
       "  'to run,persuaded': (0.9666666666666667, 30, 1.0, 29),\n",
       "  'to come,reminded': (0.9666666666666667, 30, 1.0, 29),\n",
       "  'to come,urged': (0.9666666666666667, 30, 1.0, 29),\n",
       "  'to come,forced': (0.9666666666666667, 30, 1.0, 29),\n",
       "  'to come,called upon': (0.9666666666666667, 30, 1.0, 29),\n",
       "  'to come,told': (0.9333333333333333, 30, 1.0, 28),\n",
       "  'to come,convinced': (0.9666666666666667, 30, 1.0, 29),\n",
       "  'to come,pushed': (0.9666666666666667, 30, 1.0, 29),\n",
       "  'to come,ordered': (0.9333333333333333, 30, 1.0, 28),\n",
       "  'to come,asked': (0.9666666666666667, 30, 1.0, 29),\n",
       "  'to come,persuaded': (0.9666666666666667, 30, 1.0, 29),\n",
       "  'to go,reminded': (0.9666666666666667, 30, 1.0, 29),\n",
       "  'to go,urged': (0.9666666666666667, 30, 1.0, 29),\n",
       "  'to go,forced': (0.9666666666666667, 30, 1.0, 29),\n",
       "  'to go,called upon': (0.9666666666666667, 30, 1.0, 29),\n",
       "  'to go,told': (0.9333333333333333, 30, 1.0, 28),\n",
       "  'to go,convinced': (0.9666666666666667, 30, 1.0, 29),\n",
       "  'to go,pushed': (0.9666666666666667, 30, 1.0, 29),\n",
       "  'to go,ordered': (0.9666666666666667, 30, 1.0, 29),\n",
       "  'to go,asked': (0.9666666666666667, 30, 1.0, 29),\n",
       "  'to go,persuaded': (0.9666666666666667, 30, 1.0, 29),\n",
       "  'to call,reminded': (0.9666666666666667, 30, 1.0, 29),\n",
       "  'to call,urged': (0.9666666666666667, 30, 1.0, 29),\n",
       "  'to call,forced': (0.9666666666666667, 30, 1.0, 29),\n",
       "  'to call,called upon': (0.8, 30, 0.8275862068965517, 29),\n",
       "  'to call,told': (0.9333333333333333, 30, 1.0, 28),\n",
       "  'to call,convinced': (0.9666666666666667, 30, 1.0, 29),\n",
       "  'to call,pushed': (0.9666666666666667, 30, 1.0, 29),\n",
       "  'to call,ordered': (0.9666666666666667, 30, 1.0, 29),\n",
       "  'to call,asked': (0.9666666666666667, 30, 1.0, 29),\n",
       "  'to call,persuaded': (0.9666666666666667, 30, 1.0, 29),\n",
       "  'to read,reminded': (0.9666666666666667, 30, 1.0, 29),\n",
       "  'to read,urged': (0.9666666666666667, 30, 1.0, 29),\n",
       "  'to read,forced': (0.9666666666666667, 30, 1.0, 29),\n",
       "  'to read,called upon': (0.9666666666666667, 30, 1.0, 29),\n",
       "  'to read,told': (0.9333333333333333, 30, 1.0, 28),\n",
       "  'to read,convinced': (0.9666666666666667, 30, 1.0, 29),\n",
       "  'to read,pushed': (0.9666666666666667, 30, 1.0, 29),\n",
       "  'to read,ordered': (0.9666666666666667, 30, 1.0, 29),\n",
       "  'to read,asked': (0.9666666666666667, 30, 1.0, 29),\n",
       "  'to read,persuaded': (0.9666666666666667, 30, 1.0, 29)}}"
      ]
     },
     "execution_count": 12,
     "metadata": {},
     "output_type": "execute_result"
    }
   ],
   "source": [
    "accuracy_report(t5_df)"
   ]
  },
  {
   "cell_type": "markdown",
   "metadata": {},
   "source": [
    "## Jurassic Large"
   ]
  },
  {
   "cell_type": "code",
   "execution_count": 8,
   "metadata": {},
   "outputs": [
    {
     "name": "stderr",
     "output_type": "stream",
     "text": [
      "100%|██████████| 30/30 [1:02:01<00:00, 124.06s/it]\n"
     ]
    }
   ],
   "source": [
    "\n",
    "# jurassic_kwargs = {\"maxTokens\": 2, \"temperature\": 0.0}\n",
    "# jurassic_object_control_experiment  = Experiment(\"jurassic-large\", \"object-control\", FixedGPTPrompt, run_ai21_prompt, 1, jurassic_kwargs)\n",
    "\n",
    "# jurassic_object_control_experiment.run(names, correct_index, verbs, actions, nicknames=nicknames)\n",
    "\n",
    "# jurassic_df = jurassic_object_control_experiment.format_results()\n",
    "\n",
    "# jurassic_df.to_csv(\"/Users/Elias/child-lm/results/jurassic_object_control_swap_names.csv\")\n",
    "\n",
    "jurassic_df = pd.read_csv(\"/Users/Elias/child-lm/results/jurassic_object_control_swap_names.csv\")"
   ]
  },
  {
   "cell_type": "code",
   "execution_count": 13,
   "metadata": {},
   "outputs": [
    {
     "data": {
      "text/plain": [
       "{'total': (0.3883333333333333, 3000, 0.41224345364472753, 2826),\n",
       " 'acc_by_name': {'Nicole,Avery': (0.35, 200, 0.40229885057471265, 174),\n",
       "  'Nicole,Stephanie': (0.425, 200, 0.5214723926380368, 163),\n",
       "  'Nicole,Casey': (0.38, 200, 0.4198895027624309, 181),\n",
       "  'Nicole,Joseph': (0.335, 200, 0.3507853403141361, 191),\n",
       "  'Nicole,William': (0.475, 200, 0.47738693467336685, 199),\n",
       "  'Avery,Stephanie': (0.33, 200, 0.358695652173913, 184),\n",
       "  'Avery,Casey': (0.44, 200, 0.4731182795698925, 186),\n",
       "  'Avery,Joseph': (0.41, 200, 0.41624365482233505, 197),\n",
       "  'Avery,William': (0.36, 200, 0.36923076923076925, 195),\n",
       "  'Stephanie,Casey': (0.405, 200, 0.44021739130434784, 184),\n",
       "  'Stephanie,Joseph': (0.325, 200, 0.3385416666666667, 192),\n",
       "  'Stephanie,William': (0.475, 200, 0.4896907216494845, 194),\n",
       "  'Casey,Joseph': (0.37, 200, 0.3756345177664975, 197),\n",
       "  'Casey,William': (0.495, 200, 0.49748743718592964, 199),\n",
       "  'Joseph,William': (0.25, 200, 0.2631578947368421, 190)},\n",
       " 'acc_by_action': {'to run': (0.4, 600, 0.4, 600),\n",
       "  'to come': (0.38166666666666665, 600, 0.38166666666666665, 600),\n",
       "  'to go': (0.355, 600, 0.4234592445328032, 503),\n",
       "  'to call': (0.39666666666666667, 600, 0.4541984732824427, 524),\n",
       "  'to read': (0.4083333333333333, 600, 0.4090150250417362, 599)},\n",
       " 'acc_by_verb': {'reminded': (0.37333333333333335,\n",
       "   300,\n",
       "   0.3888888888888889,\n",
       "   288),\n",
       "  'urged': (0.38, 300, 0.44015444015444016, 259),\n",
       "  'forced': (0.29333333333333333, 300, 0.31316725978647686, 281),\n",
       "  'called upon': (0.4033333333333333, 300, 0.4033333333333333, 300),\n",
       "  'told': (0.4266666666666667, 300, 0.43097643097643096, 297),\n",
       "  'convinced': (0.4, 300, 0.42704626334519574, 281),\n",
       "  'pushed': (0.41, 300, 0.4392857142857143, 280),\n",
       "  'ordered': (0.41, 300, 0.4522058823529412, 272),\n",
       "  'asked': (0.43, 300, 0.44482758620689655, 290),\n",
       "  'persuaded': (0.3566666666666667, 300, 0.38489208633093525, 278)},\n",
       " 'acc_by_action_by_verb': {'to run,reminded': (0.36666666666666664,\n",
       "   60,\n",
       "   0.36666666666666664,\n",
       "   60),\n",
       "  'to run,urged': (0.38333333333333336, 60, 0.38333333333333336, 60),\n",
       "  'to run,forced': (0.31666666666666665, 60, 0.31666666666666665, 60),\n",
       "  'to run,called upon': (0.43333333333333335, 60, 0.43333333333333335, 60),\n",
       "  'to run,told': (0.45, 60, 0.45, 60),\n",
       "  'to run,convinced': (0.4, 60, 0.4, 60),\n",
       "  'to run,pushed': (0.4166666666666667, 60, 0.4166666666666667, 60),\n",
       "  'to run,ordered': (0.4166666666666667, 60, 0.4166666666666667, 60),\n",
       "  'to run,asked': (0.43333333333333335, 60, 0.43333333333333335, 60),\n",
       "  'to run,persuaded': (0.38333333333333336, 60, 0.38333333333333336, 60),\n",
       "  'to come,reminded': (0.35, 60, 0.35, 60),\n",
       "  'to come,urged': (0.38333333333333336, 60, 0.38333333333333336, 60),\n",
       "  'to come,forced': (0.26666666666666666, 60, 0.26666666666666666, 60),\n",
       "  'to come,called upon': (0.38333333333333336, 60, 0.38333333333333336, 60),\n",
       "  'to come,told': (0.4, 60, 0.4, 60),\n",
       "  'to come,convinced': (0.4, 60, 0.4, 60),\n",
       "  'to come,pushed': (0.4166666666666667, 60, 0.4166666666666667, 60),\n",
       "  'to come,ordered': (0.4166666666666667, 60, 0.4166666666666667, 60),\n",
       "  'to come,asked': (0.45, 60, 0.45, 60),\n",
       "  'to come,persuaded': (0.35, 60, 0.35, 60),\n",
       "  'to go,reminded': (0.36666666666666664, 60, 0.36666666666666664, 60),\n",
       "  'to go,urged': (0.3333333333333333, 60, 0.45454545454545453, 44),\n",
       "  'to go,forced': (0.25, 60, 0.32608695652173914, 46),\n",
       "  'to go,called upon': (0.43333333333333335, 60, 0.43333333333333335, 60),\n",
       "  'to go,told': (0.4, 60, 0.41379310344827586, 58),\n",
       "  'to go,convinced': (0.36666666666666664, 60, 0.5, 44),\n",
       "  'to go,pushed': (0.3333333333333333, 60, 0.47619047619047616, 42),\n",
       "  'to go,ordered': (0.36666666666666664, 60, 0.5365853658536586, 41),\n",
       "  'to go,asked': (0.4, 60, 0.4444444444444444, 54),\n",
       "  'to go,persuaded': (0.3, 60, 0.3333333333333333, 54),\n",
       "  'to call,reminded': (0.38333333333333336, 60, 0.4791666666666667, 48),\n",
       "  'to call,urged': (0.36666666666666664, 60, 0.6111111111111112, 36),\n",
       "  'to call,forced': (0.2833333333333333, 60, 0.3090909090909091, 55),\n",
       "  'to call,called upon': (0.4, 60, 0.4, 60),\n",
       "  'to call,told': (0.45, 60, 0.4576271186440678, 59),\n",
       "  'to call,convinced': (0.4, 60, 0.42105263157894735, 57),\n",
       "  'to call,pushed': (0.43333333333333335, 60, 0.4482758620689655, 58),\n",
       "  'to call,ordered': (0.43333333333333335, 60, 0.5098039215686274, 51),\n",
       "  'to call,asked': (0.43333333333333335, 60, 0.4642857142857143, 56),\n",
       "  'to call,persuaded': (0.38333333333333336, 60, 0.5227272727272727, 44),\n",
       "  'to read,reminded': (0.4, 60, 0.4, 60),\n",
       "  'to read,urged': (0.43333333333333335, 60, 0.4406779661016949, 59),\n",
       "  'to read,forced': (0.35, 60, 0.35, 60),\n",
       "  'to read,called upon': (0.36666666666666664, 60, 0.36666666666666664, 60),\n",
       "  'to read,told': (0.43333333333333335, 60, 0.43333333333333335, 60),\n",
       "  'to read,convinced': (0.43333333333333335, 60, 0.43333333333333335, 60),\n",
       "  'to read,pushed': (0.45, 60, 0.45, 60),\n",
       "  'to read,ordered': (0.4166666666666667, 60, 0.4166666666666667, 60),\n",
       "  'to read,asked': (0.43333333333333335, 60, 0.43333333333333335, 60),\n",
       "  'to read,persuaded': (0.36666666666666664, 60, 0.36666666666666664, 60)}}"
      ]
     },
     "execution_count": 13,
     "metadata": {},
     "output_type": "execute_result"
    }
   ],
   "source": [
    "accuracy_report(jurassic_df)"
   ]
  },
  {
   "cell_type": "code",
   "execution_count": null,
   "metadata": {},
   "outputs": [],
   "source": [
    "\n",
    "jurassic_kwargs = {\"maxTokens\": 2, \"temperature\": 0.0}\n",
    "jurassic_object_control_experiment  = Experiment(\"jurassic-large\", \"object-control\", FixedGPTPrompt, run_ai21_prompt, 1, jurassic_kwargs)\n",
    "jurassic_object_control_experiment.run(names, correct_index, verbs, actions, qa_pair=(\"Q\",\"A\"))\n",
    "jurassic_df = jurassic_object_control_experiment.format_results()\n",
    "jurassic_df.to_csv(\"/Users/Elias/child-lm/results/jurassic_object_control_qa_swap_names.csv\")\n",
    "\n",
    "# jurassic_df = pd.read_csv(\"/Users/Elias/child-lm/results/jurassic_object_control_qa_swap_names.csv\")"
   ]
  },
  {
   "cell_type": "code",
   "execution_count": null,
   "metadata": {},
   "outputs": [],
   "source": [
    "accuracy_report(jurassic_df)"
   ]
  },
  {
   "cell_type": "markdown",
   "metadata": {},
   "source": [
    "# Passives \n",
    "\n",
    "The passive form reverses the order and also syntactic role of the agent/patient. E.g. \n",
    "\n",
    "- Mary told Tom to wipe the counter \n",
    "- Tom was told by Mary to wipe the counter \n",
    "\n",
    "Now Tom is linearly further away from \"wipe\" and also the grammatical subject of the matrix clause (though still the patient) "
   ]
  },
  {
   "cell_type": "code",
   "execution_count": null,
   "metadata": {},
   "outputs": [],
   "source": [
    "correct_index = 0 "
   ]
  },
  {
   "cell_type": "markdown",
   "metadata": {},
   "source": [
    "## GPT3 "
   ]
  },
  {
   "cell_type": "code",
   "execution_count": 3,
   "metadata": {},
   "outputs": [
    {
     "name": "stderr",
     "output_type": "stream",
     "text": [
      "  0%|          | 0/30 [00:00<?, ?it/s]"
     ]
    }
   ],
   "source": [
    "\n",
    "gpt_kwargs = {\"max_tokens\": 2, \"temperature\": 0.0}\n",
    "passive_gpt_object_control_experiment  = Experiment(\"gpt3\", \"object-control-passive\", FixedPassiveGPTPrompt, run_gpt_prompt, 1, gpt_kwargs) \n",
    "\n",
    "passive_gpt_object_control_experiment.run(names, correct_index, verbs, actions, nicknames=nicknames)\n",
    "\n",
    "passive_gpt_df = passive_gpt_object_control_experiment.format_results()\n",
    "\n",
    "passive_gpt_df.to_csv(\"/Users/Elias/child-lm/results/gpt_passive_object_control_swap_names.csv\")\n",
    "# passive_gpt_df = pd.read_csv(\"/Users/Elias/child-lm/results/gpt_passive_object_control_swap_names.csv\")\n",
    "\n"
   ]
  },
  {
   "cell_type": "code",
   "execution_count": null,
   "metadata": {},
   "outputs": [],
   "source": [
    "accuracy_report(passive_gpt_df)"
   ]
  },
  {
   "cell_type": "markdown",
   "metadata": {},
   "source": [
    "\n",
    "## T5 for QA"
   ]
  },
  {
   "cell_type": "code",
   "execution_count": null,
   "metadata": {},
   "outputs": [],
   "source": [
    "\n",
    "# passive_t5_object_control_experiment  = Experiment(\"t5\", \"object-control-passive\", FixedPassiveT5Prompt, run_t5_prompt, 1, None)\n",
    "\n",
    "# passive_t5_object_control_experiment.run(names, correct_index, verbs, actions, do_swap = False)\n",
    "\n",
    "# passive_t5_df = passive_t5_object_control_experiment.format_results()\n",
    "\n",
    "# passive_t5_df.to_csv(\"/Users/Elias/child-lm/results/t5_passive_object_control.csv\")\n",
    "passive_t5_df = pd.read_csv(\"/Users/Elias/child-lm/results/t5_passive_object_control.csv\")"
   ]
  },
  {
   "cell_type": "code",
   "execution_count": null,
   "metadata": {},
   "outputs": [],
   "source": [
    "accuracy_report(passive_t5_df)"
   ]
  },
  {
   "cell_type": "markdown",
   "metadata": {},
   "source": [
    "## Jurassic Large "
   ]
  },
  {
   "cell_type": "code",
   "execution_count": null,
   "metadata": {},
   "outputs": [],
   "source": [
    "\n",
    "jurassic_kwargs = {\"maxTokens\": 2, \"temperature\": 0.0}\n",
    "passive_jurassic_object_control_experiment  = Experiment(\"jurassic-large\", \"object-control-passive\", FixedPassiveGPTPrompt, run_ai21_prompt, 1, jurassic_kwargs)\n",
    "\n",
    "passive_jurassic_object_control_experiment.run(names, correct_index, verbs, actions, nicknames=nicknames)\n",
    "passive_jurassic_df = passive_jurassic_object_control_experiment.format_results()\n",
    "\n",
    "passive_jurassic_df.to_csv(\"/Users/Elias/child-lm/results/jurassic_passive_object_control_swap_names.csv\")\n",
    "\n",
    "# passive_jurassic_df = pd.read_csv(\"/Users/Elias/child-lm/results/jurassic_object_control_swap_names.csv\")"
   ]
  },
  {
   "cell_type": "code",
   "execution_count": null,
   "metadata": {},
   "outputs": [],
   "source": [
    "accuracy_report(passive_jurassic_df)"
   ]
  },
  {
   "cell_type": "code",
   "execution_count": null,
   "metadata": {},
   "outputs": [],
   "source": []
  }
 ],
 "metadata": {
  "interpreter": {
   "hash": "ec6008f546f3cd66431ed7a4f2e2b63949ea9a2fd324a00b9368fd8a5a5333f5"
  },
  "kernelspec": {
   "display_name": "Python 3.7.11 64-bit ('openai': conda)",
   "language": "python",
   "name": "python3"
  },
  "language_info": {
   "codemirror_mode": {
    "name": "ipython",
    "version": 3
   },
   "file_extension": ".py",
   "mimetype": "text/x-python",
   "name": "python",
   "nbconvert_exporter": "python",
   "pygments_lexer": "ipython3",
   "version": "3.7.11"
  },
  "orig_nbformat": 4
 },
 "nbformat": 4,
 "nbformat_minor": 2
}
