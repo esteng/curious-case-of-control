{
 "cells": [
  {
   "cell_type": "code",
   "execution_count": null,
   "metadata": {},
   "outputs": [],
   "source": [
    "import json\n",
    "import pandas as pd \n",
    "\n",
    "from experiment import Experiment\n",
    "from api_tools import (FixedGPTPrompt, \n",
    "                       FixedPassiveGPTPrompt, \n",
    "                       FixedT5Prompt, \n",
    "                       FixedPassiveT5Prompt, \n",
    "                       run_ai21_prompt, \n",
    "                       run_gpt_prompt, \n",
    "                       run_t5_prompt)\n",
    "\n",
    "from metrics import accuracy_report\n"
   ]
  },
  {
   "cell_type": "markdown",
   "metadata": {},
   "source": [
    "# Object Control\n",
    "Starting with the object control experiments, we will look at how 4 LMs do:\n",
    "1. GPT3\n",
    "2. T5 for QA \n",
    "3. Jurassic large \n",
    "4. Jurassic Jumbo\n",
    "\n",
    "## Experimental settings\n",
    "We're looking at different name pairs to control for gender. We have 2 male-female name pairs, 1 male-male pair, 1 female-female pair, and 1 neutral-neutral. \n",
    "We're also looking at 10 object control verbs and 5 different actions. "
   ]
  },
  {
   "cell_type": "code",
   "execution_count": null,
   "metadata": {},
   "outputs": [],
   "source": [
    "names = json.load(open(\"../data/names_top_2.json\"))\n",
    "verbs = [\"told\", \"ordered\", \"called upon\", \"reminded\", \"urged\", \"asked\", \"persuaded\", \"convinced\", \"forced\", \"pushed\"]\n",
    "# actions = [(\"to leave\", \"left\"), (\"to call home\", \"called home\"), (\"to reply\", \"replied\"), (\"to wipe the counter\", \"wiped the counter\"), (\"to dance\", \"danced\")]\n",
    "actions = json.load(open(\"../data/verbs.json\"))\n",
    "correct_index = 1\n",
    "nicknames = json.load(open(\"../data/nicknames.json\"))"
   ]
  },
  {
   "cell_type": "markdown",
   "metadata": {},
   "source": [
    "## GPT 3\n",
    "For GPT3, inference is not deterministic, so we're running 5 replicants per prompt "
   ]
  },
  {
   "cell_type": "code",
   "execution_count": null,
   "metadata": {},
   "outputs": [],
   "source": [
    "\n",
    "\n",
    "\n",
    "gpt_kwargs = {\"max_tokens\": 2, \"temperature\": 0.0}\n",
    "gpt_object_control_experiment  = Experiment(\"gpt3\", \"object-control\", FixedGPTPrompt, run_gpt_prompt, 5, gpt_kwargs)\n",
    "gpt_object_control_experiment.recover(\"/Users/Elias/child-lm/results/gpt_object_control_swap_names.csv\")\n",
    "\n",
    "\n",
    "# print(gpt_object_control_experiment.results[0:10])\n",
    "# print(gpt_object_control_experiment.results[-10:])\n",
    "# gpt_object_control_experiment.run(names, correct_index, verbs, actions, rate_limit=False, nicknames=nicknames)\n",
    "gpt_object_control_experiment.recompute(nicknames)\n",
    "gpt_df = gpt_object_control_experiment.format_results()\n",
    "# gpt_df.to_csv(\"/Users/Elias/child-lm/results/gpt_object_control_swap_names.csv\")\n"
   ]
  },
  {
   "cell_type": "code",
   "execution_count": null,
   "metadata": {},
   "outputs": [],
   "source": [
    "accuracy_report(gpt_df)"
   ]
  },
  {
   "cell_type": "code",
   "execution_count": null,
   "metadata": {},
   "outputs": [],
   "source": []
  },
  {
   "cell_type": "code",
   "execution_count": null,
   "metadata": {},
   "outputs": [],
   "source": [
    "\n",
    "# gpt_kwargs = {\"max_tokens\": 2, \"temperature\": 0.0}\n",
    "# gpt_object_control_experiment  = Experiment(\"gpt3\", \"object-control\", FixedGPTPrompt, run_gpt_prompt, 5, gpt_kwargs)\n",
    "# gpt_object_control_experiment.run(names, correct_index, verbs, actions, qa_pair=(\"Q\", \"A\"))\n",
    "# gpt_df = gpt_object_control_experiment.format_results()\n",
    "\n",
    "# gpt_df.to_csv(\"/Users/Elias/child-lm/results/gpt_object_control_qa_swap_names.csv\")\n",
    "\n",
    "# gpt_df = pd.read_csv(\"/Users/Elias/child-lm/results/gpt_object_control_qa_swap_names.csv\")"
   ]
  },
  {
   "cell_type": "code",
   "execution_count": null,
   "metadata": {},
   "outputs": [],
   "source": [
    "# accuracy_report(gpt_df)"
   ]
  },
  {
   "cell_type": "markdown",
   "metadata": {},
   "source": [
    "## T5 for QA"
   ]
  },
  {
   "cell_type": "code",
   "execution_count": 5,
   "metadata": {},
   "outputs": [
    {
     "name": "stderr",
     "output_type": "stream",
     "text": [
      " 33%|███▎      | 10/30 [03:25<05:53, 17.68s/it]"
     ]
    }
   ],
   "source": [
    "\n",
    "t5_object_control_experiment  = Experiment(\"t5\", \"object-control\", FixedT5Prompt, run_t5_prompt, 1, None)\n",
    "\n",
    "t5_object_control_experiment.run(names, correct_index, verbs, actions, do_swap = False, nicknames=nicknames, rate_limit_delay=15)"
   ]
  },
  {
   "cell_type": "code",
   "execution_count": null,
   "metadata": {},
   "outputs": [],
   "source": [
    "t5_df = t5_object_control_experiment.format_results()\n",
    "\n",
    "t5_df.to_csv(\"/Users/Elias/child-lm/results/t5_object_control.csv\")\n",
    "\n",
    "# t5_df = pd.read_csv(\"/Users/Elias/child-lm/results/t5_object_control.csv\")"
   ]
  },
  {
   "cell_type": "code",
   "execution_count": null,
   "metadata": {},
   "outputs": [],
   "source": [
    "accuracy_report(t5_df)"
   ]
  },
  {
   "cell_type": "markdown",
   "metadata": {},
   "source": [
    "## Jurassic Large"
   ]
  },
  {
   "cell_type": "code",
   "execution_count": null,
   "metadata": {},
   "outputs": [],
   "source": [
    "\n",
    "jurassic_kwargs = {\"maxTokens\": 2, \"temperature\": 0.0}\n",
    "jurassic_object_control_experiment  = Experiment(\"jurassic-large\", \"object-control\", FixedGPTPrompt, run_ai21_prompt, 1, jurassic_kwargs)\n",
    "\n",
    "jurassic_object_control_experiment.run(names, correct_index, verbs, actions, nicknames=nicknames)\n",
    "\n",
    "jurassic_df = jurassic_object_control_experiment.format_results()\n",
    "\n",
    "jurassic_df.to_csv(\"/Users/Elias/child-lm/results/jurassic_object_control_swap_names.csv\")\n",
    "\n",
    "# jurassic_df = pd.read_csv(\"/Users/Elias/child-lm/results/jurassic_object_control_swap_names.csv\")"
   ]
  },
  {
   "cell_type": "code",
   "execution_count": null,
   "metadata": {},
   "outputs": [],
   "source": [
    "accuracy_report(jurassic_df)"
   ]
  },
  {
   "cell_type": "code",
   "execution_count": null,
   "metadata": {},
   "outputs": [],
   "source": [
    "\n",
    "jurassic_kwargs = {\"maxTokens\": 2, \"temperature\": 0.0}\n",
    "jurassic_object_control_experiment  = Experiment(\"jurassic-large\", \"object-control\", FixedGPTPrompt, run_ai21_prompt, 1, jurassic_kwargs)\n",
    "jurassic_object_control_experiment.run(names, correct_index, verbs, actions, qa_pair=(\"Q\",\"A\"))\n",
    "jurassic_df = jurassic_object_control_experiment.format_results()\n",
    "jurassic_df.to_csv(\"/Users/Elias/child-lm/results/jurassic_object_control_qa_swap_names.csv\")\n",
    "\n",
    "# jurassic_df = pd.read_csv(\"/Users/Elias/child-lm/results/jurassic_object_control_qa_swap_names.csv\")"
   ]
  },
  {
   "cell_type": "code",
   "execution_count": null,
   "metadata": {},
   "outputs": [],
   "source": [
    "accuracy_report(jurassic_df)"
   ]
  },
  {
   "cell_type": "markdown",
   "metadata": {},
   "source": [
    "# Passives \n",
    "\n",
    "The passive form reverses the order and also syntactic role of the agent/patient. E.g. \n",
    "\n",
    "- Mary told Tom to wipe the counter \n",
    "- Tom was told by Mary to wipe the counter \n",
    "\n",
    "Now Tom is linearly further away from \"wipe\" and also the grammatical subject of the matrix clause (though still the patient) "
   ]
  },
  {
   "cell_type": "code",
   "execution_count": null,
   "metadata": {},
   "outputs": [],
   "source": [
    "correct_index = 0 "
   ]
  },
  {
   "cell_type": "markdown",
   "metadata": {},
   "source": [
    "## GPT3 "
   ]
  },
  {
   "cell_type": "code",
   "execution_count": null,
   "metadata": {},
   "outputs": [],
   "source": [
    "\n",
    "# gpt_kwargs = {\"max_tokens\": 2, \"temperature\": 0.0}\n",
    "# passive_gpt_object_control_experiment  = Experiment(\"gpt3\", \"object-control-passive\", FixedPassiveGPTPrompt, run_gpt_prompt, 5, gpt_kwargs) \n",
    "\n",
    "# passive_gpt_object_control_experiment.run(names, correct_index, verbs, actions)\n",
    "\n",
    "# passive_gpt_df = passive_gpt_object_control_experiment.format_results()\n",
    "\n",
    "# passive_gpt_df.to_csv(\"/Users/Elias/child-lm/results/gpt_passive_object_control_swap_names.csv\")\n",
    "passive_gpt_df = pd.read_csv(\"/Users/Elias/child-lm/results/gpt_passive_object_control_swap_names.csv\")\n",
    "\n"
   ]
  },
  {
   "cell_type": "code",
   "execution_count": null,
   "metadata": {},
   "outputs": [],
   "source": [
    "accuracy_report(passive_gpt_df)"
   ]
  },
  {
   "cell_type": "markdown",
   "metadata": {},
   "source": [
    "\n",
    "## T5 for QA"
   ]
  },
  {
   "cell_type": "code",
   "execution_count": null,
   "metadata": {},
   "outputs": [],
   "source": [
    "\n",
    "# passive_t5_object_control_experiment  = Experiment(\"t5\", \"object-control-passive\", FixedPassiveT5Prompt, run_t5_prompt, 1, None)\n",
    "\n",
    "# passive_t5_object_control_experiment.run(names, correct_index, verbs, actions, do_swap = False)\n",
    "\n",
    "# passive_t5_df = passive_t5_object_control_experiment.format_results()\n",
    "\n",
    "# passive_t5_df.to_csv(\"/Users/Elias/child-lm/results/t5_passive_object_control.csv\")\n",
    "passive_t5_df = pd.read_csv(\"/Users/Elias/child-lm/results/t5_passive_object_control.csv\")"
   ]
  },
  {
   "cell_type": "code",
   "execution_count": null,
   "metadata": {},
   "outputs": [],
   "source": [
    "accuracy_report(passive_t5_df)"
   ]
  },
  {
   "cell_type": "markdown",
   "metadata": {},
   "source": [
    "## Jurassic Large "
   ]
  },
  {
   "cell_type": "code",
   "execution_count": null,
   "metadata": {},
   "outputs": [],
   "source": [
    "\n",
    "# jurassic_kwargs = {\"maxTokens\": 2, \"temperature\": 0.0}\n",
    "# passive_jurassic_object_control_experiment  = Experiment(\"jurassic-large\", \"object-control-passive\", FixedPassiveGPTPrompt, run_ai21_prompt, 1, jurassic_kwargs)\n",
    "\n",
    "# passive_jurassic_object_control_experiment.run(names, correct_index, verbs, actions)\n",
    "# passive_jurassic_df = passive_jurassic_object_control_experiment.format_results()\n",
    "\n",
    "# passive_jurassic_df.to_csv(\"/Users/Elias/child-lm/results/jurassic_passive_object_control_swap_names.csv\")\n",
    "\n",
    "passive_jurassic_df = pd.read_csv(\"/Users/Elias/child-lm/results/jurassic_object_control_swap_names.csv\")"
   ]
  },
  {
   "cell_type": "code",
   "execution_count": null,
   "metadata": {},
   "outputs": [],
   "source": [
    "accuracy_report(passive_jurassic_df)"
   ]
  },
  {
   "cell_type": "code",
   "execution_count": null,
   "metadata": {},
   "outputs": [],
   "source": []
  }
 ],
 "metadata": {
  "interpreter": {
   "hash": "ec6008f546f3cd66431ed7a4f2e2b63949ea9a2fd324a00b9368fd8a5a5333f5"
  },
  "kernelspec": {
   "display_name": "Python 3.7.11 64-bit ('openai': conda)",
   "language": "python",
   "name": "python3"
  },
  "language_info": {
   "codemirror_mode": {
    "name": "ipython",
    "version": 3
   },
   "file_extension": ".py",
   "mimetype": "text/x-python",
   "name": "python",
   "nbconvert_exporter": "python",
   "pygments_lexer": "ipython3",
   "version": "3.7.11"
  },
  "orig_nbformat": 4
 },
 "nbformat": 4,
 "nbformat_minor": 2
}
