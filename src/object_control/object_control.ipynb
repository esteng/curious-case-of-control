{
 "cells": [
  {
   "cell_type": "code",
   "execution_count": 1,
   "metadata": {},
   "outputs": [],
   "source": [
    "import pandas as pd \n",
    "import json\n",
    "import sys\n",
    "import pathlib \n",
    "\n",
    "path_to_notebook = pathlib.Path(\"\").absolute()\n",
    "sys.path.insert(0, str(path_to_notebook.parent))\n",
    "sys.path.insert(0, str(path_to_notebook.parent.parent))\n",
    "\n",
    "from experiment import Experiment\n",
    "from api_tools import (FixedGPTPrompt, \n",
    "                       FixedPassiveGPTPrompt, \n",
    "                       FixedT5Prompt, \n",
    "                       FixedPassiveT5Prompt, \n",
    "                       run_ai21_prompt, \n",
    "                       run_ai21_jumbo_prompt,\n",
    "                       run_gpt_prompt, \n",
    "                       run_t5_prompt)\n",
    "\n",
    "from metrics import accuracy_report\n"
   ]
  },
  {
   "cell_type": "markdown",
   "metadata": {},
   "source": [
    "# Object Control\n",
    "Starting with the object control experiments, we will look at how 4 LMs do:\n",
    "1. GPT3\n",
    "2. T5 for QA \n",
    "3. Jurassic large \n",
    "4. Jurassic Jumbo\n",
    "\n",
    "## Experimental settings\n",
    "We're looking at different name pairs to control for gender. We have 2 male-female name pairs, 1 male-male pair, 1 female-female pair, and 1 neutral-neutral. \n",
    "We're also looking at 10 object control verbs and 5 different actions. "
   ]
  },
  {
   "cell_type": "code",
   "execution_count": 2,
   "metadata": {},
   "outputs": [],
   "source": [
    "names = json.load(open(\"../../data/names_top_2.json\"))\n",
    "verbs = [\"told\", \"ordered\", \"called upon\", \"reminded\", \"urged\", \"asked\", \"persuaded\", \"convinced\", \"forced\", \"pushed\"]\n",
    "actions = json.load(open(\"../../data/verbs.json\"))\n",
    "correct_index = 1\n",
    "nicknames = json.load(open(\"../../data/nicknames.json\"))"
   ]
  },
  {
   "cell_type": "markdown",
   "metadata": {},
   "source": [
    "## GPT 3\n",
    " "
   ]
  },
  {
   "cell_type": "code",
   "execution_count": 5,
   "metadata": {},
   "outputs": [
    {
     "name": "stderr",
     "output_type": "stream",
     "text": [
      "100%|██████████| 30/30 [30:49<00:00, 61.66s/it]\n"
     ]
    }
   ],
   "source": [
    "\n",
    "gpt_kwargs = {\"max_tokens\": 2, \"temperature\": 0.0}\n",
    "gpt_object_control_experiment  = Experiment(\"gpt3\", \"object-control\", FixedGPTPrompt, run_gpt_prompt, 1, gpt_kwargs)\n",
    "gpt_object_control_experiment.run(names, correct_index, verbs, actions, nicknames=nicknames, do_swap=False)\n",
    "\n",
    "gpt_df = gpt_object_control_experiment.format_results()\n",
    "gpt_df.to_csv(\"../../short_instructions/results/gpt_object_control.csv\")\n"
   ]
  },
  {
   "cell_type": "markdown",
   "metadata": {},
   "source": [
    "## Jurassic Large"
   ]
  },
  {
   "cell_type": "code",
   "execution_count": 6,
   "metadata": {},
   "outputs": [
    {
     "name": "stderr",
     "output_type": "stream",
     "text": [
      "100%|██████████| 30/30 [30:42<00:00, 61.42s/it]\n"
     ]
    }
   ],
   "source": [
    "\n",
    "jurassic_kwargs = {\"maxTokens\": 2, \"temperature\": 0.0}\n",
    "jurassic_object_control_experiment  = Experiment(\"jurassic-large\", \"object-control\", FixedGPTPrompt, run_ai21_prompt, 1, jurassic_kwargs)\n",
    "\n",
    "jurassic_object_control_experiment.run(names, correct_index, verbs, actions, nicknames=nicknames, do_swap=False)\n",
    "\n",
    "jurassic_df = jurassic_object_control_experiment.format_results()\n",
    "\n",
    "jurassic_df.to_csv(\"../../short_instructions/results/jurassic_object_control.csv\")\n",
    "\n"
   ]
  },
  {
   "cell_type": "markdown",
   "metadata": {},
   "source": [
    "## Jurassic jumbo"
   ]
  },
  {
   "cell_type": "code",
   "execution_count": 4,
   "metadata": {},
   "outputs": [
    {
     "name": "stderr",
     "output_type": "stream",
     "text": [
      "100%|██████████| 30/30 [1:27:30<00:00, 175.01s/it]\n"
     ]
    }
   ],
   "source": [
    "\n",
    "jurassic_kwargs = {\"maxTokens\": 2, \"temperature\": 0.0}\n",
    "jurassic_jumbo_object_control_experiment  = Experiment(\"jurassic-jumbo\", \"object-control\", FixedGPTPrompt, run_ai21_jumbo_prompt, 1, jurassic_kwargs)\n",
    "\n",
    "jurassic_jumbo_object_control_experiment.run(names, correct_index, verbs, actions, nicknames=nicknames, do_swap=False, \n",
    "                                            rate_limit_count=19, rate_limit_delay=60)\n",
    "\n",
    "jurassic_jumbo_df = jurassic_jumbo_object_control_experiment.format_results()\n",
    "\n",
    "jurassic_jumbo_df.to_csv(\"../../short_instructions/results/jurassic_jumbo_object_control.csv\")\n",
    "\n"
   ]
  },
  {
   "cell_type": "markdown",
   "metadata": {},
   "source": [
    "# Passives \n",
    "\n",
    "The passive form reverses the order and also syntactic role of the agent/patient. E.g. \n",
    "\n",
    "- Mary told Tom to wipe the counter \n",
    "- Tom was told by Mary to wipe the counter \n",
    "\n",
    "Now Tom is linearly further away from \"wipe\" and also the grammatical subject of the matrix clause (though still the patient) "
   ]
  },
  {
   "cell_type": "code",
   "execution_count": null,
   "metadata": {},
   "outputs": [],
   "source": [
    "correct_index = 0 "
   ]
  },
  {
   "cell_type": "markdown",
   "metadata": {},
   "source": [
    "## GPT3 Passive"
   ]
  },
  {
   "cell_type": "code",
   "execution_count": 10,
   "metadata": {},
   "outputs": [
    {
     "name": "stderr",
     "output_type": "stream",
     "text": [
      "100%|██████████| 30/30 [30:39<00:00, 61.31s/it]\n"
     ]
    }
   ],
   "source": [
    "\n",
    "correct_idx = 0\n",
    "gpt_kwargs = {\"max_tokens\": 2, \"temperature\": 0.0}\n",
    "passive_gpt_object_control_experiment  = Experiment(\"gpt3\", \"object-control-passive\", FixedPassiveGPTPrompt, run_gpt_prompt, 1, gpt_kwargs) \n",
    "\n",
    "passive_gpt_object_control_experiment.run(names, correct_index, verbs, actions, nicknames=nicknames, do_swap=False)\n",
    "\n",
    "passive_gpt_df = passive_gpt_object_control_experiment.format_results()\n",
    "\n",
    "passive_gpt_df.to_csv(\"../../short_instructions/results/gpt_passive_object_control.csv\")"
   ]
  },
  {
   "cell_type": "markdown",
   "metadata": {},
   "source": [
    "## Jurassic Large Passive"
   ]
  },
  {
   "cell_type": "code",
   "execution_count": 11,
   "metadata": {},
   "outputs": [
    {
     "name": "stderr",
     "output_type": "stream",
     "text": [
      "100%|██████████| 30/30 [30:47<00:00, 61.59s/it]\n"
     ]
    }
   ],
   "source": [
    "\n",
    "correct_idx = 0\n",
    "jurassic_kwargs = {\"maxTokens\": 2, \"temperature\": 0.0}\n",
    "passive_jurassic_object_control_experiment  = Experiment(\"jurassic-large\", \"object-control-passive\", FixedPassiveGPTPrompt, run_ai21_prompt, 1, jurassic_kwargs)\n",
    "\n",
    "passive_jurassic_object_control_experiment.run(names, correct_index, verbs, actions, nicknames=nicknames, do_swap=False)\n",
    "passive_jurassic_df = passive_jurassic_object_control_experiment.format_results()\n",
    "\n",
    "passive_jurassic_df.to_csv(\"../../short_instructions/results/jurassic_passive_object_control.csv\")"
   ]
  },
  {
   "cell_type": "markdown",
   "metadata": {},
   "source": [
    "## Jurassic jumbo passive"
   ]
  },
  {
   "cell_type": "code",
   "execution_count": 14,
   "metadata": {},
   "outputs": [
    {
     "name": "stderr",
     "output_type": "stream",
     "text": [
      "100%|██████████| 30/30 [1:27:30<00:00, 175.00s/it]\n"
     ]
    }
   ],
   "source": [
    "\n",
    "correct_idx = 0\n",
    "jurassic_kwargs = {\"maxTokens\": 2, \"temperature\": 0.0}\n",
    "passive_jurassic_object_control_experiment  = Experiment(\"jurassic-jumbo\", \"object-control-passive\", FixedPassiveGPTPrompt, run_ai21_jumbo_prompt, 1, jurassic_kwargs)\n",
    "\n",
    "passive_jurassic_object_control_experiment.run(names, correct_index, verbs, actions, nicknames=nicknames, do_swap=False,\n",
    "                                                 rate_limit_count=19, rate_limit_delay=60)\n",
    "passive_jurassic_df = passive_jurassic_object_control_experiment.format_results()\n",
    "\n",
    "passive_jurassic_df.to_csv(\"../../short_instructions/results/jurassic_jumbo_passive_object_control.csv\")"
   ]
  },
  {
   "cell_type": "markdown",
   "metadata": {},
   "source": [
    "# Prompt hacking"
   ]
  },
  {
   "cell_type": "markdown",
   "metadata": {},
   "source": [
    "## Just agent/patient\n",
    "\n",
    "## GPT3"
   ]
  },
  {
   "cell_type": "code",
   "execution_count": 7,
   "metadata": {},
   "outputs": [
    {
     "name": "stderr",
     "output_type": "stream",
     "text": [
      "100%|██████████| 30/30 [03:49<00:00,  7.65s/it] \n"
     ]
    }
   ],
   "source": [
    "\n",
    "correct_idx = 0\n",
    "gpt_kwargs = {\"max_tokens\": 2, \"temperature\": 0.0}\n",
    "gpt_object_control_experiment  = Experiment(\"gpt3\", \"object-control\", FixedGPTPrompt, run_gpt_prompt, 1, gpt_kwargs)\n",
    "gpt_object_control_experiment.recover(\"../../short_instructions/results_just_prompt_agent/gpt_object_control.csv\")\n",
    "gpt_object_control_experiment.run(names, correct_index, verbs, actions, nicknames=nicknames, do_swap=False, just_prompt_agent=True)\n",
    "\n",
    "gpt_df = gpt_object_control_experiment.format_results()\n",
    "gpt_df.to_csv(\"../../short_instructions/results_just_prompt_agent/gpt_object_control.csv\")\n"
   ]
  },
  {
   "cell_type": "code",
   "execution_count": 6,
   "metadata": {},
   "outputs": [],
   "source": [
    "gpt_df = gpt_object_control_experiment.format_results()\n",
    "gpt_df.to_csv(\"../../short_instructions/results_just_prompt_agent/gpt_object_control.csv\")"
   ]
  },
  {
   "cell_type": "code",
   "execution_count": 8,
   "metadata": {},
   "outputs": [
    {
     "name": "stderr",
     "output_type": "stream",
     "text": [
      "100%|██████████| 30/30 [30:38<00:00, 61.29s/it]\n"
     ]
    }
   ],
   "source": [
    "\n",
    "correct_idx = 1\n",
    "gpt_kwargs = {\"max_tokens\": 2, \"temperature\": 0.0}\n",
    "gpt_object_control_experiment  = Experiment(\"gpt3\", \"object-control\", FixedGPTPrompt, run_gpt_prompt, 1, gpt_kwargs)\n",
    "gpt_object_control_experiment.run(names, correct_index, verbs, actions, nicknames=nicknames, do_swap=False, just_prompt_patient=True)\n",
    "\n",
    "gpt_df = gpt_object_control_experiment.format_results()\n",
    "gpt_df.to_csv(\"../../short_instructions/results_just_prompt_patient/gpt_object_control.csv\")\n"
   ]
  },
  {
   "cell_type": "markdown",
   "metadata": {},
   "source": [
    "## Fully hacked"
   ]
  },
  {
   "cell_type": "markdown",
   "metadata": {},
   "source": [
    "## GPT-3"
   ]
  },
  {
   "cell_type": "code",
   "execution_count": 9,
   "metadata": {},
   "outputs": [
    {
     "name": "stderr",
     "output_type": "stream",
     "text": [
      "100%|██████████| 30/30 [30:40<00:00, 61.36s/it]\n"
     ]
    }
   ],
   "source": [
    "\n",
    "correct_idx = 1\n",
    "gpt_kwargs = {\"max_tokens\": 2, \"temperature\": 0.0}\n",
    "gpt_object_control_experiment  = Experiment(\"gpt3\", \"object-control\", FixedGPTPrompt, run_gpt_prompt, 1, gpt_kwargs)\n",
    "gpt_object_control_experiment.run(names, correct_index, verbs, actions, nicknames=nicknames, do_swap=False, prompt_hacking=True)\n",
    "\n",
    "gpt_df = gpt_object_control_experiment.format_results()\n",
    "gpt_df.to_csv(\"../../short_instructions/results_hacked/gpt_object_control.csv\")\n"
   ]
  },
  {
   "cell_type": "markdown",
   "metadata": {},
   "source": [
    "## GPT-3 passive"
   ]
  },
  {
   "cell_type": "code",
   "execution_count": 16,
   "metadata": {},
   "outputs": [
    {
     "name": "stderr",
     "output_type": "stream",
     "text": [
      "100%|██████████| 30/30 [30:40<00:00, 61.34s/it]\n"
     ]
    }
   ],
   "source": [
    "\n",
    "correct_idx = 0\n",
    "gpt_kwargs = {\"max_tokens\": 2, \"temperature\": 0.0}\n",
    "gpt_object_control_experiment  = Experiment(\"gpt3\", \"object-control-passive\", FixedPassiveGPTPrompt, run_gpt_prompt, 1, gpt_kwargs)\n",
    "gpt_object_control_experiment.run(names, correct_index, verbs, actions, nicknames=nicknames, do_swap=False, prompt_hacking=True)\n",
    "\n",
    "gpt_df = gpt_object_control_experiment.format_results()\n",
    "gpt_df.to_csv(\"../../short_instructions/results_hacked/gpt_passive_object_control.csv\")\n"
   ]
  },
  {
   "cell_type": "markdown",
   "metadata": {},
   "source": [
    "## Jurassic large"
   ]
  },
  {
   "cell_type": "code",
   "execution_count": 3,
   "metadata": {},
   "outputs": [
    {
     "name": "stderr",
     "output_type": "stream",
     "text": [
      "100%|██████████| 30/30 [56:05<00:00, 112.19s/it]\n"
     ]
    }
   ],
   "source": [
    "\n",
    "correct_index = 1\n",
    "jurassic_kwargs = {\"maxTokens\": 2, \"temperature\": 0.0}\n",
    "jurassic_object_control_experiment  = Experiment(\"jurassic-large\", \"object-control\", FixedGPTPrompt, run_ai21_prompt, 1, jurassic_kwargs)\n",
    "jurassic_object_control_experiment.run(names, correct_index, verbs, actions, nicknames=nicknames, do_swap=False, prompt_hacking=True, \n",
    "                                             rate_limit_delay=60, rate_limit_count=30)\n",
    "jurassic_df = jurassic_object_control_experiment.format_results()\n",
    "jurassic_df.to_csv(\"../../short_instructions/results_hacked/jurassic_object_control.csv\")"
   ]
  },
  {
   "cell_type": "markdown",
   "metadata": {},
   "source": [
    "## Jurassic large passive"
   ]
  },
  {
   "cell_type": "code",
   "execution_count": 12,
   "metadata": {},
   "outputs": [
    {
     "name": "stderr",
     "output_type": "stream",
     "text": [
      "100%|██████████| 30/30 [25:57<00:00, 51.91s/it]\n"
     ]
    }
   ],
   "source": [
    "\n",
    "correct_idx = 0\n",
    "jurassic_kwargs = {\"maxTokens\": 2, \"temperature\": 0.0}\n",
    "passive_jurassic_object_control_experiment  = Experiment(\"jurassic-large\", \"object-control-passive\", FixedPassiveGPTPrompt, run_ai21_prompt, 1, jurassic_kwargs)\n",
    "passive_jurassic_object_control_experiment.recover(\"../../short_instructions/results_hacked/jurassic_passive_object_control.csv\")\n",
    "passive_jurassic_object_control_experiment.run(names, correct_index, verbs, actions, nicknames=nicknames, do_swap=False, prompt_hacking=True)\n",
    "passive_jurassic_df = passive_jurassic_object_control_experiment.format_results()\n",
    "passive_jurassic_df.to_csv(\"../../short_instructions/results_hacked/jurassic_passive_object_control.csv\")"
   ]
  },
  {
   "cell_type": "markdown",
   "metadata": {},
   "source": [
    "## Jurassic jumbo"
   ]
  },
  {
   "cell_type": "code",
   "execution_count": 3,
   "metadata": {},
   "outputs": [
    {
     "name": "stderr",
     "output_type": "stream",
     "text": [
      "100%|██████████| 30/30 [04:44<00:00,  9.48s/it] \n"
     ]
    }
   ],
   "source": [
    "\n",
    "jurassic_kwargs = {\"maxTokens\": 2, \"temperature\": 0.0}\n",
    "jurassic_jumbo_object_control_exper\n",
    "iment  = Experiment(\"jurassic-jumbo\", \"object-control\", FixedGPTPrompt, run_ai21_jumbo_prompt, 1, jurassic_kwargs)\n",
    "jurassic_jumbo_object_control_experiment.recover(\"../../short_instructions/results_hacked/jurassic_jumbo_object_control.csv\")\n",
    "jurassic_jumbo_object_control_experiment.run(names, correct_index, verbs, actions, nicknames=nicknames, do_swap=False, prompt_hacking=True, \n",
    "                                            overwrite=False,\n",
    "                                            rate_limit_count=19, rate_limit_delay=60)\n",
    "\n"
   ]
  },
  {
   "cell_type": "code",
   "execution_count": 4,
   "metadata": {},
   "outputs": [],
   "source": [
    "jurassic_jumbo_df = jurassic_jumbo_object_control_experiment.format_results()\n",
    "\n",
    "jurassic_jumbo_df.to_csv(\"../../short_instructions/results_hacked/jurassic_jumbo_object_control.csv\")\n",
    "\n"
   ]
  },
  {
   "cell_type": "markdown",
   "metadata": {},
   "source": [
    "## Jurassic jumbo passive "
   ]
  },
  {
   "cell_type": "code",
   "execution_count": 5,
   "metadata": {},
   "outputs": [
    {
     "name": "stderr",
     "output_type": "stream",
     "text": [
      "100%|██████████| 30/30 [1:27:30<00:00, 175.01s/it]\n"
     ]
    }
   ],
   "source": [
    "import time\n",
    "time.sleep(60)\n",
    "\n",
    "correct_idx = 0\n",
    "jurassic_kwargs = {\"maxTokens\": 2, \"temperature\": 0.0}\n",
    "passive_jurassic_object_control_experiment  = Experiment(\"jurassic-jumbo\", \"object-control-passive\", FixedPassiveGPTPrompt, run_ai21_jumbo_prompt, 1, jurassic_kwargs)\n",
    "\n",
    "passive_jurassic_object_control_experiment.run(names, correct_index, verbs, actions, nicknames=nicknames, do_swap=False, \n",
    "                                                prompt_hacking=True, rate_limit_count=19, rate_limit_delay=60)\n",
    "passive_jurassic_df = passive_jurassic_object_control_experiment.format_results()\n",
    "\n",
    "passive_jurassic_df.to_csv(\"../../short_instructions/results_hacked/jurassic_jumbo_passive_object_control.csv\")"
   ]
  },
  {
   "cell_type": "markdown",
   "metadata": {},
   "source": [
    "# Now with instructions"
   ]
  },
  {
   "cell_type": "markdown",
   "metadata": {},
   "source": [
    "## GPT-3 object control\n",
    "- already done"
   ]
  },
  {
   "cell_type": "markdown",
   "metadata": {},
   "source": [
    "## GPT-3 passive object control\n",
    "- already done"
   ]
  },
  {
   "cell_type": "markdown",
   "metadata": {},
   "source": [
    "## GPT-3 prompt-hacked object control "
   ]
  },
  {
   "cell_type": "code",
   "execution_count": 15,
   "metadata": {},
   "outputs": [
    {
     "name": "stderr",
     "output_type": "stream",
     "text": [
      "100%|██████████| 30/30 [30:39<00:00, 61.33s/it]\n"
     ]
    }
   ],
   "source": [
    "\n",
    "correct_idx = 1\n",
    "gpt_kwargs = {\"max_tokens\": 2, \"temperature\": 0.0}\n",
    "gpt_object_control_experiment  = Experiment(\"gpt3\", \"object-control\", FixedGPTPrompt, run_gpt_prompt, 1, gpt_kwargs)\n",
    "gpt_object_control_experiment.run(names, correct_index, verbs, actions, nicknames=nicknames, do_swap=False, prompt_hacking=True, long_instruction=True)\n",
    "\n",
    "gpt_df = gpt_object_control_experiment.format_results()\n",
    "gpt_df.to_csv(\"../../with_instructions/results_hacked/gpt_object_control.csv\")\n"
   ]
  },
  {
   "cell_type": "markdown",
   "metadata": {},
   "source": [
    "## GPT-3 passive prompt-hacked object control "
   ]
  },
  {
   "cell_type": "code",
   "execution_count": 17,
   "metadata": {},
   "outputs": [
    {
     "name": "stderr",
     "output_type": "stream",
     "text": [
      "100%|██████████| 30/30 [30:38<00:00, 61.29s/it]\n"
     ]
    }
   ],
   "source": [
    "\n",
    "correct_idx = 0\n",
    "gpt_kwargs = {\"max_tokens\": 2, \"temperature\": 0.0}\n",
    "gpt_object_control_experiment  = Experiment(\"gpt3\", \"object-control-passive\", FixedPassiveGPTPrompt, run_gpt_prompt, 1, gpt_kwargs)\n",
    "gpt_object_control_experiment.run(names, correct_index, verbs, actions, nicknames=nicknames, do_swap=False, prompt_hacking=True, long_instruction=True)\n",
    "\n",
    "gpt_df = gpt_object_control_experiment.format_results()\n",
    "gpt_df.to_csv(\"../../with_instructions/results_hacked/gpt_passive_object_control.csv\")\n"
   ]
  },
  {
   "cell_type": "markdown",
   "metadata": {},
   "source": [
    "## Jurassic large"
   ]
  },
  {
   "cell_type": "code",
   "execution_count": 8,
   "metadata": {},
   "outputs": [
    {
     "name": "stderr",
     "output_type": "stream",
     "text": [
      "100%|██████████| 30/30 [29:22<00:00, 58.76s/it]\n"
     ]
    }
   ],
   "source": [
    "\n",
    "jurassic_kwargs = {\"maxTokens\": 2, \"temperature\": 0.0}\n",
    "jurassic_object_control_experiment  = Experiment(\"jurassic-large\", \"object-control\", FixedGPTPrompt, run_ai21_prompt, 1, jurassic_kwargs)\n",
    "\n",
    "jurassic_object_control_experiment.run(names, correct_index, verbs, actions, nicknames=nicknames, \n",
    "                                       rate_limit_count=58, rate_limit_delay=60,\n",
    "                                       do_swap=False, prompt_hacking=True, long_instruction=True)\n",
    "\n",
    "jurassic_df = jurassic_object_control_experiment.format_results()\n",
    "\n",
    "jurassic_df.to_csv(\"../../with_instructions/results_hacked/jurassic_object_control.csv\")\n",
    "\n"
   ]
  },
  {
   "cell_type": "markdown",
   "metadata": {},
   "source": [
    "## Jurassic large passive"
   ]
  },
  {
   "cell_type": "code",
   "execution_count": 3,
   "metadata": {},
   "outputs": [
    {
     "name": "stderr",
     "output_type": "stream",
     "text": [
      "100%|██████████| 30/30 [1:27:30<00:00, 175.01s/it]\n"
     ]
    }
   ],
   "source": [
    "\n",
    "correct_idx = 0\n",
    "jurassic_kwargs = {\"maxTokens\": 2, \"temperature\": 0.0}\n",
    "passive_jurassic_object_control_experiment  = Experiment(\"jurassic-large\", \"object-control-passive\", FixedPassiveGPTPrompt, run_ai21_jumbo_prompt, 1, jurassic_kwargs)\n",
    "\n",
    "passive_jurassic_object_control_experiment.run(names, correct_index, verbs, actions, nicknames=nicknames, do_swap=False,\n",
    "                                                prompt_hacking=True, rate_limit_count=19, rate_limit_delay=60)\n",
    "passive_jurassic_df = passive_jurassic_object_control_experiment.format_results()\n",
    "\n",
    "passive_jurassic_df.to_csv(\"../../with_instructions/results_hacked/jurassic_passive_object_control.csv\")"
   ]
  },
  {
   "cell_type": "markdown",
   "metadata": {},
   "source": [
    "## Jurassic jumbo passive "
   ]
  },
  {
   "cell_type": "code",
   "execution_count": 4,
   "metadata": {},
   "outputs": [
    {
     "name": "stderr",
     "output_type": "stream",
     "text": [
      "100%|██████████| 30/30 [1:27:30<00:00, 175.01s/it]\n"
     ]
    }
   ],
   "source": [
    "\n",
    "correct_idx = 0\n",
    "jurassic_kwargs = {\"maxTokens\": 2, \"temperature\": 0.0}\n",
    "passive_jurassic_object_control_experiment  = Experiment(\"jurassic-jumbo\", \"object-control-passive\", FixedPassiveGPTPrompt, run_ai21_jumbo_prompt, 1, jurassic_kwargs)\n",
    "\n",
    "passive_jurassic_object_control_experiment.run(names, correct_index, verbs, actions, nicknames=nicknames, do_swap=False, long_instruction=True,\n",
    "                                                prompt_hacking=True, rate_limit_count=19, rate_limit_delay=60)\n",
    "passive_jurassic_df = passive_jurassic_object_control_experiment.format_results()\n",
    "\n",
    "passive_jurassic_df.to_csv(\"../../with_instructions/results_hacked/jurassic_jumbo_passive_object_control.csv\")"
   ]
  },
  {
   "cell_type": "markdown",
   "metadata": {},
   "source": [
    "## Jurassic jumbo active"
   ]
  },
  {
   "cell_type": "code",
   "execution_count": 6,
   "metadata": {},
   "outputs": [
    {
     "name": "stderr",
     "output_type": "stream",
     "text": [
      "  0%|          | 0/30 [00:00<?, ?it/s]"
     ]
    }
   ],
   "source": [
    "\n",
    "jurassic_kwargs = {\"maxTokens\": 2, \"temperature\": 0.0}\n",
    "jurassic_jumbo_object_control_experiment  = Experiment(\"jurassic-jumbo\", \"object-control\", FixedGPTPrompt, run_ai21_jumbo_prompt, 1, jurassic_kwargs)\n",
    "\n",
    "jurassic_jumbo_object_control_experiment.run(names, correct_index, verbs, actions, nicknames=nicknames, do_swap=False, long_instruction=True,\n",
    "                                            prompt_hacking=True,\n",
    "                                            rate_limit_count=19, rate_limit_delay=60)\n",
    "\n",
    "jurassic_jumbo_df = jurassic_jumbo_object_control_experiment.format_results()\n",
    "\n",
    "jurassic_jumbo_df.to_csv(\"../../with_instructions/results_hacked/jurassic_jumbo_object_control.csv\")\n",
    "\n"
   ]
  },
  {
   "cell_type": "code",
   "execution_count": null,
   "metadata": {},
   "outputs": [],
   "source": []
  }
 ],
 "metadata": {
  "interpreter": {
   "hash": "ec6008f546f3cd66431ed7a4f2e2b63949ea9a2fd324a00b9368fd8a5a5333f5"
  },
  "kernelspec": {
   "display_name": "Python 3.7.11 64-bit ('openai': conda)",
   "language": "python",
   "name": "python3"
  },
  "language_info": {
   "codemirror_mode": {
    "name": "ipython",
    "version": 3
   },
   "file_extension": ".py",
   "mimetype": "text/x-python",
   "name": "python",
   "nbconvert_exporter": "python",
   "pygments_lexer": "ipython3",
   "version": "3.7.11"
  },
  "orig_nbformat": 4
 },
 "nbformat": 4,
 "nbformat_minor": 2
}
