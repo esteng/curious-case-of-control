{
 "cells": [
  {
   "cell_type": "code",
   "execution_count": 8,
   "metadata": {},
   "outputs": [],
   "source": [
    "from hf_tools.hf import HuggingfaceRunFxn \n",
    "\n",
    "\n",
    "run_fxn = HuggingfaceRunFxn(\"EleutherAI/gpt-neo-1.3B\", device=\"cuda:0\", max_len=100)"
   ]
  },
  {
   "cell_type": "code",
   "execution_count": 9,
   "metadata": {},
   "outputs": [
    {
     "name": "stderr",
     "output_type": "stream",
     "text": [
      "Setting `pad_token_id` to `eos_token_id`:50256 for open-end generation.\n"
     ]
    },
    {
     "name": "stdout",
     "output_type": "stream",
     "text": [
      "You will be given a context and a question. Answer the question with either \"Casey\" or \"Avery\".\n",
      "Context: Avery told Casey to come.\n",
      "\n",
      "Question: Who told someone to come?\n",
      "Answer: \n",
      "Casey: Avery\n",
      "Avery: Casey\n",
      "\n",
      "A:\n",
      "\n",
      "The answer is:\n",
      "\n",
      "Avery: Casey\n",
      "\n",
      "The context is:\n",
      "\n",
      "Avery told Casey to come.\n",
      "\n",
      "The question is:\n",
      "\n",
      "Who told someone to\n"
     ]
    }
   ],
   "source": [
    "# Original\n",
    "prompt = \"\"\"You will be given a context and a question. Answer the question with either \"Casey\" or \"Avery\".\n",
    "Context: Avery told Casey to come.\n",
    "\n",
    "Question: Who told someone to come?\n",
    "Answer: \"\"\"\n",
    "\n",
    "\n",
    "print(run_fxn(prompt, None))\n"
   ]
  },
  {
   "cell_type": "code",
   "execution_count": 7,
   "metadata": {},
   "outputs": [
    {
     "name": "stderr",
     "output_type": "stream",
     "text": [
      "Setting `pad_token_id` to `eos_token_id`:50256 for open-end generation.\n"
     ]
    },
    {
     "name": "stdout",
     "output_type": "stream",
     "text": [
      "You will be given a context and a question. Answer the question with either \"Casey\" or \"Avery\".\n",
      "Context: \"Avery told Casey to come.\"\n",
      "\n",
      "Question: Who told someone to come?\n",
      "Answer: \n",
      "Casey told Avery to come.\n",
      "\n",
      "A:\n",
      "\n",
      "The answer is:\n",
      "\n",
      "Casey told Avery to come.\n",
      "\n",
      "The context is:\n",
      "\n",
      "Avery told Casey to come.\n",
      "\n",
      "The question is:\n",
      "\n",
      "Who\n"
     ]
    }
   ],
   "source": [
    "### Try quotations around context\n",
    "prompt = \"\"\"You will be given a context and a question. Answer the question with either \"Casey\" or \"Avery\".\n",
    "Context: \"Avery told Casey to come.\"\n",
    "\n",
    "Question: Who told someone to come?\n",
    "Answer: \"\"\"\n",
    "\n",
    "\n",
    "print(run_fxn(prompt, None))\n"
   ]
  },
  {
   "cell_type": "code",
   "execution_count": 10,
   "metadata": {},
   "outputs": [
    {
     "name": "stderr",
     "output_type": "stream",
     "text": [
      "Setting `pad_token_id` to `eos_token_id`:50256 for open-end generation.\n"
     ]
    },
    {
     "name": "stdout",
     "output_type": "stream",
     "text": [
      "You will be given a sentence and a question. Answer the question with either \"Casey\" or \"Avery\".\n",
      "Sentence: Avery told Casey to come.\n",
      "\n",
      "Question: Who told someone to come?\n",
      "Answer: \n",
      "Casey told Avery to come.\n",
      "\n",
      "A:\n",
      "\n",
      "The sentence is correct.\n",
      "The question is: Who told someone to come?\n",
      "The answer is: Casey told Avery to come.\n",
      "\n",
      "A:\n",
      "\n",
      "The sentence is correct.\n"
     ]
    }
   ],
   "source": [
    "### Replace \"Context\" with \"Sentence\"\n",
    "prompt = \"\"\"You will be given a sentence and a question. Answer the question with either \"Casey\" or \"Avery\".\n",
    "Sentence: Avery told Casey to come.\n",
    "\n",
    "Question: Who told someone to come?\n",
    "Answer: \"\"\"\n",
    "\n",
    "\n",
    "print(run_fxn(prompt, None))\n"
   ]
  },
  {
   "cell_type": "code",
   "execution_count": 11,
   "metadata": {},
   "outputs": [
    {
     "name": "stderr",
     "output_type": "stream",
     "text": [
      "Setting `pad_token_id` to `eos_token_id`:50256 for open-end generation.\n"
     ]
    },
    {
     "name": "stdout",
     "output_type": "stream",
     "text": [
      "You will be given a context and a question. Answer the question with either \"Casey\" or \"Avery\".\n",
      "Context: Avery told Casey to come.\n",
      "\n",
      "Q: Who told someone to come?\n",
      "A: \n",
      "\n",
      "A: \n",
      "\n",
      "A: \n",
      "\n",
      "A: \n",
      "\n",
      "A: \n",
      "\n",
      "A: \n",
      "\n",
      "A: \n",
      "\n",
      "A: \n",
      "\n",
      "A: \n",
      "\n",
      "A: \n",
      "\n",
      "A: \n",
      "\n",
      "A\n"
     ]
    }
   ],
   "source": [
    "### Try Q and A instead\n",
    "prompt = \"\"\"You will be given a context and a question. Answer the question with either \"Casey\" or \"Avery\".\n",
    "Context: Avery told Casey to come.\n",
    "\n",
    "Q: Who told someone to come?\n",
    "A: \"\"\"\n",
    "\n",
    "\n",
    "print(run_fxn(prompt, None))\n"
   ]
  },
  {
   "cell_type": "code",
   "execution_count": 12,
   "metadata": {},
   "outputs": [
    {
     "name": "stderr",
     "output_type": "stream",
     "text": [
      "Setting `pad_token_id` to `eos_token_id`:50256 for open-end generation.\n"
     ]
    },
    {
     "name": "stdout",
     "output_type": "stream",
     "text": [
      "You will be given a context and a question.\n",
      "Context: Avery told Casey to come.\n",
      "\n",
      "Question: Who told someone to come?\n",
      "Answer:  Avery.\n",
      "\n",
      "Question: Who told Avery to come?\n",
      "Answer:  Casey.\n",
      "\n",
      "Question: Who told Casey to come?\n",
      "Answer:  Avery.\n",
      "\n",
      "Question: Who told Casey to come?\n",
      "Answer:  Casey.\n",
      "\n",
      "Question: Who told Casey to come?\n",
      "Answer:  Avery.\n",
      "\n"
     ]
    }
   ],
   "source": [
    "# Remove names from instructions\n",
    "prompt = \"\"\"You will be given a context and a question.\n",
    "Context: Avery told Casey to come.\n",
    "\n",
    "Question: Who told someone to come?\n",
    "Answer: \"\"\"\n",
    "\n",
    "\n",
    "print(run_fxn(prompt, None))\n"
   ]
  },
  {
   "cell_type": "code",
   "execution_count": 15,
   "metadata": {},
   "outputs": [
    {
     "name": "stderr",
     "output_type": "stream",
     "text": [
      "Setting `pad_token_id` to `eos_token_id`:50256 for open-end generation.\n"
     ]
    },
    {
     "name": "stdout",
     "output_type": "stream",
     "text": [
      "Question answering: Answer the following question.\n",
      "Context: Avery told Casey to come.\n",
      "\n",
      "Question: Who told someone to come?\n",
      "Answer: \n",
      "\n",
      "A:\n",
      "\n",
      "The answer is:\n",
      "\n",
      " Casey\n",
      "\n",
      "Reasoning:\n",
      "\n",
      " Casey told Avery to come.\n",
      "\n",
      "A:\n",
      "\n",
      " Casey told Avery to come.\n",
      "\n",
      "A:\n",
      "\n",
      " Casey told Avery to come.\n",
      "\n",
      "A:\n",
      "\n",
      " Casey told Avery to come.\n",
      "\n",
      "A:\n",
      "\n",
      " Casey told Avery to come.\n",
      "\n"
     ]
    }
   ],
   "source": [
    "# Remove more instructions\n",
    "prompt = \"\"\"Question answering: Answer the following question.\n",
    "Context: Avery told Casey to come.\n",
    "\n",
    "Question: Who told someone to come?\n",
    "Answer: \"\"\"\n",
    "\n",
    "\n",
    "print(run_fxn(prompt, None))\n"
   ]
  },
  {
   "cell_type": "code",
   "execution_count": 18,
   "metadata": {},
   "outputs": [
    {
     "name": "stderr",
     "output_type": "stream",
     "text": [
      "Setting `pad_token_id` to `eos_token_id`:50256 for open-end generation.\n"
     ]
    },
    {
     "name": "stdout",
     "output_type": "stream",
     "text": [
      "You will be given a context and a question. Answer the question with either \"Casey\" or \"Avery\".\n",
      "Context: Avery told Casey to come.\n",
      "\n",
      "Question:  Who came, Casey or Avery?\n",
      "Answer:  Avery came.\n",
      "\n",
      "A:\n",
      "\n",
      "The answer is:\n",
      "\n",
      " Avery came.\n",
      "\n",
      "The context is:\n",
      "\n",
      " Avery told Casey to come.\n",
      "\n",
      "The question is:\n",
      "\n",
      " Who came, Casey or Avery?\n",
      "\n",
      "The answer is:\n",
      "\n",
      "\n"
     ]
    }
   ],
   "source": [
    "## Original embedded\n",
    "\n",
    "prompt = \"\"\"You will be given a context and a question. Answer the question with either \"Casey\" or \"Avery\".\n",
    "Context: Avery told Casey to come.\n",
    "\n",
    "Question:  Who came, Casey or Avery?\n",
    "Answer: \"\"\"\n",
    "\n",
    "print(run_fxn(prompt, None))"
   ]
  },
  {
   "cell_type": "code",
   "execution_count": 19,
   "metadata": {},
   "outputs": [
    {
     "name": "stderr",
     "output_type": "stream",
     "text": [
      "Setting `pad_token_id` to `eos_token_id`:50256 for open-end generation.\n"
     ]
    },
    {
     "name": "stdout",
     "output_type": "stream",
     "text": [
      "You will be given a context and a question.\n",
      "Context: Avery told Casey to come.\n",
      "\n",
      "Question:  Who came, Casey or Avery?\n",
      "Answer:  Avery came.\n",
      "\n",
      "Question:  Who came, Casey or Avery?\n",
      "Answer:  Avery came.\n",
      "\n",
      "Question:  Who came, Casey or Avery?\n",
      "Answer:  Avery came.\n",
      "\n",
      "Question:  Who came, Casey or Avery?\n",
      "Answer:  Avery came.\n",
      "\n",
      "Question: \n"
     ]
    }
   ],
   "source": [
    "## Remove names from instructions 1\n",
    "\n",
    "prompt = \"\"\"You will be given a context and a question.\n",
    "Context: Avery told Casey to come.\n",
    "\n",
    "Question:  Who came, Casey or Avery?\n",
    "Answer: \"\"\"\n",
    "\n",
    "print(run_fxn(prompt, None))"
   ]
  },
  {
   "cell_type": "code",
   "execution_count": 20,
   "metadata": {},
   "outputs": [
    {
     "name": "stderr",
     "output_type": "stream",
     "text": [
      "Setting `pad_token_id` to `eos_token_id`:50256 for open-end generation.\n"
     ]
    },
    {
     "name": "stdout",
     "output_type": "stream",
     "text": [
      "You will be given a context and a question.\n",
      "Context: Avery told Casey to come.\n",
      "\n",
      "Question:  Who came?\n",
      "Answer:  Avery.\n",
      "\n",
      "Question:  Who told Casey to come?\n",
      "Answer:  Avery.\n",
      "\n",
      "Question:  Who told Avery to come?\n",
      "Answer:  Avery.\n",
      "\n",
      "Question:  Who told Casey to come?\n",
      "Answer:  Avery.\n",
      "\n",
      "Question:  Who told Avery to come?\n",
      "Answer:  Avery\n"
     ]
    }
   ],
   "source": [
    "## Remove names from instructions 1\n",
    "\n",
    "prompt = \"\"\"You will be given a context and a question.\n",
    "Context: Avery told Casey to come.\n",
    "\n",
    "Question:  Who came?\n",
    "Answer: \"\"\"\n",
    "\n",
    "print(run_fxn(prompt, None))"
   ]
  },
  {
   "cell_type": "code",
   "execution_count": null,
   "metadata": {},
   "outputs": [],
   "source": []
  }
 ],
 "metadata": {
  "interpreter": {
   "hash": "3121ba8541e67f7e839f305684ea3814f59c71974b3238c74aa3730a425f63bc"
  },
  "kernelspec": {
   "display_name": "Python 3.7.11 64-bit ('openai': conda)",
   "language": "python",
   "name": "python3"
  },
  "language_info": {
   "codemirror_mode": {
    "name": "ipython",
    "version": 3
   },
   "file_extension": ".py",
   "mimetype": "text/x-python",
   "name": "python",
   "nbconvert_exporter": "python",
   "pygments_lexer": "ipython3",
   "version": "3.7.11"
  },
  "orig_nbformat": 4
 },
 "nbformat": 4,
 "nbformat_minor": 2
}
