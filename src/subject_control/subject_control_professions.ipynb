{
 "cells": [
  {
   "cell_type": "code",
   "execution_count": 1,
   "metadata": {},
   "outputs": [],
   "source": [
    "import pandas as pd \n",
    "import json \n",
    "\n",
    "from experiment import Experiment\n",
    "from api_tools import (FixedGPTPrompt, \n",
    "                       FixedGPTPromptNoName,\n",
    "                       FixedPassiveGPTPrompt, \n",
    "                       FixedPassiveGPTPromptNoName,\n",
    "                       FixedT5Prompt, \n",
    "                       FixedPassiveT5Prompt, \n",
    "                       run_ai21_prompt, \n",
    "                       run_ai21_jumbo_prompt, \n",
    "                       run_gpt_prompt, \n",
    "                       run_t5_prompt)\n",
    "\n",
    "from metrics import accuracy_report\n"
   ]
  },
  {
   "cell_type": "markdown",
   "metadata": {},
   "source": [
    "# Subject Control\n",
    "Starting with the **subject** control experiments, we will look at how 4 LMs do:\n",
    "1. GPT3\n",
    "2. T5 for QA \n",
    "3. Jurassic large \n",
    "4. Jurassic Jumbo\n",
    "\n",
    "## Experimental settings\n",
    "We're looking at different name pairs to control for gender. We have 2 male-female name pairs, 1 male-male pair, 1 female-female pair, and 1 neutral-neutral. \n",
    "We're still looking at 5 different actions, but only one verb: promise. \n",
    "\n",
    "We can later coerce (with gender) subject control on \"suggested\" and \"proposed\" "
   ]
  },
  {
   "cell_type": "code",
   "execution_count": 2,
   "metadata": {},
   "outputs": [],
   "source": [
    "names = json.load(open(\"../data/professions.json\"))\n",
    "verbs = [\"promised\"]\n",
    "actions = json.load(open(\"../data/verbs.json\"))\n",
    "correct_index = 0\n",
    "\n",
    "nicknames = json.load(open(\"../data/nicknames_professions.json\"))\n"
   ]
  },
  {
   "cell_type": "markdown",
   "metadata": {},
   "source": [
    "## GPT 3\n",
    "For GPT3, inference is not deterministic, so we're running 5 replicants per prompt "
   ]
  },
  {
   "cell_type": "code",
   "execution_count": 8,
   "metadata": {},
   "outputs": [
    {
     "name": "stderr",
     "output_type": "stream",
     "text": [
      "100%|██████████| 30/30 [05:56<00:00, 11.88s/it]\n"
     ]
    }
   ],
   "source": [
    "\n",
    "gpt_kwargs = {\"max_tokens\": 4, \"temperature\": 0.0}\n",
    "gpt_subject_control_experiment  = Experiment(\"gpt3\", \"subject-control\", FixedGPTPrompt, run_gpt_prompt, 1, gpt_kwargs)\n",
    "\n",
    "gpt_subject_control_experiment.run(names, correct_index, verbs, actions, nicknames=nicknames)"
   ]
  },
  {
   "cell_type": "code",
   "execution_count": 9,
   "metadata": {},
   "outputs": [],
   "source": [
    "gpt_df = gpt_subject_control_experiment.format_results()\n",
    "\n",
    "gpt_df.to_csv(\"../results_profession/gpt_subject_control_swap_names.csv\")\n",
    "\n",
    "# gpt_df = pd.read_csv(\"/Users/Elias/child-lm/results/gpt_subject_control_swap_names.csv\")"
   ]
  },
  {
   "cell_type": "code",
   "execution_count": 10,
   "metadata": {},
   "outputs": [
    {
     "data": {
      "text/plain": [
       "{'total': (0.11, 300, 0.6, 55),\n",
       " 'acc_by_name': {'the janitor,the lawyer': (0.0, 20, 0.0, 1),\n",
       "  'the janitor,the engineer': (0.2, 20, 0.8, 5),\n",
       "  'the janitor,the bartender': (0.0, 20, 0.0, 1),\n",
       "  'the janitor,the doctor': (0.0, 20, -1, 0),\n",
       "  'the janitor,the writer': (0.05, 20, 0.3333333333333333, 3),\n",
       "  'the lawyer,the engineer': (0.05, 20, 1.0, 1),\n",
       "  'the lawyer,the bartender': (0.1, 20, 0.5, 4),\n",
       "  'the lawyer,the doctor': (0.4, 20, 0.8, 10),\n",
       "  'the lawyer,the writer': (0.0, 20, -1, 0),\n",
       "  'the engineer,the bartender': (0.05, 20, 0.3333333333333333, 3),\n",
       "  'the engineer,the doctor': (0.25, 20, 0.5, 10),\n",
       "  'the engineer,the writer': (0.1, 20, 1.0, 2),\n",
       "  'the bartender,the doctor': (0.05, 20, 0.5, 2),\n",
       "  'the bartender,the writer': (0.0, 20, -1, 0),\n",
       "  'the doctor,the writer': (0.4, 20, 0.6153846153846154, 13)},\n",
       " 'acc_by_first_name': {'the janitor,the janitor': (-1, 0, -1, 0),\n",
       "  'the janitor,the lawyer': (0.0, 10, 0.0, 1),\n",
       "  'the janitor,the engineer': (0.0, 10, 0.0, 1),\n",
       "  'the janitor,the bartender': (0.0, 10, 0.0, 1),\n",
       "  'the janitor,the doctor': (0.0, 10, -1, 0),\n",
       "  'the janitor,the writer': (0.0, 10, 0.0, 2),\n",
       "  'the lawyer,the janitor': (0.0, 10, -1, 0),\n",
       "  'the lawyer,the lawyer': (-1, 0, -1, 0),\n",
       "  'the lawyer,the engineer': (0.0, 10, -1, 0),\n",
       "  'the lawyer,the bartender': (0.1, 10, 0.5, 2),\n",
       "  'the lawyer,the doctor': (0.0, 10, -1, 0),\n",
       "  'the lawyer,the writer': (0.0, 10, -1, 0),\n",
       "  'the engineer,the janitor': (0.4, 10, 1.0, 4),\n",
       "  'the engineer,the lawyer': (0.1, 10, 1.0, 1),\n",
       "  'the engineer,the engineer': (-1, 0, -1, 0),\n",
       "  'the engineer,the bartender': (0.0, 10, 0.0, 2),\n",
       "  'the engineer,the doctor': (0.1, 10, 1.0, 1),\n",
       "  'the engineer,the writer': (0.2, 10, 1.0, 2),\n",
       "  'the bartender,the janitor': (0.0, 10, -1, 0),\n",
       "  'the bartender,the lawyer': (0.1, 10, 0.5, 2),\n",
       "  'the bartender,the engineer': (0.1, 10, 1.0, 1),\n",
       "  'the bartender,the bartender': (-1, 0, -1, 0),\n",
       "  'the bartender,the doctor': (0.1, 10, 0.5, 2),\n",
       "  'the bartender,the writer': (0.0, 10, -1, 0),\n",
       "  'the doctor,the janitor': (0.0, 10, -1, 0),\n",
       "  'the doctor,the lawyer': (0.8, 10, 0.8, 10),\n",
       "  'the doctor,the engineer': (0.4, 10, 0.4444444444444444, 9),\n",
       "  'the doctor,the bartender': (0.0, 10, -1, 0),\n",
       "  'the doctor,the doctor': (-1, 0, -1, 0),\n",
       "  'the doctor,the writer': (0.4, 10, 0.5, 8),\n",
       "  'the writer,the janitor': (0.1, 10, 1.0, 1),\n",
       "  'the writer,the lawyer': (0.0, 10, -1, 0),\n",
       "  'the writer,the engineer': (0.0, 10, -1, 0),\n",
       "  'the writer,the bartender': (0.0, 10, -1, 0),\n",
       "  'the writer,the doctor': (0.4, 10, 0.8, 5),\n",
       "  'the writer,the writer': (-1, 0, -1, 0)},\n",
       " 'acc_by_action': {'to read': (0.13333333333333333,\n",
       "   60,\n",
       "   0.6666666666666666,\n",
       "   12),\n",
       "  'to call': (0.13333333333333333, 60, 0.8888888888888888, 9),\n",
       "  'to go': (0.1, 60, 0.6666666666666666, 9),\n",
       "  'to run': (0.11666666666666667, 60, 0.5833333333333334, 12),\n",
       "  'to come': (0.06666666666666667, 60, 0.3076923076923077, 13)},\n",
       " 'acc_by_verb': {'promised': (0.11, 300, 0.6, 55)},\n",
       " 'acc_by_action_by_verb': {'to read,promised': (0.13333333333333333,\n",
       "   60,\n",
       "   0.6666666666666666,\n",
       "   12),\n",
       "  'to call,promised': (0.13333333333333333, 60, 0.8888888888888888, 9),\n",
       "  'to go,promised': (0.1, 60, 0.6666666666666666, 9),\n",
       "  'to run,promised': (0.11666666666666667, 60, 0.5833333333333334, 12),\n",
       "  'to come,promised': (0.06666666666666667, 60, 0.3076923076923077, 13)}}"
      ]
     },
     "execution_count": 10,
     "metadata": {},
     "output_type": "execute_result"
    }
   ],
   "source": [
    "accuracy_report(gpt_df)"
   ]
  },
  {
   "cell_type": "code",
   "execution_count": null,
   "metadata": {},
   "outputs": [],
   "source": []
  },
  {
   "cell_type": "markdown",
   "metadata": {},
   "source": [
    "## Jurassic Large"
   ]
  },
  {
   "cell_type": "code",
   "execution_count": 6,
   "metadata": {},
   "outputs": [
    {
     "name": "stderr",
     "output_type": "stream",
     "text": [
      "100%|██████████| 30/30 [06:00<00:00, 12.02s/it]\n"
     ]
    }
   ],
   "source": [
    "\n",
    "jurassic_kwargs = {\"maxTokens\": 2, \"temperature\": 0.0}\n",
    "jurassic_subject_control_experiment  = Experiment(\"jurassic-large\", \"subject-control\", FixedGPTPrompt, run_ai21_prompt, 1, jurassic_kwargs)\n",
    "\n",
    "jurassic_subject_control_experiment.run(names, correct_index, verbs, actions, nicknames=nicknames)"
   ]
  },
  {
   "cell_type": "code",
   "execution_count": 7,
   "metadata": {},
   "outputs": [],
   "source": [
    "jurassic_df = jurassic_subject_control_experiment.format_results()\n",
    "\n",
    "jurassic_df.to_csv(\"../results_profession/jurassic_subject_control_swap_names.csv\")\n",
    "\n",
    "# jurassic_df = pd.read_csv(\"/Users/Elias/child-lm/results/jurassic_subject_control_swap_names.csv\")"
   ]
  },
  {
   "cell_type": "code",
   "execution_count": 8,
   "metadata": {},
   "outputs": [
    {
     "data": {
      "text/plain": [
       "{'total': (0.45666666666666667, 300, 0.5150375939849624, 266),\n",
       " 'acc_by_name': {'the janitor,the doctor': (0.4, 20, 0.5, 16),\n",
       "  'the janitor,the bartender': (0.65, 20, 0.65, 20),\n",
       "  'the janitor,the engineer': (0.5, 20, 0.5, 20),\n",
       "  'the janitor,the lawyer': (0.55, 20, 0.55, 20),\n",
       "  'the janitor,the writer': (0.5, 20, 0.5, 20),\n",
       "  'the doctor,the bartender': (0.25, 20, 0.45454545454545453, 11),\n",
       "  'the doctor,the engineer': (0.4, 20, 0.47058823529411764, 17),\n",
       "  'the doctor,the lawyer': (0.2, 20, 0.4444444444444444, 9),\n",
       "  'the doctor,the writer': (0.4, 20, 0.6153846153846154, 13),\n",
       "  'the bartender,the engineer': (0.5, 20, 0.5, 20),\n",
       "  'the bartender,the lawyer': (0.5, 20, 0.5, 20),\n",
       "  'the bartender,the writer': (0.5, 20, 0.5, 20),\n",
       "  'the engineer,the lawyer': (0.5, 20, 0.5, 20),\n",
       "  'the engineer,the writer': (0.5, 20, 0.5, 20),\n",
       "  'the lawyer,the writer': (0.5, 20, 0.5, 20)},\n",
       " 'acc_by_first_name': {'the janitor,the janitor': (-1, 0, -1, 0),\n",
       "  'the janitor,the doctor': (0.6, 10, 0.75, 8),\n",
       "  'the janitor,the bartender': (0.5, 10, 0.5, 10),\n",
       "  'the janitor,the engineer': (0.5, 10, 0.5, 10),\n",
       "  'the janitor,the lawyer': (0.1, 10, 0.1, 10),\n",
       "  'the janitor,the writer': (1.0, 10, 1.0, 10),\n",
       "  'the doctor,the janitor': (0.2, 10, 0.25, 8),\n",
       "  'the doctor,the doctor': (-1, 0, -1, 0),\n",
       "  'the doctor,the bartender': (0.4, 10, 0.6666666666666666, 6),\n",
       "  'the doctor,the engineer': (0.3, 10, 0.375, 8),\n",
       "  'the doctor,the lawyer': (0.4, 10, 1.0, 4),\n",
       "  'the doctor,the writer': (0.7, 10, 1.0, 7),\n",
       "  'the bartender,the janitor': (0.8, 10, 0.8, 10),\n",
       "  'the bartender,the doctor': (0.1, 10, 0.2, 5),\n",
       "  'the bartender,the bartender': (-1, 0, -1, 0),\n",
       "  'the bartender,the engineer': (0.5, 10, 0.5, 10),\n",
       "  'the bartender,the lawyer': (0.5, 10, 0.5, 10),\n",
       "  'the bartender,the writer': (1.0, 10, 1.0, 10),\n",
       "  'the engineer,the janitor': (0.5, 10, 0.5, 10),\n",
       "  'the engineer,the doctor': (0.5, 10, 0.5555555555555556, 9),\n",
       "  'the engineer,the bartender': (0.5, 10, 0.5, 10),\n",
       "  'the engineer,the engineer': (-1, 0, -1, 0),\n",
       "  'the engineer,the lawyer': (0.5, 10, 0.5, 10),\n",
       "  'the engineer,the writer': (1.0, 10, 1.0, 10),\n",
       "  'the lawyer,the janitor': (1.0, 10, 1.0, 10),\n",
       "  'the lawyer,the doctor': (0.0, 10, 0.0, 5),\n",
       "  'the lawyer,the bartender': (0.5, 10, 0.5, 10),\n",
       "  'the lawyer,the engineer': (0.5, 10, 0.5, 10),\n",
       "  'the lawyer,the lawyer': (-1, 0, -1, 0),\n",
       "  'the lawyer,the writer': (1.0, 10, 1.0, 10),\n",
       "  'the writer,the janitor': (0.0, 10, 0.0, 10),\n",
       "  'the writer,the doctor': (0.1, 10, 0.16666666666666666, 6),\n",
       "  'the writer,the bartender': (0.0, 10, 0.0, 10),\n",
       "  'the writer,the engineer': (0.0, 10, 0.0, 10),\n",
       "  'the writer,the lawyer': (0.0, 10, 0.0, 10),\n",
       "  'the writer,the writer': (-1, 0, -1, 0)},\n",
       " 'acc_by_action': {'to read': (0.45, 60, 0.5, 54),\n",
       "  'to come': (0.5166666666666667, 60, 0.5166666666666667, 60),\n",
       "  'to go': (0.4166666666666667, 60, 0.5319148936170213, 47),\n",
       "  'to run': (0.5166666666666667, 60, 0.5166666666666667, 60),\n",
       "  'to call': (0.38333333333333336, 60, 0.5111111111111111, 45)},\n",
       " 'acc_by_verb': {'promised': (0.45666666666666667,\n",
       "   300,\n",
       "   0.5150375939849624,\n",
       "   266)},\n",
       " 'acc_by_action_by_verb': {'to read,promised': (0.45, 60, 0.5, 54),\n",
       "  'to come,promised': (0.5166666666666667, 60, 0.5166666666666667, 60),\n",
       "  'to go,promised': (0.4166666666666667, 60, 0.5319148936170213, 47),\n",
       "  'to run,promised': (0.5166666666666667, 60, 0.5166666666666667, 60),\n",
       "  'to call,promised': (0.38333333333333336, 60, 0.5111111111111111, 45)}}"
      ]
     },
     "execution_count": 8,
     "metadata": {},
     "output_type": "execute_result"
    }
   ],
   "source": [
    "accuracy_report(jurassic_df)"
   ]
  },
  {
   "cell_type": "markdown",
   "metadata": {},
   "source": [
    "## Jurassic Jumbo"
   ]
  },
  {
   "cell_type": "code",
   "execution_count": 12,
   "metadata": {},
   "outputs": [],
   "source": [
    "\n",
    "# jurassic_kwargs = {\"maxTokens\": 2, \"temperature\": 0.0}\n",
    "# jurassic_jumbo_subject_control_experiment  = Experiment(\"jurassic-jumbo\", \"subject-control\", FixedGPTPrompt, run_ai21_jumbo_prompt, 1, jurassic_kwargs)\n",
    "\n",
    "# jurassic_jumbo_subject_control_experiment.run(names, correct_index, verbs, actions, nicknames=nicknames, do_swap=True, rate_limit_delay=60, rate_limit_count=19)\n",
    "# jurassic_jumbo_df = jurassic_jumbo_subject_control_experiment.format_results()\n",
    "\n",
    "# jurassic_jumbo_df.to_csv(\"../results_profession/jurassic_jumbo_subject_control.csv\")\n",
    "\n",
    "jurassic_jumbo_df = pd.read_csv(\"../results_profession/jurassic_subject_control_swap_names.csv\")"
   ]
  },
  {
   "cell_type": "code",
   "execution_count": 13,
   "metadata": {},
   "outputs": [
    {
     "data": {
      "text/plain": [
       "{'total': (0.45666666666666667, 300, 0.5150375939849624, 266),\n",
       " 'acc_by_name': {'the janitor,the lawyer': (0.55, 20, 0.55, 20),\n",
       "  'the janitor,the engineer': (0.5, 20, 0.5, 20),\n",
       "  'the janitor,the bartender': (0.65, 20, 0.65, 20),\n",
       "  'the janitor,the doctor': (0.4, 20, 0.5, 16),\n",
       "  'the janitor,the writer': (0.5, 20, 0.5, 20),\n",
       "  'the lawyer,the engineer': (0.5, 20, 0.5, 20),\n",
       "  'the lawyer,the bartender': (0.5, 20, 0.5, 20),\n",
       "  'the lawyer,the doctor': (0.2, 20, 0.4444444444444444, 9),\n",
       "  'the lawyer,the writer': (0.5, 20, 0.5, 20),\n",
       "  'the engineer,the bartender': (0.5, 20, 0.5, 20),\n",
       "  'the engineer,the doctor': (0.4, 20, 0.47058823529411764, 17),\n",
       "  'the engineer,the writer': (0.5, 20, 0.5, 20),\n",
       "  'the bartender,the doctor': (0.25, 20, 0.45454545454545453, 11),\n",
       "  'the bartender,the writer': (0.5, 20, 0.5, 20),\n",
       "  'the doctor,the writer': (0.4, 20, 0.6153846153846154, 13)},\n",
       " 'acc_by_first_name': {'the janitor,the janitor': (-1, 0, -1, 0),\n",
       "  'the janitor,the lawyer': (0.1, 10, 0.1, 10),\n",
       "  'the janitor,the engineer': (0.5, 10, 0.5, 10),\n",
       "  'the janitor,the bartender': (0.5, 10, 0.5, 10),\n",
       "  'the janitor,the doctor': (0.6, 10, 0.75, 8),\n",
       "  'the janitor,the writer': (1.0, 10, 1.0, 10),\n",
       "  'the lawyer,the janitor': (1.0, 10, 1.0, 10),\n",
       "  'the lawyer,the lawyer': (-1, 0, -1, 0),\n",
       "  'the lawyer,the engineer': (0.5, 10, 0.5, 10),\n",
       "  'the lawyer,the bartender': (0.5, 10, 0.5, 10),\n",
       "  'the lawyer,the doctor': (0.0, 10, 0.0, 5),\n",
       "  'the lawyer,the writer': (1.0, 10, 1.0, 10),\n",
       "  'the engineer,the janitor': (0.5, 10, 0.5, 10),\n",
       "  'the engineer,the lawyer': (0.5, 10, 0.5, 10),\n",
       "  'the engineer,the engineer': (-1, 0, -1, 0),\n",
       "  'the engineer,the bartender': (0.5, 10, 0.5, 10),\n",
       "  'the engineer,the doctor': (0.5, 10, 0.5555555555555556, 9),\n",
       "  'the engineer,the writer': (1.0, 10, 1.0, 10),\n",
       "  'the bartender,the janitor': (0.8, 10, 0.8, 10),\n",
       "  'the bartender,the lawyer': (0.5, 10, 0.5, 10),\n",
       "  'the bartender,the engineer': (0.5, 10, 0.5, 10),\n",
       "  'the bartender,the bartender': (-1, 0, -1, 0),\n",
       "  'the bartender,the doctor': (0.1, 10, 0.2, 5),\n",
       "  'the bartender,the writer': (1.0, 10, 1.0, 10),\n",
       "  'the doctor,the janitor': (0.2, 10, 0.25, 8),\n",
       "  'the doctor,the lawyer': (0.4, 10, 1.0, 4),\n",
       "  'the doctor,the engineer': (0.3, 10, 0.375, 8),\n",
       "  'the doctor,the bartender': (0.4, 10, 0.6666666666666666, 6),\n",
       "  'the doctor,the doctor': (-1, 0, -1, 0),\n",
       "  'the doctor,the writer': (0.7, 10, 1.0, 7),\n",
       "  'the writer,the janitor': (0.0, 10, 0.0, 10),\n",
       "  'the writer,the lawyer': (0.0, 10, 0.0, 10),\n",
       "  'the writer,the engineer': (0.0, 10, 0.0, 10),\n",
       "  'the writer,the bartender': (0.0, 10, 0.0, 10),\n",
       "  'the writer,the doctor': (0.1, 10, 0.16666666666666666, 6),\n",
       "  'the writer,the writer': (-1, 0, -1, 0)},\n",
       " 'acc_by_action': {'to read': (0.45, 60, 0.5, 54),\n",
       "  'to call': (0.38333333333333336, 60, 0.5111111111111111, 45),\n",
       "  'to go': (0.4166666666666667, 60, 0.5319148936170213, 47),\n",
       "  'to run': (0.5166666666666667, 60, 0.5166666666666667, 60),\n",
       "  'to come': (0.5166666666666667, 60, 0.5166666666666667, 60)},\n",
       " 'acc_by_verb': {'promised': (0.45666666666666667,\n",
       "   300,\n",
       "   0.5150375939849624,\n",
       "   266)},\n",
       " 'acc_by_action_by_verb': {'to read,promised': (0.45, 60, 0.5, 54),\n",
       "  'to call,promised': (0.38333333333333336, 60, 0.5111111111111111, 45),\n",
       "  'to go,promised': (0.4166666666666667, 60, 0.5319148936170213, 47),\n",
       "  'to run,promised': (0.5166666666666667, 60, 0.5166666666666667, 60),\n",
       "  'to come,promised': (0.5166666666666667, 60, 0.5166666666666667, 60)}}"
      ]
     },
     "execution_count": 13,
     "metadata": {},
     "output_type": "execute_result"
    }
   ],
   "source": [
    "accuracy_report(jurassic_jumbo_df)"
   ]
  },
  {
   "cell_type": "markdown",
   "metadata": {},
   "source": [
    "\n",
    "## Coerced examples with gender\n",
    "\n",
    "By using gendered names and pronouns, we can coerce subject or object control from \"suggested\", \"offered\", and \"proposed\", e.g. \n",
    "\n",
    "- Mary proposed to Tom to be his editor\n",
    "- Tom suggested to Mary to be her editor \n",
    "- Mary offered to Tom to be his editor \n"
   ]
  },
  {
   "cell_type": "code",
   "execution_count": 10,
   "metadata": {},
   "outputs": [],
   "source": [
    "verbs = [\"promised\", \"offered\", \"suggested\", \"proposed\"]\n",
    "his_names = [(\"Tom\", \"Mary\"), (\"Bill\", \"Mary\"), (\"James\", \"Mary\"), (\"Tom\", \"Sally\"), (\"Bill\", \"Sally\"), (\"James\", \"Sally\")]\n",
    "actions = [(\"to be her editor\", \"was the editor\")]\n",
    "correct_index = 0"
   ]
  },
  {
   "cell_type": "markdown",
   "metadata": {},
   "source": [
    "## GPT 3"
   ]
  },
  {
   "cell_type": "code",
   "execution_count": null,
   "metadata": {},
   "outputs": [],
   "source": [
    "\n",
    "# gpt_kwargs = {\"max_tokens\": 2, \"temperature\": 0.0}\n",
    "# gendered_gpt_subject_control_experiment  = Experiment(\"gpt3\", \"subject-control\", FixedGPTPrompt, run_gpt_prompt, 5, gpt_kwargs)\n",
    "# gendered_gpt_subject_control_experiment.run(his_names, correct_index, verbs, actions)\n"
   ]
  },
  {
   "cell_type": "code",
   "execution_count": 11,
   "metadata": {},
   "outputs": [],
   "source": [
    "# gendered_gpt_df = gendered_gpt_subject_control_experiment.format_results()\n",
    "\n",
    "# gendered_gpt_df.to_csv(\"/Users/Elias/child-lm/results/gpt_gendered_subject_control_swap_names.csv\")\n",
    "gendered_gpt_df = pd.read_csv(\"/Users/Elias/child-lm/results/gpt_gendered_subject_control_swap_names.csv\")\n"
   ]
  },
  {
   "cell_type": "code",
   "execution_count": 12,
   "metadata": {},
   "outputs": [
    {
     "data": {
      "text/plain": [
       "{'total': (0.3125, 48),\n",
       " 'acc_by_name': {'James,Sally': (0.5, 8),\n",
       "  'James,Mary': (0.0, 8),\n",
       "  'Tom,Sally': (0.625, 8),\n",
       "  'Tom,Mary': (0.125, 8),\n",
       "  'Bill,Sally': (0.625, 8),\n",
       "  'Bill,Mary': (0.0, 8)},\n",
       " 'acc_by_action': {'to be her editor': (0.3125, 48)},\n",
       " 'acc_by_verb': {'promised': (0.4166666666666667, 12),\n",
       "  'suggested': (0.25, 12),\n",
       "  'proposed': (0.3333333333333333, 12),\n",
       "  'offered': (0.25, 12)},\n",
       " 'acc_by_action_by_verb': {'to be her editor,promised': (0.4166666666666667,\n",
       "   12),\n",
       "  'to be her editor,suggested': (0.25, 12),\n",
       "  'to be her editor,proposed': (0.3333333333333333, 12),\n",
       "  'to be her editor,offered': (0.25, 12)}}"
      ]
     },
     "execution_count": 12,
     "metadata": {},
     "output_type": "execute_result"
    }
   ],
   "source": [
    "accuracy_report(gendered_gpt_df)"
   ]
  },
  {
   "cell_type": "markdown",
   "metadata": {},
   "source": [
    "## T5 for QA "
   ]
  },
  {
   "cell_type": "code",
   "execution_count": 13,
   "metadata": {},
   "outputs": [],
   "source": [
    "\n",
    "# gendered_t5_subject_control_experiment  = Experiment(\"t5\", \"subject-control\", FixedT5Prompt, run_t5_prompt, 1, None)\n",
    "# gendered_t5_subject_control_experiment.run(his_names, correct_index, verbs, actions)\n",
    "# gendered_t5_df = gendered_t5_subject_control_experiment.format_results()\n",
    "# gendered_t5_df.to_csv(\"/Users/Elias/child-lm/results/t5_gendered_subject_control_swap_names.csv\")\n",
    "gendered_t5_df = pd.read_csv(\"/Users/Elias/child-lm/results/t5_gendered_subject_control_swap_names.csv\")\n"
   ]
  },
  {
   "cell_type": "code",
   "execution_count": 14,
   "metadata": {},
   "outputs": [
    {
     "data": {
      "text/plain": [
       "{'total': (0.0, 48),\n",
       " 'acc_by_name': {'James,Sally': (0.0, 8),\n",
       "  'James,Mary': (0.0, 8),\n",
       "  'Tom,Sally': (0.0, 8),\n",
       "  'Tom,Mary': (0.0, 8),\n",
       "  'Bill,Sally': (0.0, 8),\n",
       "  'Bill,Mary': (0.0, 8)},\n",
       " 'acc_by_action': {'to be her editor': (0.0, 48)},\n",
       " 'acc_by_verb': {'promised': (0.0, 12),\n",
       "  'suggested': (0.0, 12),\n",
       "  'proposed': (0.0, 12),\n",
       "  'offered': (0.0, 12)},\n",
       " 'acc_by_action_by_verb': {'to be her editor,promised': (0.0, 12),\n",
       "  'to be her editor,suggested': (0.0, 12),\n",
       "  'to be her editor,proposed': (0.0, 12),\n",
       "  'to be her editor,offered': (0.0, 12)}}"
      ]
     },
     "execution_count": 14,
     "metadata": {},
     "output_type": "execute_result"
    }
   ],
   "source": [
    "accuracy_report(gendered_t5_df)"
   ]
  },
  {
   "cell_type": "markdown",
   "metadata": {},
   "source": [
    "## Jurassic Large"
   ]
  },
  {
   "cell_type": "code",
   "execution_count": 15,
   "metadata": {},
   "outputs": [],
   "source": [
    "# jurassic_kwargs = {\"maxTokens\": 2, \"temperature\": 0.0}\n",
    "# gendered_jurassic_subject_control_experiment  = Experiment(\"jurassic\", \"subject-control\", FixedGPTPrompt, run_ai21_prompt, 1, jurassic_kwargs)\n",
    "# gendered_jurassic_subject_control_experiment.run(his_names, correct_index, verbs, actions)\n",
    "# gendered_jurassic_df = gendered_jurassic_subject_control_experiment.format_results()\n",
    "# gendered_jurassic_df.to_csv(\"/Users/Elias/child-lm/results/jurassic_gendered_subject_control_swap_names.csv\")\n",
    "gendered_jurassic_df = pd.read_csv(\"/Users/Elias/child-lm/results/jurassic_gendered_subject_control_swap_names.csv\")\n",
    "\n"
   ]
  },
  {
   "cell_type": "code",
   "execution_count": 16,
   "metadata": {},
   "outputs": [
    {
     "data": {
      "text/plain": [
       "{'total': (0.6875, 48),\n",
       " 'acc_by_name': {'James,Sally': (1.0, 8),\n",
       "  'James,Mary': (0.625, 8),\n",
       "  'Tom,Sally': (0.875, 8),\n",
       "  'Tom,Mary': (0.625, 8),\n",
       "  'Bill,Sally': (0.5, 8),\n",
       "  'Bill,Mary': (0.5, 8)},\n",
       " 'acc_by_action': {'to be her editor': (0.6875, 48)},\n",
       " 'acc_by_verb': {'promised': (0.8333333333333334, 12),\n",
       "  'suggested': (0.5833333333333334, 12),\n",
       "  'proposed': (0.6666666666666666, 12),\n",
       "  'offered': (0.6666666666666666, 12)},\n",
       " 'acc_by_action_by_verb': {'to be her editor,promised': (0.8333333333333334,\n",
       "   12),\n",
       "  'to be her editor,suggested': (0.5833333333333334, 12),\n",
       "  'to be her editor,proposed': (0.6666666666666666, 12),\n",
       "  'to be her editor,offered': (0.6666666666666666, 12)}}"
      ]
     },
     "execution_count": 16,
     "metadata": {},
     "output_type": "execute_result"
    }
   ],
   "source": [
    "\n",
    "accuracy_report(gendered_jurassic_df)"
   ]
  },
  {
   "cell_type": "markdown",
   "metadata": {},
   "source": [
    "# Passives \n",
    "\n",
    "Do passives here make sense? To me \n",
    "- Mary was promised by Tom to leave\n",
    "Does not sound acceptable, or if it is accepetable, Mary is the one leaving, unlike \"Tom promised Mary to leave\" "
   ]
  },
  {
   "cell_type": "code",
   "execution_count": null,
   "metadata": {},
   "outputs": [],
   "source": []
  }
 ],
 "metadata": {
  "interpreter": {
   "hash": "ec6008f546f3cd66431ed7a4f2e2b63949ea9a2fd324a00b9368fd8a5a5333f5"
  },
  "kernelspec": {
   "display_name": "Python 3.7.11 64-bit ('openai': conda)",
   "language": "python",
   "name": "python3"
  },
  "language_info": {
   "codemirror_mode": {
    "name": "ipython",
    "version": 3
   },
   "file_extension": ".py",
   "mimetype": "text/x-python",
   "name": "python",
   "nbconvert_exporter": "python",
   "pygments_lexer": "ipython3",
   "version": "3.7.11"
  },
  "orig_nbformat": 4
 },
 "nbformat": 4,
 "nbformat_minor": 2
}
