{
 "cells": [
  {
   "cell_type": "code",
   "execution_count": 1,
   "metadata": {},
   "outputs": [],
   "source": [
    "import pandas as pd \n",
    "import json\n",
    "import sys\n",
    "import pathlib \n",
    "\n",
    "path_to_notebook = pathlib.Path(\"\").absolute()\n",
    "sys.path.insert(0, str(path_to_notebook.parent))\n",
    "sys.path.insert(0, str(path_to_notebook.parent.parent))\n",
    "\n",
    "from experiment import Experiment\n",
    "from api_tools import (FixedGPTPrompt, \n",
    "                       FixedPassiveGPTPrompt, \n",
    "                       run_ai21_prompt, \n",
    "                       run_ai21_jumbo_prompt, \n",
    "                       run_gpt_prompt)\n",
    "\n",
    "from metrics import accuracy_report\n"
   ]
  },
  {
   "cell_type": "markdown",
   "metadata": {},
   "source": [
    "# Subject Control\n",
    "Starting with the **subject** control experiments, we will look at how 4 LMs do:\n",
    "1. GPT3\n",
    "2. T5 for QA \n",
    "3. Jurassic large \n",
    "4. Jurassic Jumbo\n",
    "\n",
    "## Experimental settings\n",
    "We're looking at different name pairs to control for gender. We have 2 male-female name pairs, 1 male-male pair, 1 female-female pair, and 1 neutral-neutral. \n",
    "We're still looking at 5 different actions, but only one verb: promise. \n",
    "\n",
    "We can later coerce (with gender) subject control on \"suggested\" and \"proposed\" "
   ]
  },
  {
   "cell_type": "code",
   "execution_count": 2,
   "metadata": {},
   "outputs": [],
   "source": [
    "names = json.load(open(\"../../data/names_top_2.json\"))\n",
    "verbs = [\"threatened\", \"offered\"]\n",
    "actions = json.load(open(\"../../data/verbs.json\"))\n",
    "correct_index = 0\n",
    "\n",
    "nicknames = json.load(open(\"../../data/nicknames.json\"))\n"
   ]
  },
  {
   "cell_type": "markdown",
   "metadata": {},
   "source": [
    "## GPT 3\n",
    " "
   ]
  },
  {
   "cell_type": "code",
   "execution_count": 3,
   "metadata": {},
   "outputs": [
    {
     "name": "stderr",
     "output_type": "stream",
     "text": [
      "100%|██████████| 30/30 [05:57<00:00, 11.91s/it]\n"
     ]
    }
   ],
   "source": [
    "\n",
    "gpt_kwargs = {\"max_tokens\": 2, \"temperature\": 0.0}\n",
    "gpt_subject_control_experiment  = Experiment(\"gpt3\", \"subject-control\", FixedGPTPrompt, run_gpt_prompt, 1, gpt_kwargs)\n",
    "gpt_subject_control_experiment.run(names, correct_index, verbs, actions, nicknames=nicknames, do_swap=False)\n",
    "gpt_df = gpt_subject_control_experiment.format_results()\n",
    "gpt_df.to_csv(\"../../short_instructions/results_extended/gpt_subject_control.csv\")"
   ]
  },
  {
   "cell_type": "code",
   "execution_count": 4,
   "metadata": {},
   "outputs": [
    {
     "data": {
      "text/plain": [
       "{'total': (0.38666666666666666, 300, 0.6270270270270271, 185),\n",
       " 'acc_by_swap': {True: (-1, 0, -1, 0),\n",
       "  False: (0.38666666666666666, 300, 0.6270270270270271, 185)},\n",
       " 'acc_by_name': {'Joseph,William': (0.2, 20, 0.5714285714285714, 7),\n",
       "  'Joseph,Stephanie': (0.65, 20, 0.65, 20),\n",
       "  'Joseph,Casey': (0.15, 20, 0.5, 6),\n",
       "  'Joseph,Nicole': (0.35, 20, 0.7, 10),\n",
       "  'Joseph,Avery': (0.35, 20, 0.4375, 16),\n",
       "  'William,Stephanie': (0.7, 20, 0.7, 20),\n",
       "  'William,Casey': (0.45, 20, 0.6428571428571429, 14),\n",
       "  'William,Nicole': (0.25, 20, 0.8333333333333334, 6),\n",
       "  'William,Avery': (0.3, 20, 0.75, 8),\n",
       "  'Stephanie,Casey': (0.6, 20, 0.6, 20),\n",
       "  'Stephanie,Nicole': (0.45, 20, 0.5, 18),\n",
       "  'Stephanie,Avery': (0.65, 20, 0.65, 20),\n",
       "  'Casey,Nicole': (0.15, 20, 0.6, 5),\n",
       "  'Casey,Avery': (0.25, 20, 0.8333333333333334, 6),\n",
       "  'Nicole,Avery': (0.3, 20, 0.6666666666666666, 9)},\n",
       " 'acc_by_first_name': {'Joseph,Joseph': (-1, 0, -1, 0),\n",
       "  'Joseph,William': (0.3, 10, 1.0, 3),\n",
       "  'Joseph,Stephanie': (0.6, 10, 0.6, 10),\n",
       "  'Joseph,Casey': (0.3, 10, 0.75, 4),\n",
       "  'Joseph,Nicole': (0.7, 10, 1.0, 7),\n",
       "  'Joseph,Avery': (0.7, 10, 0.7777777777777778, 9),\n",
       "  'William,Joseph': (0.1, 10, 0.25, 4),\n",
       "  'William,William': (-1, 0, -1, 0),\n",
       "  'William,Stephanie': (0.6, 10, 0.6, 10),\n",
       "  'William,Casey': (0.1, 10, 0.16666666666666666, 6),\n",
       "  'William,Nicole': (0.5, 10, 1.0, 5),\n",
       "  'William,Avery': (0.4, 10, 1.0, 4),\n",
       "  'Stephanie,Joseph': (0.7, 10, 0.7, 10),\n",
       "  'Stephanie,William': (0.8, 10, 0.8, 10),\n",
       "  'Stephanie,Stephanie': (-1, 0, -1, 0),\n",
       "  'Stephanie,Casey': (0.9, 10, 0.9, 10),\n",
       "  'Stephanie,Nicole': (0.9, 10, 1.0, 9),\n",
       "  'Stephanie,Avery': (0.7, 10, 0.7, 10),\n",
       "  'Casey,Joseph': (0.0, 10, 0.0, 2),\n",
       "  'Casey,William': (0.8, 10, 1.0, 8),\n",
       "  'Casey,Stephanie': (0.3, 10, 0.3, 10),\n",
       "  'Casey,Casey': (-1, 0, -1, 0),\n",
       "  'Casey,Nicole': (0.3, 10, 1.0, 3),\n",
       "  'Casey,Avery': (0.2, 10, 1.0, 2),\n",
       "  'Nicole,Joseph': (0.0, 10, 0.0, 3),\n",
       "  'Nicole,William': (0.0, 10, 0.0, 1),\n",
       "  'Nicole,Stephanie': (0.0, 10, 0.0, 9),\n",
       "  'Nicole,Casey': (0.0, 10, 0.0, 2),\n",
       "  'Nicole,Nicole': (-1, 0, -1, 0),\n",
       "  'Nicole,Avery': (0.0, 10, 0.0, 3),\n",
       "  'Avery,Joseph': (0.0, 10, 0.0, 7),\n",
       "  'Avery,William': (0.2, 10, 0.5, 4),\n",
       "  'Avery,Stephanie': (0.6, 10, 0.6, 10),\n",
       "  'Avery,Casey': (0.3, 10, 0.75, 4),\n",
       "  'Avery,Nicole': (0.6, 10, 1.0, 6),\n",
       "  'Avery,Avery': (-1, 0, -1, 0)},\n",
       " 'acc_by_action': {'to go': (0.4666666666666667, 60, 0.7, 40),\n",
       "  'to call': (0.21666666666666667, 60, 0.5909090909090909, 22),\n",
       "  'to run': (0.55, 60, 0.5892857142857143, 56),\n",
       "  'to read': (0.4, 60, 0.75, 32),\n",
       "  'to come': (0.3, 60, 0.5142857142857142, 35)},\n",
       " 'acc_by_verb': {'threatened': (0.5, 150, 0.7894736842105263, 95),\n",
       "  'offered': (0.2733333333333333, 150, 0.45555555555555555, 90)},\n",
       " 'acc_by_action_by_verb': {'to go,threatened': (0.5666666666666667,\n",
       "   30,\n",
       "   0.8947368421052632,\n",
       "   19),\n",
       "  'to go,offered': (0.36666666666666664, 30, 0.5238095238095238, 21),\n",
       "  'to call,threatened': (0.23333333333333334, 30, 0.6363636363636364, 11),\n",
       "  'to call,offered': (0.2, 30, 0.5454545454545454, 11),\n",
       "  'to run,threatened': (0.7666666666666667, 30, 0.8214285714285714, 28),\n",
       "  'to run,offered': (0.3333333333333333, 30, 0.35714285714285715, 28),\n",
       "  'to read,threatened': (0.5, 30, 0.8333333333333334, 18),\n",
       "  'to read,offered': (0.3, 30, 0.6428571428571429, 14),\n",
       "  'to come,threatened': (0.43333333333333335, 30, 0.6842105263157895, 19),\n",
       "  'to come,offered': (0.16666666666666666, 30, 0.3125, 16)}}"
      ]
     },
     "execution_count": 4,
     "metadata": {},
     "output_type": "execute_result"
    }
   ],
   "source": [
    "accuracy_report(gpt_df)"
   ]
  },
  {
   "cell_type": "code",
   "execution_count": 3,
   "metadata": {},
   "outputs": [
    {
     "name": "stderr",
     "output_type": "stream",
     "text": [
      "100%|██████████| 30/30 [05:57<00:00, 11.91s/it]\n"
     ]
    }
   ],
   "source": [
    "\n",
    "gpt_kwargs = {\"max_tokens\": 2, \"temperature\": 0.0}\n",
    "gpt_subject_control_experiment  = Experiment(\"gpt3\", \"subject-control\", FixedGPTPrompt, run_gpt_prompt, 1, gpt_kwargs)\n",
    "gpt_subject_control_experiment.run(names, correct_index, verbs, actions, nicknames=nicknames, do_swap=False, long_instruction=True)\n",
    "gpt_df = gpt_subject_control_experiment.format_results()\n",
    "gpt_df.to_csv(\"../../with_instructions/results_extended/gpt_subject_control.csv\")"
   ]
  },
  {
   "cell_type": "markdown",
   "metadata": {},
   "source": [
    "## Jurassic Large"
   ]
  },
  {
   "cell_type": "code",
   "execution_count": 5,
   "metadata": {},
   "outputs": [
    {
     "name": "stderr",
     "output_type": "stream",
     "text": [
      "100%|██████████| 30/30 [05:57<00:00, 11.90s/it]\n"
     ]
    }
   ],
   "source": [
    "\n",
    "jurassic_kwargs = {\"maxTokens\": 2, \"temperature\": 0.0}\n",
    "jurassic_subject_control_experiment  = Experiment(\"jurassic-large\", \"subject-control\", FixedGPTPrompt, run_ai21_prompt, 1, jurassic_kwargs)\n",
    "\n",
    "jurassic_subject_control_experiment.run(names, correct_index, verbs, actions, nicknames=nicknames, do_swap = False)\n",
    "jurassic_df = jurassic_subject_control_experiment.format_results()\n",
    "jurassic_df.to_csv(\"../../short_instructions/results_extended/jurassic_subject_control.csv\")"
   ]
  },
  {
   "cell_type": "code",
   "execution_count": 4,
   "metadata": {},
   "outputs": [
    {
     "name": "stderr",
     "output_type": "stream",
     "text": [
      "100%|██████████| 30/30 [05:56<00:00, 11.89s/it]\n"
     ]
    }
   ],
   "source": [
    "\n",
    "jurassic_kwargs = {\"maxTokens\": 2, \"temperature\": 0.0}\n",
    "jurassic_subject_control_experiment  = Experiment(\"jurassic-large\", \"subject-control\", FixedGPTPrompt, run_ai21_prompt, 1, jurassic_kwargs)\n",
    "\n",
    "jurassic_subject_control_experiment.run(names, correct_index, verbs, actions, nicknames=nicknames, do_swap = False, long_instruction=True)\n",
    "jurassic_df = jurassic_subject_control_experiment.format_results()\n",
    "jurassic_df.to_csv(\"../../with_instructions/results_extended/jurassic_subject_control.csv\")"
   ]
  },
  {
   "cell_type": "code",
   "execution_count": 6,
   "metadata": {},
   "outputs": [
    {
     "data": {
      "text/plain": [
       "{'total': (0.4633333333333333, 300, 0.5285171102661597, 263),\n",
       " 'acc_by_swap': {True: (-1, 0, -1, 0),\n",
       "  False: (0.4633333333333333, 300, 0.5285171102661597, 263)},\n",
       " 'acc_by_name': {'Joseph,William': (0.5, 20, 0.5, 20),\n",
       "  'Joseph,Stephanie': (0.5, 20, 0.5263157894736842, 19),\n",
       "  'Joseph,Casey': (0.5, 20, 0.5, 20),\n",
       "  'Joseph,Nicole': (0.5, 20, 0.5, 20),\n",
       "  'Joseph,Avery': (0.5, 20, 0.5, 20),\n",
       "  'William,Stephanie': (0.5, 20, 0.5555555555555556, 18),\n",
       "  'William,Casey': (0.5, 20, 0.5, 20),\n",
       "  'William,Nicole': (0.5, 20, 0.5, 20),\n",
       "  'William,Avery': (0.55, 20, 0.55, 20),\n",
       "  'Stephanie,Casey': (0.0, 20, -1, 0),\n",
       "  'Stephanie,Nicole': (0.5, 20, 0.5555555555555556, 18),\n",
       "  'Stephanie,Avery': (0.4, 20, 1.0, 8),\n",
       "  'Casey,Nicole': (0.5, 20, 0.5, 20),\n",
       "  'Casey,Avery': (0.5, 20, 0.5, 20),\n",
       "  'Nicole,Avery': (0.5, 20, 0.5, 20)},\n",
       " 'acc_by_first_name': {'Joseph,Joseph': (-1, 0, -1, 0),\n",
       "  'Joseph,William': (1.0, 10, 1.0, 10),\n",
       "  'Joseph,Stephanie': (1.0, 10, 1.0, 10),\n",
       "  'Joseph,Casey': (1.0, 10, 1.0, 10),\n",
       "  'Joseph,Nicole': (0.0, 10, 0.0, 10),\n",
       "  'Joseph,Avery': (1.0, 10, 1.0, 10),\n",
       "  'William,Joseph': (0.0, 10, 0.0, 10),\n",
       "  'William,William': (-1, 0, -1, 0),\n",
       "  'William,Stephanie': (1.0, 10, 1.0, 10),\n",
       "  'William,Casey': (1.0, 10, 1.0, 10),\n",
       "  'William,Nicole': (0.0, 10, 0.0, 10),\n",
       "  'William,Avery': (0.9, 10, 0.9, 10),\n",
       "  'Stephanie,Joseph': (0.0, 10, 0.0, 9),\n",
       "  'Stephanie,William': (0.0, 10, 0.0, 8),\n",
       "  'Stephanie,Stephanie': (-1, 0, -1, 0),\n",
       "  'Stephanie,Casey': (0.0, 10, -1, 0),\n",
       "  'Stephanie,Nicole': (0.0, 10, 0.0, 8),\n",
       "  'Stephanie,Avery': (0.0, 10, -1, 0),\n",
       "  'Casey,Joseph': (0.0, 10, 0.0, 10),\n",
       "  'Casey,William': (0.0, 10, 0.0, 10),\n",
       "  'Casey,Stephanie': (0.0, 10, -1, 0),\n",
       "  'Casey,Casey': (-1, 0, -1, 0),\n",
       "  'Casey,Nicole': (0.0, 10, 0.0, 10),\n",
       "  'Casey,Avery': (0.0, 10, 0.0, 10),\n",
       "  'Nicole,Joseph': (1.0, 10, 1.0, 10),\n",
       "  'Nicole,William': (1.0, 10, 1.0, 10),\n",
       "  'Nicole,Stephanie': (1.0, 10, 1.0, 10),\n",
       "  'Nicole,Casey': (1.0, 10, 1.0, 10),\n",
       "  'Nicole,Nicole': (-1, 0, -1, 0),\n",
       "  'Nicole,Avery': (1.0, 10, 1.0, 10),\n",
       "  'Avery,Joseph': (0.0, 10, 0.0, 10),\n",
       "  'Avery,William': (0.2, 10, 0.2, 10),\n",
       "  'Avery,Stephanie': (0.8, 10, 1.0, 8),\n",
       "  'Avery,Casey': (1.0, 10, 1.0, 10),\n",
       "  'Avery,Nicole': (0.0, 10, 0.0, 10),\n",
       "  'Avery,Avery': (-1, 0, -1, 0)},\n",
       " 'acc_by_action': {'to go': (0.45, 60, 0.5192307692307693, 52),\n",
       "  'to call': (0.48333333333333334, 60, 0.5471698113207547, 53),\n",
       "  'to run': (0.4666666666666667, 60, 0.5490196078431373, 51),\n",
       "  'to read': (0.45, 60, 0.5094339622641509, 53),\n",
       "  'to come': (0.4666666666666667, 60, 0.5185185185185185, 54)},\n",
       " 'acc_by_verb': {'threatened': (0.47333333333333333,\n",
       "   150,\n",
       "   0.5461538461538461,\n",
       "   130),\n",
       "  'offered': (0.4533333333333333, 150, 0.5112781954887218, 133)},\n",
       " 'acc_by_action_by_verb': {'to go,threatened': (0.4666666666666667,\n",
       "   30,\n",
       "   0.5384615384615384,\n",
       "   26),\n",
       "  'to go,offered': (0.43333333333333335, 30, 0.5, 26),\n",
       "  'to call,threatened': (0.5, 30, 0.5769230769230769, 26),\n",
       "  'to call,offered': (0.4666666666666667, 30, 0.5185185185185185, 27),\n",
       "  'to run,threatened': (0.4666666666666667, 30, 0.5833333333333334, 24),\n",
       "  'to run,offered': (0.4666666666666667, 30, 0.5185185185185185, 27),\n",
       "  'to read,threatened': (0.4666666666666667, 30, 0.5185185185185185, 27),\n",
       "  'to read,offered': (0.43333333333333335, 30, 0.5, 26),\n",
       "  'to come,threatened': (0.4666666666666667, 30, 0.5185185185185185, 27),\n",
       "  'to come,offered': (0.4666666666666667, 30, 0.5185185185185185, 27)}}"
      ]
     },
     "execution_count": 6,
     "metadata": {},
     "output_type": "execute_result"
    }
   ],
   "source": [
    "accuracy_report(jurassic_df)"
   ]
  },
  {
   "cell_type": "markdown",
   "metadata": {},
   "source": [
    "## Jurassic Jumbo"
   ]
  },
  {
   "cell_type": "code",
   "execution_count": 7,
   "metadata": {},
   "outputs": [
    {
     "name": "stderr",
     "output_type": "stream",
     "text": [
      "100%|██████████| 30/30 [17:30<00:00, 35.03s/it]\n"
     ]
    }
   ],
   "source": [
    "\n",
    "jurassic_kwargs = {\"maxTokens\": 2, \"temperature\": 0.0}\n",
    "jurassic_jumbo_subject_control_experiment  = Experiment(\"jurassic-jumbo\", \"subject-control\", FixedGPTPrompt, run_ai21_jumbo_prompt, 1, jurassic_kwargs)\n",
    "\n",
    "jurassic_jumbo_subject_control_experiment.run(names, correct_index, verbs, actions, nicknames=nicknames, do_swap=False, rate_limit_delay=60,\n",
    "                                            rate_limit_count=19)\n",
    "jurassic_jumbo_df = jurassic_jumbo_subject_control_experiment.format_results()\n",
    "\n",
    "jurassic_jumbo_df.to_csv(\"../../short_instructions/results_extended/jurassic_jumbo_subject_control.csv\")\n"
   ]
  },
  {
   "cell_type": "code",
   "execution_count": 5,
   "metadata": {},
   "outputs": [
    {
     "name": "stderr",
     "output_type": "stream",
     "text": [
      "100%|██████████| 30/30 [17:30<00:00, 35.03s/it]\n"
     ]
    }
   ],
   "source": [
    "\n",
    "jurassic_kwargs = {\"maxTokens\": 2, \"temperature\": 0.0}\n",
    "jurassic_jumbo_subject_control_experiment  = Experiment(\"jurassic-jumbo\", \"subject-control\", FixedGPTPrompt, run_ai21_jumbo_prompt, 1, jurassic_kwargs)\n",
    "\n",
    "jurassic_jumbo_subject_control_experiment.run(names, correct_index, verbs, actions, nicknames=nicknames, do_swap=False, rate_limit_delay=60,\n",
    "                                            rate_limit_count=19, long_instruction=True)\n",
    "jurassic_jumbo_df = jurassic_jumbo_subject_control_experiment.format_results()\n",
    "\n",
    "jurassic_jumbo_df.to_csv(\"../../with_instructions/results_extended/jurassic_jumbo_subject_control.csv\")\n"
   ]
  },
  {
   "cell_type": "markdown",
   "metadata": {},
   "source": [
    "# Hacked prompts\n",
    "## Starting with: baseline: agent and patient ID only"
   ]
  },
  {
   "cell_type": "markdown",
   "metadata": {},
   "source": [
    "## GPT3\n"
   ]
  },
  {
   "cell_type": "code",
   "execution_count": null,
   "metadata": {},
   "outputs": [],
   "source": [
    "\n",
    "correct_index=0\n",
    "gpt_kwargs = {\"max_tokens\": 2, \"temperature\": 0.0}\n",
    "gpt_subject_control_experiment  = Experiment(\"gpt3\", \"subject-control\", FixedGPTPrompt, run_gpt_prompt, 1, gpt_kwargs)\n",
    "gpt_subject_control_experiment.run(names, correct_index, verbs, actions, nicknames=nicknames, do_swap=False, just_prompt_agent=True)\n",
    "gpt_df = gpt_subject_control_experiment.format_results()\n",
    "gpt_df.to_csv(\"../../short_instructions/results_just_prompt_agent/gpt_subject_control.csv\")"
   ]
  },
  {
   "cell_type": "code",
   "execution_count": null,
   "metadata": {},
   "outputs": [],
   "source": [
    "\n",
    "correct_index=1\n",
    "gpt_kwargs = {\"max_tokens\": 2, \"temperature\": 0.0}\n",
    "gpt_subject_control_experiment2  = Experiment(\"gpt3\", \"subject-control\", FixedGPTPrompt, run_gpt_prompt, 1, gpt_kwargs)\n",
    "gpt_subject_control_experiment2.run(names, correct_index, verbs, actions, nicknames=nicknames, do_swap=False, just_prompt_patient=True)\n",
    "gpt_df2 = gpt_subject_control_experiment2.format_results()\n",
    "gpt_df2.to_csv(\"../../short_instructions/results_just_prompt_patient/gpt_subject_control.csv\")"
   ]
  },
  {
   "cell_type": "markdown",
   "metadata": {},
   "source": [
    "## Jurassic Large"
   ]
  },
  {
   "cell_type": "code",
   "execution_count": null,
   "metadata": {},
   "outputs": [],
   "source": [
    "correct_index=0\n",
    "jurassic_kwargs = {\"maxTokens\": 2, \"temperature\": 0.0}\n",
    "jurassic_subject_control_experiment  = Experiment(\"jurassic-large\", \"subject-control\", FixedGPTPrompt, run_ai21_prompt, 1, jurassic_kwargs)\n",
    "\n",
    "jurassic_subject_control_experiment.run(names, correct_index, verbs, actions, nicknames=nicknames, do_swap = False, just_prompt_agent=True)\n",
    "jurassic_df = jurassic_subject_control_experiment.format_results()\n",
    "jurassic_df.to_csv(\"../../short_instructions/results_just_prompt_agent/jurassic_subject_control.csv\")"
   ]
  },
  {
   "cell_type": "code",
   "execution_count": null,
   "metadata": {},
   "outputs": [],
   "source": [
    "correct_index=1\n",
    "jurassic_kwargs = {\"maxTokens\": 2, \"temperature\": 0.0}\n",
    "jurassic_subject_control_experiment  = Experiment(\"jurassic-large\", \"subject-control\", FixedGPTPrompt, run_ai21_prompt, 1, jurassic_kwargs)\n",
    "\n",
    "jurassic_subject_control_experiment.run(names, correct_index, verbs, actions, nicknames=nicknames, do_swap = False, just_prompt_patient=True)\n",
    "jurassic_df = jurassic_subject_control_experiment.format_results()\n",
    "jurassic_df.to_csv(\"../../short_instructions/results_just_prompt_patient/jurassic_subject_control.csv\")"
   ]
  },
  {
   "cell_type": "markdown",
   "metadata": {},
   "source": [
    "# Full prompt hacking\n",
    "## GPT-3"
   ]
  },
  {
   "cell_type": "code",
   "execution_count": 9,
   "metadata": {},
   "outputs": [
    {
     "name": "stderr",
     "output_type": "stream",
     "text": [
      "100%|██████████| 30/30 [05:58<00:00, 11.95s/it]\n"
     ]
    }
   ],
   "source": [
    "\n",
    "correct_index=0\n",
    "gpt_kwargs = {\"max_tokens\": 2, \"temperature\": 0.0}\n",
    "gpt_subject_control_experiment  = Experiment(\"gpt3\", \"subject-control\", FixedGPTPrompt, run_gpt_prompt, 1, gpt_kwargs)\n",
    "gpt_subject_control_experiment.run(names, correct_index, verbs, actions, nicknames=nicknames, do_swap=False, prompt_hacking=True)\n",
    "gpt_df = gpt_subject_control_experiment.format_results()\n",
    "gpt_df.to_csv(\"../../short_instructions/results_hacked_extended/gpt_subject_control.csv\")"
   ]
  },
  {
   "cell_type": "markdown",
   "metadata": {},
   "source": [
    "### Long instructions"
   ]
  },
  {
   "cell_type": "code",
   "execution_count": 10,
   "metadata": {},
   "outputs": [
    {
     "name": "stderr",
     "output_type": "stream",
     "text": [
      "100%|██████████| 30/30 [06:10<00:00, 12.34s/it]\n"
     ]
    }
   ],
   "source": [
    "\n",
    "correct_index=0\n",
    "gpt_kwargs = {\"max_tokens\": 2, \"temperature\": 0.0}\n",
    "gpt_subject_control_experiment  = Experiment(\"gpt3\", \"subject-control\", FixedGPTPrompt, run_gpt_prompt, 1, gpt_kwargs)\n",
    "gpt_subject_control_experiment.run(names, correct_index, verbs, actions, nicknames=nicknames, do_swap=False, prompt_hacking=True, long_instruction=True)\n",
    "gpt_df = gpt_subject_control_experiment.format_results()\n",
    "gpt_df.to_csv(\"../../with_instructions/results_hacked_extended/gpt_subject_control.csv\")"
   ]
  },
  {
   "cell_type": "markdown",
   "metadata": {},
   "source": [
    "## Jurassic large"
   ]
  },
  {
   "cell_type": "code",
   "execution_count": 11,
   "metadata": {},
   "outputs": [
    {
     "name": "stderr",
     "output_type": "stream",
     "text": [
      "100%|██████████| 30/30 [05:57<00:00, 11.92s/it]\n"
     ]
    }
   ],
   "source": [
    "correct_index=0\n",
    "jurassic_kwargs = {\"maxTokens\": 2, \"temperature\": 0.0}\n",
    "jurassic_subject_control_experiment  = Experiment(\"jurassic-large\", \"subject-control\", FixedGPTPrompt, run_ai21_prompt, 1, jurassic_kwargs)\n",
    "\n",
    "jurassic_subject_control_experiment.run(names, correct_index, verbs, actions, nicknames=nicknames, do_swap = False, prompt_hacking=True)\n",
    "jurassic_df = jurassic_subject_control_experiment.format_results()\n",
    "jurassic_df.to_csv(\"../../short_instructions/results_hacked_extended/jurassic_subject_control.csv\")"
   ]
  },
  {
   "cell_type": "code",
   "execution_count": 6,
   "metadata": {},
   "outputs": [
    {
     "name": "stderr",
     "output_type": "stream",
     "text": [
      "100%|██████████| 30/30 [05:57<00:00, 11.90s/it]\n"
     ]
    }
   ],
   "source": [
    "correct_index=0\n",
    "jurassic_kwargs = {\"maxTokens\": 2, \"temperature\": 0.0}\n",
    "jurassic_subject_control_experiment  = Experiment(\"jurassic-large\", \"subject-control\", FixedGPTPrompt, run_ai21_prompt, 1, jurassic_kwargs)\n",
    "\n",
    "jurassic_subject_control_experiment.run(names, correct_index, verbs, actions, nicknames=nicknames, do_swap = False, prompt_hacking=True, long_instruction=True)\n",
    "jurassic_df = jurassic_subject_control_experiment.format_results()\n",
    "jurassic_df.to_csv(\"../../with_instructions/results_hacked_extended/jurassic_subject_control.csv\")"
   ]
  },
  {
   "cell_type": "markdown",
   "metadata": {},
   "source": [
    "## Jurassic jumbo"
   ]
  },
  {
   "cell_type": "code",
   "execution_count": 7,
   "metadata": {},
   "outputs": [
    {
     "name": "stderr",
     "output_type": "stream",
     "text": [
      "100%|██████████| 30/30 [17:30<00:00, 35.03s/it]\n"
     ]
    }
   ],
   "source": [
    "\n",
    "correct_index=0\n",
    "jurassic_kwargs = {\"maxTokens\": 2, \"temperature\": 0.0}\n",
    "jurassic_jumbo_subject_control_experiment  = Experiment(\"jurassic-jumbo\", \"subject-control\", FixedGPTPrompt, run_ai21_jumbo_prompt, 1, jurassic_kwargs)\n",
    "\n",
    "jurassic_jumbo_subject_control_experiment.run(names, correct_index, verbs, actions, nicknames=nicknames, do_swap=False, prompt_hacking=True, \n",
    "                                                rate_limit_delay=60, rate_limit_count=19)\n",
    "jurassic_jumbo_df = jurassic_jumbo_subject_control_experiment.format_results()\n",
    "\n",
    "jurassic_jumbo_df.to_csv(\"../../short_instructions/results_hacked_extended/jurassic_jumbo_subject_control.csv\")\n"
   ]
  },
  {
   "cell_type": "code",
   "execution_count": 8,
   "metadata": {},
   "outputs": [
    {
     "name": "stderr",
     "output_type": "stream",
     "text": [
      "100%|██████████| 30/30 [17:30<00:00, 35.03s/it]\n"
     ]
    }
   ],
   "source": [
    "\n",
    "correct_index=0\n",
    "jurassic_kwargs = {\"maxTokens\": 2, \"temperature\": 0.0}\n",
    "jurassic_jumbo_subject_control_experiment  = Experiment(\"jurassic-jumbo\", \"subject-control\", FixedGPTPrompt, run_ai21_jumbo_prompt, 1, jurassic_kwargs)\n",
    "\n",
    "jurassic_jumbo_subject_control_experiment.run(names, correct_index, verbs, actions, nicknames=nicknames, do_swap=False, \n",
    "                                              prompt_hacking=True, long_instruction=True, rate_limit_delay=60, rate_limit_count=19)\n",
    "jurassic_jumbo_df = jurassic_jumbo_subject_control_experiment.format_results()\n",
    "\n",
    "jurassic_jumbo_df.to_csv(\"../../with_instructions/results_hacked_extended/jurassic_jumbo_subject_control.csv\")\n"
   ]
  },
  {
   "cell_type": "code",
   "execution_count": null,
   "metadata": {},
   "outputs": [],
   "source": []
  }
 ],
 "metadata": {
  "interpreter": {
   "hash": "ec6008f546f3cd66431ed7a4f2e2b63949ea9a2fd324a00b9368fd8a5a5333f5"
  },
  "kernelspec": {
   "display_name": "Python 3.7.11 64-bit ('openai': conda)",
   "language": "python",
   "name": "python3"
  },
  "language_info": {
   "codemirror_mode": {
    "name": "ipython",
    "version": 3
   },
   "file_extension": ".py",
   "mimetype": "text/x-python",
   "name": "python",
   "nbconvert_exporter": "python",
   "pygments_lexer": "ipython3",
   "version": "3.7.11"
  },
  "orig_nbformat": 4
 },
 "nbformat": 4,
 "nbformat_minor": 2
}
