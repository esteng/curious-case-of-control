{
 "cells": [
  {
   "cell_type": "code",
   "execution_count": null,
   "metadata": {},
   "outputs": [],
   "source": [
    "import pandas as pd \n",
    "import json\n",
    "import sys\n",
    "import pathlib \n",
    "\n",
    "path_to_notebook = pathlib.Path(\"\").absolute()\n",
    "sys.path.insert(0, str(path_to_notebook.parent))\n",
    "sys.path.insert(0, str(path_to_notebook.parent.parent))\n",
    "\n",
    "from experiment import Experiment\n",
    "from api_tools import (FixedGPTPrompt, \n",
    "                       FixedPassiveGPTPrompt, \n",
    "                       run_ai21_prompt, \n",
    "                       run_ai21_jumbo_prompt, \n",
    "                       run_gpt_prompt)\n",
    "\n",
    "from metrics import accuracy_report\n"
   ]
  },
  {
   "cell_type": "markdown",
   "metadata": {},
   "source": [
    "# Subject Control\n",
    "Starting with the **subject** control experiments, we will look at how 4 LMs do:\n",
    "1. GPT3\n",
    "2. T5 for QA \n",
    "3. Jurassic large \n",
    "4. Jurassic Jumbo\n",
    "\n",
    "## Experimental settings\n",
    "We're looking at different name pairs to control for gender. We have 2 male-female name pairs, 1 male-male pair, 1 female-female pair, and 1 neutral-neutral. \n",
    "We're still looking at 5 different actions, but only one verb: promise. \n",
    "\n",
    "We can later coerce (with gender) subject control on \"suggested\" and \"proposed\" "
   ]
  },
  {
   "cell_type": "code",
   "execution_count": null,
   "metadata": {},
   "outputs": [],
   "source": [
    "names = json.load(open(\"../../data/names_top_2.json\"))\n",
    "verbs = [\"promised\"]\n",
    "actions = json.load(open(\"../../data/verbs.json\"))\n",
    "correct_index = 0\n",
    "\n",
    "nicknames = json.load(open(\"../../data/nicknames.json\"))\n"
   ]
  },
  {
   "cell_type": "markdown",
   "metadata": {},
   "source": [
    "## GPT 3\n",
    " "
   ]
  },
  {
   "cell_type": "code",
   "execution_count": null,
   "metadata": {},
   "outputs": [],
   "source": [
    "\n",
    "gpt_kwargs = {\"max_tokens\": 2, \"temperature\": 0.0}\n",
    "gpt_subject_control_experiment  = Experiment(\"gpt3\", \"subject-control\", FixedGPTPrompt, run_gpt_prompt, 1, gpt_kwargs)\n",
    "\n",
    "gpt_subject_control_experiment.run(names, correct_index, verbs, actions, nicknames=nicknames, do_swap=False)"
   ]
  },
  {
   "cell_type": "code",
   "execution_count": null,
   "metadata": {},
   "outputs": [],
   "source": [
    "gpt_df = gpt_subject_control_experiment.format_results()\n",
    "gpt_df.to_csv(\"../../short_instructions/results/gpt_subject_control.csv\")"
   ]
  },
  {
   "cell_type": "code",
   "execution_count": null,
   "metadata": {},
   "outputs": [],
   "source": [
    "accuracy_report(gpt_df)"
   ]
  },
  {
   "cell_type": "markdown",
   "metadata": {},
   "source": [
    "## Jurassic Large"
   ]
  },
  {
   "cell_type": "code",
   "execution_count": 9,
   "metadata": {},
   "outputs": [
    {
     "name": "stderr",
     "output_type": "stream",
     "text": [
      "100%|██████████| 30/30 [02:38<00:00,  5.29s/it]\n"
     ]
    }
   ],
   "source": [
    "\n",
    "jurassic_kwargs = {\"maxTokens\": 2, \"temperature\": 0.0}\n",
    "jurassic_subject_control_experiment  = Experiment(\"jurassic-large\", \"subject-control\", FixedGPTPrompt, run_ai21_prompt, 1, jurassic_kwargs)\n",
    "\n",
    "jurassic_subject_control_experiment.run(names, correct_index, verbs, actions, nicknames=nicknames, do_swap = False)"
   ]
  },
  {
   "cell_type": "code",
   "execution_count": 11,
   "metadata": {},
   "outputs": [],
   "source": [
    "jurassic_df = jurassic_subject_control_experiment.format_results()\n",
    "jurassic_df.to_csv(\"../../short_instructions/results/jurassic_subject_control.csv\")"
   ]
  },
  {
   "cell_type": "code",
   "execution_count": null,
   "metadata": {},
   "outputs": [],
   "source": [
    "accuracy_report(jurassic_df)"
   ]
  },
  {
   "cell_type": "markdown",
   "metadata": {},
   "source": [
    "## Jurassic Jumbo"
   ]
  },
  {
   "cell_type": "code",
   "execution_count": null,
   "metadata": {},
   "outputs": [],
   "source": [
    "\n",
    "jurassic_kwargs = {\"maxTokens\": 2, \"temperature\": 0.0}\n",
    "jurassic_jumbo_subject_control_experiment  = Experiment(\"jurassic-jumbo\", \"subject-control\", FixedGPTPrompt, run_ai21_jumbo_prompt, 1, jurassic_kwargs)\n",
    "\n",
    "jurassic_jumbo_subject_control_experiment.run(names, correct_index, verbs, actions, nicknames=nicknames, do_swap=False, rate_limit_delay=60, rate_limit_count=19)\n",
    "jurassic_jumbo_df = jurassic_jumbo_subject_control_experiment.format_results()\n",
    "\n",
    "jurassic_jumbo_df.to_csv(\"../../short_instructions/results/jurassic_jumbo_subject_control.csv\")\n"
   ]
  },
  {
   "cell_type": "markdown",
   "metadata": {},
   "source": [
    "# Hacked prompts\n",
    "## Starting with: baseline: agent and patient ID only"
   ]
  },
  {
   "cell_type": "markdown",
   "metadata": {},
   "source": [
    "## GPT3\n"
   ]
  },
  {
   "cell_type": "code",
   "execution_count": 10,
   "metadata": {},
   "outputs": [
    {
     "name": "stderr",
     "output_type": "stream",
     "text": [
      "100%|██████████| 30/30 [02:39<00:00,  5.32s/it]\n"
     ]
    }
   ],
   "source": [
    "\n",
    "correct_index=0\n",
    "gpt_kwargs = {\"max_tokens\": 2, \"temperature\": 0.0}\n",
    "gpt_subject_control_experiment  = Experiment(\"gpt3\", \"subject-control\", FixedGPTPrompt, run_gpt_prompt, 1, gpt_kwargs)\n",
    "gpt_subject_control_experiment.run(names, correct_index, verbs, actions, nicknames=nicknames, do_swap=False, just_prompt_agent=True)\n",
    "gpt_df = gpt_subject_control_experiment.format_results()\n",
    "gpt_df.to_csv(\"../../short_instructions/results_just_prompt_agent/gpt_subject_control.csv\")"
   ]
  },
  {
   "cell_type": "code",
   "execution_count": 12,
   "metadata": {},
   "outputs": [
    {
     "name": "stderr",
     "output_type": "stream",
     "text": [
      "100%|██████████| 30/30 [02:40<00:00,  5.35s/it]\n"
     ]
    }
   ],
   "source": [
    "\n",
    "correct_index=1\n",
    "gpt_kwargs = {\"max_tokens\": 2, \"temperature\": 0.0}\n",
    "gpt_subject_control_experiment2  = Experiment(\"gpt3\", \"subject-control\", FixedGPTPrompt, run_gpt_prompt, 1, gpt_kwargs)\n",
    "gpt_subject_control_experiment2.run(names, correct_index, verbs, actions, nicknames=nicknames, do_swap=False, just_prompt_patient=True)\n",
    "gpt_df2 = gpt_subject_control_experiment2.format_results()\n",
    "gpt_df2.to_csv(\"../../short_instructions/results_just_prompt_patient/gpt_subject_control.csv\")"
   ]
  },
  {
   "cell_type": "code",
   "execution_count": null,
   "metadata": {},
   "outputs": [],
   "source": []
  }
 ],
 "metadata": {
  "interpreter": {
   "hash": "ec6008f546f3cd66431ed7a4f2e2b63949ea9a2fd324a00b9368fd8a5a5333f5"
  },
  "kernelspec": {
   "display_name": "Python 3.7.11 64-bit ('openai': conda)",
   "language": "python",
   "name": "python3"
  },
  "language_info": {
   "codemirror_mode": {
    "name": "ipython",
    "version": 3
   },
   "file_extension": ".py",
   "mimetype": "text/x-python",
   "name": "python",
   "nbconvert_exporter": "python",
   "pygments_lexer": "ipython3",
   "version": "3.7.11"
  },
  "orig_nbformat": 4
 },
 "nbformat": 4,
 "nbformat_minor": 2
}
