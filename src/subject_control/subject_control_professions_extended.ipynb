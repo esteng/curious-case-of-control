{
 "cells": [
  {
   "cell_type": "code",
   "execution_count": 1,
   "metadata": {},
   "outputs": [],
   "source": [
    "import pandas as pd \n",
    "import json\n",
    "import sys\n",
    "import pathlib \n",
    "\n",
    "path_to_notebook = pathlib.Path(\"\").absolute()\n",
    "sys.path.insert(0, str(path_to_notebook.parent))\n",
    "sys.path.insert(0, str(path_to_notebook.parent.parent))\n",
    "\n",
    "from experiment import Experiment\n",
    "from api_tools import (FixedGPTPrompt, \n",
    "                       FixedPassiveGPTPrompt, \n",
    "                       run_ai21_prompt, \n",
    "                       run_ai21_jumbo_prompt, \n",
    "                       run_gpt_prompt)\n",
    "\n",
    "from metrics import accuracy_report\n"
   ]
  },
  {
   "cell_type": "markdown",
   "metadata": {},
   "source": [
    "# Subject Control\n",
    "Starting with the **subject** control experiments, we will look at how 4 LMs do:\n",
    "1. GPT3\n",
    "2. T5 for QA \n",
    "3. Jurassic large \n",
    "4. Jurassic Jumbo\n",
    "\n",
    "## Experimental settings\n",
    "We're looking at different name pairs to control for gender. We have 2 male-female name pairs, 1 male-male pair, 1 female-female pair, and 1 neutral-neutral. \n",
    "We're still looking at 5 different actions, but only one verb: promise. \n",
    "\n",
    "We can later coerce (with gender) subject control on \"suggested\" and \"proposed\" "
   ]
  },
  {
   "cell_type": "code",
   "execution_count": 2,
   "metadata": {},
   "outputs": [],
   "source": [
    "names = json.load(open(\"../../data/professions.json\"))\n",
    "verbs = [\"threatened\"]\n",
    "actions = json.load(open(\"../../data/verbs.json\"))\n",
    "correct_index = 0\n",
    "\n",
    "nicknames = json.load(open(\"../../data/nicknames_professions.json\"))\n"
   ]
  },
  {
   "cell_type": "markdown",
   "metadata": {},
   "source": [
    "## GPT 3"
   ]
  },
  {
   "cell_type": "code",
   "execution_count": 3,
   "metadata": {},
   "outputs": [
    {
     "name": "stderr",
     "output_type": "stream",
     "text": [
      "100%|██████████| 30/30 [02:37<00:00,  5.26s/it]\n"
     ]
    }
   ],
   "source": [
    "\n",
    "gpt_kwargs = {\"max_tokens\": 4, \"temperature\": 0.0}\n",
    "gpt_subject_control_experiment  = Experiment(\"gpt3\", \"subject-control\", FixedGPTPrompt, run_gpt_prompt, 1, gpt_kwargs)\n",
    "\n",
    "gpt_subject_control_experiment.run(names, correct_index, verbs, actions, nicknames=nicknames)"
   ]
  },
  {
   "cell_type": "code",
   "execution_count": 4,
   "metadata": {},
   "outputs": [],
   "source": [
    "gpt_df = gpt_subject_control_experiment.format_results()\n",
    "\n",
    "gpt_df.to_csv(\"../../short_instructions/results_profession_extended/gpt_subject_control.csv\")\n"
   ]
  },
  {
   "cell_type": "code",
   "execution_count": 13,
   "metadata": {},
   "outputs": [
    {
     "data": {
      "text/plain": [
       "{'total': (0.18, 150, 0.6923076923076923, 39),\n",
       " 'acc_by_swap': {True: (0.18, 150, 0.6923076923076923, 39),\n",
       "  False: (-1, 0, -1, 0)},\n",
       " 'acc_by_name': {'the janitor,the bartender': (0.2, 10, 1.0, 2),\n",
       "  'the janitor,the engineer': (0.0, 10, -1, 0),\n",
       "  'the janitor,the writer': (0.0, 10, -1, 0),\n",
       "  'the janitor,the lawyer': (0.2, 10, 1.0, 2),\n",
       "  'the janitor,the doctor': (0.1, 10, 1.0, 1),\n",
       "  'the bartender,the engineer': (0.4, 10, 0.8, 5),\n",
       "  'the bartender,the writer': (0.2, 10, 0.6666666666666666, 3),\n",
       "  'the bartender,the lawyer': (0.4, 10, 0.8, 5),\n",
       "  'the bartender,the doctor': (0.2, 10, 1.0, 2),\n",
       "  'the engineer,the writer': (0.3, 10, 0.75, 4),\n",
       "  'the engineer,the lawyer': (0.1, 10, 0.2, 5),\n",
       "  'the engineer,the doctor': (0.4, 10, 1.0, 4),\n",
       "  'the writer,the lawyer': (0.0, 10, 0.0, 4),\n",
       "  'the writer,the doctor': (0.2, 10, 1.0, 2),\n",
       "  'the lawyer,the doctor': (0.0, 10, -1, 0)},\n",
       " 'acc_by_first_name': {'the janitor,the janitor': (-1, 0, -1, 0),\n",
       "  'the janitor,the bartender': (0.0, 5, -1, 0),\n",
       "  'the janitor,the engineer': (0.0, 5, -1, 0),\n",
       "  'the janitor,the writer': (0.0, 5, -1, 0),\n",
       "  'the janitor,the lawyer': (0.0, 5, -1, 0),\n",
       "  'the janitor,the doctor': (0.0, 5, -1, 0),\n",
       "  'the bartender,the janitor': (0.4, 5, 1.0, 2),\n",
       "  'the bartender,the bartender': (-1, 0, -1, 0),\n",
       "  'the bartender,the engineer': (0.8, 5, 1.0, 4),\n",
       "  'the bartender,the writer': (0.2, 5, 1.0, 1),\n",
       "  'the bartender,the lawyer': (0.6, 5, 0.75, 4),\n",
       "  'the bartender,the doctor': (0.2, 5, 1.0, 1),\n",
       "  'the engineer,the janitor': (0.0, 5, -1, 0),\n",
       "  'the engineer,the bartender': (0.0, 5, 0.0, 1),\n",
       "  'the engineer,the engineer': (-1, 0, -1, 0),\n",
       "  'the engineer,the writer': (0.0, 5, 0.0, 1),\n",
       "  'the engineer,the lawyer': (0.0, 5, 0.0, 4),\n",
       "  'the engineer,the doctor': (0.4, 5, 1.0, 2),\n",
       "  'the writer,the janitor': (0.0, 5, -1, 0),\n",
       "  'the writer,the bartender': (0.2, 5, 0.5, 2),\n",
       "  'the writer,the engineer': (0.6, 5, 1.0, 3),\n",
       "  'the writer,the writer': (-1, 0, -1, 0),\n",
       "  'the writer,the lawyer': (0.0, 5, 0.0, 4),\n",
       "  'the writer,the doctor': (0.4, 5, 1.0, 2),\n",
       "  'the lawyer,the janitor': (0.4, 5, 1.0, 2),\n",
       "  'the lawyer,the bartender': (0.2, 5, 1.0, 1),\n",
       "  'the lawyer,the engineer': (0.2, 5, 1.0, 1),\n",
       "  'the lawyer,the writer': (0.0, 5, -1, 0),\n",
       "  'the lawyer,the lawyer': (-1, 0, -1, 0),\n",
       "  'the lawyer,the doctor': (0.0, 5, -1, 0),\n",
       "  'the doctor,the janitor': (0.2, 5, 1.0, 1),\n",
       "  'the doctor,the bartender': (0.2, 5, 1.0, 1),\n",
       "  'the doctor,the engineer': (0.4, 5, 1.0, 2),\n",
       "  'the doctor,the writer': (0.0, 5, -1, 0),\n",
       "  'the doctor,the lawyer': (0.0, 5, -1, 0),\n",
       "  'the doctor,the doctor': (-1, 0, -1, 0)},\n",
       " 'acc_by_action': {'to go': (0.1, 30, 0.6, 5),\n",
       "  'to read': (0.26666666666666666, 30, 0.7272727272727273, 11),\n",
       "  'to come': (0.03333333333333333, 30, 0.25, 4),\n",
       "  'to run': (0.5, 30, 0.7894736842105263, 19),\n",
       "  'to call': (0.0, 30, -1, 0)},\n",
       " 'acc_by_verb': {'threatened': (0.18, 150, 0.6923076923076923, 39)},\n",
       " 'acc_by_action_by_verb': {'to go,threatened': (0.1, 30, 0.6, 5),\n",
       "  'to read,threatened': (0.26666666666666666, 30, 0.7272727272727273, 11),\n",
       "  'to come,threatened': (0.03333333333333333, 30, 0.25, 4),\n",
       "  'to run,threatened': (0.5, 30, 0.7894736842105263, 19),\n",
       "  'to call,threatened': (0.0, 30, -1, 0)}}"
      ]
     },
     "execution_count": 13,
     "metadata": {},
     "output_type": "execute_result"
    }
   ],
   "source": [
    "accuracy_report(gpt_df)"
   ]
  },
  {
   "cell_type": "markdown",
   "metadata": {},
   "source": [
    "## Jurassic Large"
   ]
  },
  {
   "cell_type": "code",
   "execution_count": 14,
   "metadata": {},
   "outputs": [
    {
     "name": "stderr",
     "output_type": "stream",
     "text": [
      "100%|██████████| 30/30 [02:31<00:00,  5.06s/it]\n"
     ]
    }
   ],
   "source": [
    "\n",
    "jurassic_kwargs = {\"maxTokens\": 2, \"temperature\": 0.0}\n",
    "jurassic_subject_control_experiment  = Experiment(\"jurassic-large\", \"subject-control\", FixedGPTPrompt, run_ai21_prompt, 1, jurassic_kwargs)\n",
    "\n",
    "jurassic_subject_control_experiment.run(names, correct_index, verbs, actions, nicknames=nicknames)"
   ]
  },
  {
   "cell_type": "code",
   "execution_count": 15,
   "metadata": {},
   "outputs": [],
   "source": [
    "jurassic_df = jurassic_subject_control_experiment.format_results()\n",
    "\n",
    "jurassic_df.to_csv(\"../../short_instructions/results_profession_extended/jurassic_subject_control.csv\")\n",
    "\n",
    "# jurassic_df = pd.read_csv(\"/Users/Elias/child-lm/results/jurassic_subject_control_swap_names.csv\")"
   ]
  },
  {
   "cell_type": "code",
   "execution_count": 16,
   "metadata": {},
   "outputs": [
    {
     "data": {
      "text/plain": [
       "{'total': (0.04666666666666667, 150, 0.5384615384615384, 13),\n",
       " 'acc_by_swap': {True: (0.04666666666666667, 150, 0.5384615384615384, 13),\n",
       "  False: (-1, 0, -1, 0)},\n",
       " 'acc_by_name': {'the janitor,the bartender': (0.0, 10, -1, 0),\n",
       "  'the janitor,the engineer': (0.0, 10, -1, 0),\n",
       "  'the janitor,the writer': (0.0, 10, -1, 0),\n",
       "  'the janitor,the lawyer': (0.0, 10, -1, 0),\n",
       "  'the janitor,the doctor': (0.4, 10, 0.8, 5),\n",
       "  'the bartender,the engineer': (0.0, 10, -1, 0),\n",
       "  'the bartender,the writer': (0.0, 10, -1, 0),\n",
       "  'the bartender,the lawyer': (0.0, 10, -1, 0),\n",
       "  'the bartender,the doctor': (0.0, 10, 0.0, 5),\n",
       "  'the engineer,the writer': (0.0, 10, -1, 0),\n",
       "  'the engineer,the lawyer': (0.0, 10, -1, 0),\n",
       "  'the engineer,the doctor': (0.2, 10, 1.0, 2),\n",
       "  'the writer,the lawyer': (0.0, 10, -1, 0),\n",
       "  'the writer,the doctor': (0.0, 10, -1, 0),\n",
       "  'the lawyer,the doctor': (0.1, 10, 1.0, 1)},\n",
       " 'acc_by_first_name': {'the janitor,the janitor': (-1, 0, -1, 0),\n",
       "  'the janitor,the bartender': (0.0, 5, -1, 0),\n",
       "  'the janitor,the engineer': (0.0, 5, -1, 0),\n",
       "  'the janitor,the writer': (0.0, 5, -1, 0),\n",
       "  'the janitor,the lawyer': (0.0, 5, -1, 0),\n",
       "  'the janitor,the doctor': (0.0, 5, 0.0, 1),\n",
       "  'the bartender,the janitor': (0.0, 5, -1, 0),\n",
       "  'the bartender,the bartender': (-1, 0, -1, 0),\n",
       "  'the bartender,the engineer': (0.0, 5, -1, 0),\n",
       "  'the bartender,the writer': (0.0, 5, -1, 0),\n",
       "  'the bartender,the lawyer': (0.0, 5, -1, 0),\n",
       "  'the bartender,the doctor': (0.0, 5, 0.0, 5),\n",
       "  'the engineer,the janitor': (0.0, 5, -1, 0),\n",
       "  'the engineer,the bartender': (0.0, 5, -1, 0),\n",
       "  'the engineer,the engineer': (-1, 0, -1, 0),\n",
       "  'the engineer,the writer': (0.0, 5, -1, 0),\n",
       "  'the engineer,the lawyer': (0.0, 5, -1, 0),\n",
       "  'the engineer,the doctor': (0.0, 5, -1, 0),\n",
       "  'the writer,the janitor': (0.0, 5, -1, 0),\n",
       "  'the writer,the bartender': (0.0, 5, -1, 0),\n",
       "  'the writer,the engineer': (0.0, 5, -1, 0),\n",
       "  'the writer,the writer': (-1, 0, -1, 0),\n",
       "  'the writer,the lawyer': (0.0, 5, -1, 0),\n",
       "  'the writer,the doctor': (0.0, 5, -1, 0),\n",
       "  'the lawyer,the janitor': (0.0, 5, -1, 0),\n",
       "  'the lawyer,the bartender': (0.0, 5, -1, 0),\n",
       "  'the lawyer,the engineer': (0.0, 5, -1, 0),\n",
       "  'the lawyer,the writer': (0.0, 5, -1, 0),\n",
       "  'the lawyer,the lawyer': (-1, 0, -1, 0),\n",
       "  'the lawyer,the doctor': (0.0, 5, -1, 0),\n",
       "  'the doctor,the janitor': (0.8, 5, 1.0, 4),\n",
       "  'the doctor,the bartender': (0.0, 5, -1, 0),\n",
       "  'the doctor,the engineer': (0.4, 5, 1.0, 2),\n",
       "  'the doctor,the writer': (0.0, 5, -1, 0),\n",
       "  'the doctor,the lawyer': (0.2, 5, 1.0, 1),\n",
       "  'the doctor,the doctor': (-1, 0, -1, 0)},\n",
       " 'acc_by_action': {'to go': (0.1, 30, 0.6, 5),\n",
       "  'to read': (0.03333333333333333, 30, 0.5, 2),\n",
       "  'to come': (0.06666666666666667, 30, 0.6666666666666666, 3),\n",
       "  'to run': (0.0, 30, 0.0, 1),\n",
       "  'to call': (0.03333333333333333, 30, 0.5, 2)},\n",
       " 'acc_by_verb': {'threatened': (0.04666666666666667,\n",
       "   150,\n",
       "   0.5384615384615384,\n",
       "   13)},\n",
       " 'acc_by_action_by_verb': {'to go,threatened': (0.1, 30, 0.6, 5),\n",
       "  'to read,threatened': (0.03333333333333333, 30, 0.5, 2),\n",
       "  'to come,threatened': (0.06666666666666667, 30, 0.6666666666666666, 3),\n",
       "  'to run,threatened': (0.0, 30, 0.0, 1),\n",
       "  'to call,threatened': (0.03333333333333333, 30, 0.5, 2)}}"
      ]
     },
     "execution_count": 16,
     "metadata": {},
     "output_type": "execute_result"
    }
   ],
   "source": [
    "accuracy_report(jurassic_df)"
   ]
  },
  {
   "cell_type": "markdown",
   "metadata": {},
   "source": [
    "## Jurassic Jumbo"
   ]
  },
  {
   "cell_type": "code",
   "execution_count": 17,
   "metadata": {},
   "outputs": [
    {
     "name": "stderr",
     "output_type": "stream",
     "text": [
      "100%|██████████| 30/30 [08:14<00:00, 16.48s/it]\n"
     ]
    }
   ],
   "source": [
    "\n",
    "jurassic_kwargs = {\"maxTokens\": 2, \"temperature\": 0.0}\n",
    "jurassic_jumbo_subject_control_experiment  = Experiment(\"jurassic-jumbo\", \"subject-control\", FixedGPTPrompt, run_ai21_jumbo_prompt, 1, jurassic_kwargs)\n",
    "\n",
    "jurassic_jumbo_subject_control_experiment.run(names, correct_index, verbs, actions, nicknames=nicknames, do_swap=True, rate_limit_delay=60, rate_limit_count=19)\n",
    "jurassic_jumbo_df = jurassic_jumbo_subject_control_experiment.format_results()\n",
    "\n",
    "jurassic_jumbo_df.to_csv(\"../../short_instructions/results_profession_extended/jurassic_jumbo_subject_control.csv\")\n",
    "\n",
    "# jurassic_jumbo_df = pd.read_csv(\"../results_profession/jurassic_subject_control_swap_names.csv\")"
   ]
  },
  {
   "cell_type": "code",
   "execution_count": 18,
   "metadata": {},
   "outputs": [
    {
     "data": {
      "text/plain": [
       "{'total': (0.02, 150, 1.0, 3),\n",
       " 'acc_by_swap': {True: (0.02, 150, 1.0, 3), False: (-1, 0, -1, 0)},\n",
       " 'acc_by_name': {'the janitor,the bartender': (0.0, 10, -1, 0),\n",
       "  'the janitor,the engineer': (0.0, 10, -1, 0),\n",
       "  'the janitor,the writer': (0.0, 10, -1, 0),\n",
       "  'the janitor,the lawyer': (0.3, 10, 1.0, 3),\n",
       "  'the janitor,the doctor': (0.0, 10, -1, 0),\n",
       "  'the bartender,the engineer': (0.0, 10, -1, 0),\n",
       "  'the bartender,the writer': (0.0, 10, -1, 0),\n",
       "  'the bartender,the lawyer': (0.0, 10, -1, 0),\n",
       "  'the bartender,the doctor': (0.0, 10, -1, 0),\n",
       "  'the engineer,the writer': (0.0, 10, -1, 0),\n",
       "  'the engineer,the lawyer': (0.0, 10, -1, 0),\n",
       "  'the engineer,the doctor': (0.0, 10, -1, 0),\n",
       "  'the writer,the lawyer': (0.0, 10, -1, 0),\n",
       "  'the writer,the doctor': (0.0, 10, -1, 0),\n",
       "  'the lawyer,the doctor': (0.0, 10, -1, 0)},\n",
       " 'acc_by_first_name': {'the janitor,the janitor': (-1, 0, -1, 0),\n",
       "  'the janitor,the bartender': (0.0, 5, -1, 0),\n",
       "  'the janitor,the engineer': (0.0, 5, -1, 0),\n",
       "  'the janitor,the writer': (0.0, 5, -1, 0),\n",
       "  'the janitor,the lawyer': (0.0, 5, -1, 0),\n",
       "  'the janitor,the doctor': (0.0, 5, -1, 0),\n",
       "  'the bartender,the janitor': (0.0, 5, -1, 0),\n",
       "  'the bartender,the bartender': (-1, 0, -1, 0),\n",
       "  'the bartender,the engineer': (0.0, 5, -1, 0),\n",
       "  'the bartender,the writer': (0.0, 5, -1, 0),\n",
       "  'the bartender,the lawyer': (0.0, 5, -1, 0),\n",
       "  'the bartender,the doctor': (0.0, 5, -1, 0),\n",
       "  'the engineer,the janitor': (0.0, 5, -1, 0),\n",
       "  'the engineer,the bartender': (0.0, 5, -1, 0),\n",
       "  'the engineer,the engineer': (-1, 0, -1, 0),\n",
       "  'the engineer,the writer': (0.0, 5, -1, 0),\n",
       "  'the engineer,the lawyer': (0.0, 5, -1, 0),\n",
       "  'the engineer,the doctor': (0.0, 5, -1, 0),\n",
       "  'the writer,the janitor': (0.0, 5, -1, 0),\n",
       "  'the writer,the bartender': (0.0, 5, -1, 0),\n",
       "  'the writer,the engineer': (0.0, 5, -1, 0),\n",
       "  'the writer,the writer': (-1, 0, -1, 0),\n",
       "  'the writer,the lawyer': (0.0, 5, -1, 0),\n",
       "  'the writer,the doctor': (0.0, 5, -1, 0),\n",
       "  'the lawyer,the janitor': (0.6, 5, 1.0, 3),\n",
       "  'the lawyer,the bartender': (0.0, 5, -1, 0),\n",
       "  'the lawyer,the engineer': (0.0, 5, -1, 0),\n",
       "  'the lawyer,the writer': (0.0, 5, -1, 0),\n",
       "  'the lawyer,the lawyer': (-1, 0, -1, 0),\n",
       "  'the lawyer,the doctor': (0.0, 5, -1, 0),\n",
       "  'the doctor,the janitor': (0.0, 5, -1, 0),\n",
       "  'the doctor,the bartender': (0.0, 5, -1, 0),\n",
       "  'the doctor,the engineer': (0.0, 5, -1, 0),\n",
       "  'the doctor,the writer': (0.0, 5, -1, 0),\n",
       "  'the doctor,the lawyer': (0.0, 5, -1, 0),\n",
       "  'the doctor,the doctor': (-1, 0, -1, 0)},\n",
       " 'acc_by_action': {'to go': (0.03333333333333333, 30, 1.0, 1),\n",
       "  'to read': (0.03333333333333333, 30, 1.0, 1),\n",
       "  'to come': (0.0, 30, -1, 0),\n",
       "  'to run': (0.0, 30, -1, 0),\n",
       "  'to call': (0.03333333333333333, 30, 1.0, 1)},\n",
       " 'acc_by_verb': {'threatened': (0.02, 150, 1.0, 3)},\n",
       " 'acc_by_action_by_verb': {'to go,threatened': (0.03333333333333333,\n",
       "   30,\n",
       "   1.0,\n",
       "   1),\n",
       "  'to read,threatened': (0.03333333333333333, 30, 1.0, 1),\n",
       "  'to come,threatened': (0.0, 30, -1, 0),\n",
       "  'to run,threatened': (0.0, 30, -1, 0),\n",
       "  'to call,threatened': (0.03333333333333333, 30, 1.0, 1)}}"
      ]
     },
     "execution_count": 18,
     "metadata": {},
     "output_type": "execute_result"
    }
   ],
   "source": [
    "accuracy_report(jurassic_jumbo_df)"
   ]
  },
  {
   "cell_type": "code",
   "execution_count": null,
   "metadata": {},
   "outputs": [],
   "source": []
  }
 ],
 "metadata": {
  "interpreter": {
   "hash": "ec6008f546f3cd66431ed7a4f2e2b63949ea9a2fd324a00b9368fd8a5a5333f5"
  },
  "kernelspec": {
   "display_name": "Python 3.7.11 64-bit ('openai': conda)",
   "language": "python",
   "name": "python3"
  },
  "language_info": {
   "codemirror_mode": {
    "name": "ipython",
    "version": 3
   },
   "file_extension": ".py",
   "mimetype": "text/x-python",
   "name": "python",
   "nbconvert_exporter": "python",
   "pygments_lexer": "ipython3",
   "version": "3.7.11"
  },
  "orig_nbformat": 4
 },
 "nbformat": 4,
 "nbformat_minor": 2
}
