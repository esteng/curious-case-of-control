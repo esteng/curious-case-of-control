{
 "cells": [
  {
   "cell_type": "code",
   "execution_count": 1,
   "metadata": {},
   "outputs": [],
   "source": [
    "from api_tools import StringMetric, run_experiment, run_t5_prompt, T5Prompt"
   ]
  },
  {
   "cell_type": "markdown",
   "metadata": {},
   "source": [
    "## How does T5 finetuned for QA do on object control? "
   ]
  },
  {
   "cell_type": "code",
   "execution_count": 13,
   "metadata": {},
   "outputs": [
    {
     "name": "stderr",
     "output_type": "stream",
     "text": [
      "100%|██████████| 1/1 [00:00<00:00,  3.20it/s]\n",
      "100%|██████████| 1/1 [00:00<00:00,  4.11it/s]\n",
      "100%|██████████| 1/1 [00:00<00:00,  3.99it/s]\n",
      "100%|██████████| 1/1 [00:00<00:00,  3.85it/s]\n",
      "100%|██████████| 1/1 [00:00<00:00,  1.88it/s]\n",
      "100%|██████████| 1/1 [00:00<00:00,  3.77it/s]\n",
      "100%|██████████| 1/1 [00:00<00:00,  3.70it/s]\n",
      "100%|██████████| 1/1 [00:00<00:00,  3.78it/s]\n",
      "100%|██████████| 1/1 [00:00<00:00,  4.18it/s]\n",
      "100%|██████████| 1/1 [00:00<00:00,  4.20it/s]\n",
      "100%|██████████| 1/1 [00:00<00:00,  3.92it/s]\n",
      "100%|██████████| 1/1 [00:00<00:00,  3.91it/s]\n",
      "100%|██████████| 1/1 [00:00<00:00,  4.04it/s]\n",
      "100%|██████████| 1/1 [00:00<00:00,  4.12it/s]\n",
      "100%|██████████| 1/1 [00:00<00:00,  4.23it/s]\n",
      "100%|██████████| 1/1 [00:00<00:00,  3.35it/s]\n",
      "100%|██████████| 1/1 [00:00<00:00,  4.16it/s]\n",
      "100%|██████████| 1/1 [00:00<00:00,  4.02it/s]\n",
      "100%|██████████| 1/1 [00:00<00:00,  3.88it/s]\n",
      "100%|██████████| 1/1 [00:00<00:00,  4.00it/s]\n",
      "100%|██████████| 1/1 [00:00<00:00,  3.99it/s]"
     ]
    },
    {
     "name": "stdout",
     "output_type": "stream",
     "text": [
      "{'Tom': 0, 'Mary': 21, 'other': 0}\n"
     ]
    },
    {
     "name": "stderr",
     "output_type": "stream",
     "text": [
      "\n"
     ]
    }
   ],
   "source": [
    "object_control_verbs = [\"told\", \"ordered\", \"exhorted\", \"begged\", \"entreated\", \"called upon\", \"reminded\", \"urged\", \"asked\", \"pleaded with\", \"persuaded\", \"convinced\", \"forced\", \"pushed\"]\n",
    "\n",
    "actions = [(\"to leave\", \"left\"), (\"to call home\", \"called home\"), (\"to reply\", \"replied\")]\n",
    "\n",
    "responses_by_verb = {}\n",
    "class_lookups = {\"Tom\": [\"tom\"], \"Mary\": [\"mary\"]}\n",
    "metric = StringMetric(class_lookups)\n",
    "\n",
    "for verb in object_control_verbs[-7:]:\n",
    "    for infinitive, past in actions:\n",
    "        context = [f\"Tom {verb} Mary {infinitive}.\"]\n",
    "        prompt_text = f\"Who {past}?\"\n",
    "\n",
    "        key = f\"{verb}, {infinitive}\"\n",
    "\n",
    "        prompt = T5Prompt(context, prompt_text)\n",
    "\n",
    "        replicants = 1\n",
    "        text = str(prompt)\n",
    "        kwargs = {\"max_tokens\": 2, \"temperature\": 0.0}\n",
    "        metric, responses = run_experiment(run_t5_prompt, text, replicants, metric, kwargs)\n",
    "        responses_by_verb[key] = responses \n",
    "\n",
    "counts, classes = metric.get_metric()\n",
    "print(counts)\n",
    "\n"
   ]
  },
  {
   "cell_type": "markdown",
   "metadata": {},
   "source": [
    "## What about subject control? "
   ]
  },
  {
   "cell_type": "code",
   "execution_count": 25,
   "metadata": {},
   "outputs": [
    {
     "name": "stderr",
     "output_type": "stream",
     "text": [
      "100%|██████████| 1/1 [00:00<00:00,  3.66it/s]\n",
      "100%|██████████| 1/1 [00:00<00:00,  4.01it/s]\n",
      "100%|██████████| 1/1 [00:00<00:00,  3.73it/s]"
     ]
    },
    {
     "name": "stdout",
     "output_type": "stream",
     "text": [
      "{'Tom': 3, 'Mary': 0, 'other': 0}\n"
     ]
    },
    {
     "name": "stderr",
     "output_type": "stream",
     "text": [
      "\n"
     ]
    }
   ],
   "source": [
    "class_lookups = {\"Tom\": [\"tom\"], \"Mary\": [\"mary\"]}\n",
    "metric = StringMetric(class_lookups)\n",
    "responses_by_verb = {}\n",
    "for infinitive, past in actions:\n",
    "    context = [f\"Mary promised Tom {infinitive}.\"]\n",
    "    prompt_text = f\"Who {past}?\"\n",
    "\n",
    "    key = f\"{infinitive}\"\n",
    "\n",
    "    prompt = T5Prompt(context, prompt_text)\n",
    "\n",
    "    replicants = 1\n",
    "    text = str(prompt)\n",
    "    kwargs = {\"max_tokens\": 2, \"temperature\": 0.0}\n",
    "    metric, responses = run_experiment(run_t5_prompt, text, replicants, metric, kwargs)\n",
    "    responses_by_verb[key] = responses \n",
    "\n",
    "counts, classes = metric.get_metric()\n",
    "print(counts)\n",
    "\n"
   ]
  },
  {
   "cell_type": "code",
   "execution_count": 26,
   "metadata": {},
   "outputs": [
    {
     "name": "stderr",
     "output_type": "stream",
     "text": [
      "100%|██████████| 1/1 [00:00<00:00,  6.82it/s]\n",
      "100%|██████████| 1/1 [00:00<00:00,  3.58it/s]\n",
      "100%|██████████| 1/1 [00:00<00:00,  3.80it/s]"
     ]
    },
    {
     "name": "stdout",
     "output_type": "stream",
     "text": [
      "{'Tom': 0, 'Mary': 3, 'other': 0}\n"
     ]
    },
    {
     "name": "stderr",
     "output_type": "stream",
     "text": [
      "\n"
     ]
    }
   ],
   "source": [
    "class_lookups = {\"Tom\": [\"tom\"], \"Mary\": [\"mary\"]}\n",
    "metric = StringMetric(class_lookups)\n",
    "responses_by_verb = {}\n",
    "for infinitive, past in actions:\n",
    "    context = [f\"Tom promised Mary {infinitive}.\"]\n",
    "    prompt_text = f\"Who {past}?\"\n",
    "\n",
    "    key = f\"{infinitive}\"\n",
    "\n",
    "    prompt = T5Prompt(context, prompt_text)\n",
    "\n",
    "    replicants = 1\n",
    "    text = str(prompt)\n",
    "    kwargs = {\"max_tokens\": 2, \"temperature\": 0.0}\n",
    "    metric, responses = run_experiment(run_t5_prompt, text, replicants, metric, kwargs)\n",
    "    responses_by_verb[key] = responses \n",
    "\n",
    "counts, classes = metric.get_metric()\n",
    "print(counts)"
   ]
  },
  {
   "cell_type": "markdown",
   "metadata": {},
   "source": [
    "## Results (Object and Subject Control)\n",
    "Finetuned T5 gets a perfect score on object control, but fails fully on subject control. This is consistent with the MDP.  \n",
    "But how does it do on passives? \n",
    "\n",
    "## Passives "
   ]
  },
  {
   "cell_type": "code",
   "execution_count": 33,
   "metadata": {},
   "outputs": [
    {
     "name": "stderr",
     "output_type": "stream",
     "text": [
      "100%|██████████| 1/1 [00:00<00:00,  3.50it/s]\n",
      "100%|██████████| 1/1 [00:00<00:00,  3.68it/s]\n",
      "100%|██████████| 1/1 [00:00<00:00,  4.12it/s]\n",
      "100%|██████████| 1/1 [00:00<00:00,  3.98it/s]\n",
      "100%|██████████| 1/1 [00:00<00:00,  3.77it/s]\n",
      "100%|██████████| 1/1 [00:00<00:00,  4.07it/s]\n",
      "100%|██████████| 1/1 [00:00<00:00,  3.79it/s]\n",
      "100%|██████████| 1/1 [00:00<00:00,  3.84it/s]\n",
      "100%|██████████| 1/1 [00:00<00:00,  3.21it/s]\n",
      "100%|██████████| 1/1 [00:03<00:00,  3.59s/it]\n",
      "100%|██████████| 1/1 [00:00<00:00,  3.71it/s]\n",
      "100%|██████████| 1/1 [00:00<00:00,  1.17it/s]\n",
      "100%|██████████| 1/1 [00:00<00:00,  2.38it/s]\n",
      "100%|██████████| 1/1 [00:00<00:00,  3.98it/s]\n",
      "100%|██████████| 1/1 [00:00<00:00,  4.17it/s]\n",
      "100%|██████████| 1/1 [00:00<00:00,  4.02it/s]\n",
      "100%|██████████| 1/1 [00:00<00:00,  4.26it/s]\n",
      "100%|██████████| 1/1 [00:00<00:00,  4.05it/s]\n",
      "100%|██████████| 1/1 [00:00<00:00,  4.00it/s]\n",
      "100%|██████████| 1/1 [00:00<00:00,  4.07it/s]\n",
      "100%|██████████| 1/1 [00:00<00:00,  4.23it/s]"
     ]
    },
    {
     "name": "stdout",
     "output_type": "stream",
     "text": [
      "{'Tom': 4, 'Mary': 17, 'other': 0}\n"
     ]
    },
    {
     "name": "stderr",
     "output_type": "stream",
     "text": [
      "\n"
     ]
    }
   ],
   "source": [
    "responses_by_verb = {}\n",
    "class_lookups = {\"Tom\": [\"tom\"], \"Mary\": [\"mary\"]}\n",
    "metric = StringMetric(class_lookups)\n",
    "\n",
    "for verb in object_control_verbs[-7:]:\n",
    "    for infinitive, past in actions:\n",
    "        context = [f\"Mary was {verb} by Tom {infinitive}.\"]\n",
    "        prompt_text = f\"Who {past}?\"\n",
    "        key = f\"{verb}, {infinitive}\"\n",
    "\n",
    "        prompt = T5Prompt(context, prompt_text)\n",
    "\n",
    "        replicants = 1\n",
    "        text = str(prompt)\n",
    "        kwargs = {\"max_tokens\": 2, \"temperature\": 0.0}\n",
    "        metric, responses = run_experiment(run_t5_prompt, text, replicants, metric, kwargs)\n",
    "        responses_by_verb[key] = responses \n",
    "\n",
    "counts, classes = metric.get_metric()\n",
    "print(counts)\n"
   ]
  },
  {
   "cell_type": "code",
   "execution_count": 34,
   "metadata": {},
   "outputs": [
    {
     "name": "stderr",
     "output_type": "stream",
     "text": [
      "100%|██████████| 1/1 [00:00<00:00,  3.87it/s]\n",
      "100%|██████████| 1/1 [00:00<00:00,  4.18it/s]\n",
      "100%|██████████| 1/1 [00:00<00:00,  3.87it/s]\n",
      "100%|██████████| 1/1 [00:00<00:00,  3.95it/s]\n",
      "100%|██████████| 1/1 [00:00<00:00,  4.08it/s]\n",
      "100%|██████████| 1/1 [00:00<00:00,  3.84it/s]\n",
      "100%|██████████| 1/1 [00:00<00:00,  3.97it/s]\n",
      "100%|██████████| 1/1 [00:00<00:00,  3.93it/s]\n",
      "100%|██████████| 1/1 [00:00<00:00,  4.02it/s]\n",
      "100%|██████████| 1/1 [00:00<00:00,  4.06it/s]\n",
      "100%|██████████| 1/1 [00:00<00:00,  4.02it/s]\n",
      "100%|██████████| 1/1 [00:00<00:00,  4.00it/s]\n",
      "100%|██████████| 1/1 [00:00<00:00,  4.03it/s]\n",
      "100%|██████████| 1/1 [00:00<00:00,  4.17it/s]\n",
      "100%|██████████| 1/1 [00:00<00:00,  3.63it/s]\n",
      "100%|██████████| 1/1 [00:00<00:00,  3.91it/s]\n",
      "100%|██████████| 1/1 [00:00<00:00,  4.05it/s]\n",
      "100%|██████████| 1/1 [00:00<00:00,  4.09it/s]\n",
      "100%|██████████| 1/1 [00:00<00:00,  4.03it/s]\n",
      "100%|██████████| 1/1 [00:00<00:00,  3.79it/s]\n",
      "100%|██████████| 1/1 [00:00<00:00,  3.94it/s]"
     ]
    },
    {
     "name": "stdout",
     "output_type": "stream",
     "text": [
      "{'Tom': 20, 'Mary': 1, 'other': 0}\n"
     ]
    },
    {
     "name": "stderr",
     "output_type": "stream",
     "text": [
      "\n"
     ]
    }
   ],
   "source": [
    "responses_by_verb = {}\n",
    "class_lookups = {\"Tom\": [\"tom\"], \"Mary\": [\"mary\"]}\n",
    "metric = StringMetric(class_lookups)\n",
    "\n",
    "for verb in object_control_verbs[-7:]:\n",
    "    for infinitive, past in actions:\n",
    "        context = [f\"Tom was {verb} by Mary {infinitive}.\"]\n",
    "        prompt_text = f\"Who {past}?\"\n",
    "        key = f\"{verb}, {infinitive}\"\n",
    "\n",
    "        prompt = T5Prompt(context, prompt_text)\n",
    "\n",
    "        replicants = 1\n",
    "        text = str(prompt)\n",
    "        kwargs = {\"max_tokens\": 2, \"temperature\": 0.0}\n",
    "        metric, responses = run_experiment(run_t5_prompt, text, replicants, metric, kwargs)\n",
    "        responses_by_verb[key] = responses \n",
    "\n",
    "counts, classes = metric.get_metric()\n",
    "print(counts)"
   ]
  },
  {
   "cell_type": "markdown",
   "metadata": {},
   "source": [
    "## Passives results\n",
    "It sometimes answers Tom, even when the order is reversed. So what if we change it to two men (maybe gender is confusing it)."
   ]
  },
  {
   "cell_type": "code",
   "execution_count": 35,
   "metadata": {},
   "outputs": [
    {
     "name": "stderr",
     "output_type": "stream",
     "text": [
      "100%|██████████| 1/1 [00:00<00:00,  2.26it/s]\n",
      "100%|██████████| 1/1 [00:00<00:00,  2.18it/s]\n",
      "100%|██████████| 1/1 [00:00<00:00,  3.91it/s]\n",
      "100%|██████████| 1/1 [00:00<00:00,  2.97it/s]\n",
      "100%|██████████| 1/1 [00:00<00:00,  3.93it/s]\n",
      "100%|██████████| 1/1 [00:00<00:00,  3.02it/s]\n",
      "100%|██████████| 1/1 [00:00<00:00,  2.40it/s]\n",
      "100%|██████████| 1/1 [00:00<00:00,  1.43it/s]\n",
      "100%|██████████| 1/1 [00:00<00:00,  3.60it/s]\n",
      "100%|██████████| 1/1 [00:00<00:00,  3.42it/s]\n",
      "100%|██████████| 1/1 [00:01<00:00,  1.04s/it]\n",
      "100%|██████████| 1/1 [00:00<00:00,  3.55it/s]\n",
      "100%|██████████| 1/1 [00:00<00:00,  2.94it/s]\n",
      "100%|██████████| 1/1 [00:00<00:00,  3.46it/s]\n",
      "100%|██████████| 1/1 [00:00<00:00,  4.11it/s]\n",
      "100%|██████████| 1/1 [00:00<00:00,  3.93it/s]\n",
      "100%|██████████| 1/1 [00:01<00:00,  1.57s/it]\n",
      "100%|██████████| 1/1 [00:00<00:00,  2.94it/s]\n",
      "100%|██████████| 1/1 [00:00<00:00,  1.47it/s]\n",
      "100%|██████████| 1/1 [00:00<00:00,  3.13it/s]\n",
      "100%|██████████| 1/1 [00:00<00:00,  1.06it/s]"
     ]
    },
    {
     "name": "stdout",
     "output_type": "stream",
     "text": [
      "{'Tom': 18, 'Bill': 3, 'other': 0}\n"
     ]
    },
    {
     "name": "stderr",
     "output_type": "stream",
     "text": [
      "\n"
     ]
    }
   ],
   "source": [
    "responses_by_verb = {}\n",
    "class_lookups = {\"Tom\": [\"tom\"], \"Bill\": [\"bill\"]}\n",
    "metric = StringMetric(class_lookups)\n",
    "\n",
    "for verb in object_control_verbs[-7:]:\n",
    "    for infinitive, past in actions:\n",
    "        context = [f\"Tom was {verb} by Bill {infinitive}.\"]\n",
    "        prompt_text = f\"Who {past}?\"\n",
    "        key = f\"{verb}, {infinitive}\"\n",
    "\n",
    "        prompt = T5Prompt(context, prompt_text)\n",
    "\n",
    "        replicants = 1\n",
    "        text = str(prompt)\n",
    "        kwargs = {\"max_tokens\": 2, \"temperature\": 0.0}\n",
    "        metric, responses = run_experiment(run_t5_prompt, text, replicants, metric, kwargs)\n",
    "        responses_by_verb[key] = responses \n",
    "\n",
    "counts, classes = metric.get_metric()\n",
    "print(counts)"
   ]
  },
  {
   "cell_type": "code",
   "execution_count": 41,
   "metadata": {},
   "outputs": [
    {
     "name": "stderr",
     "output_type": "stream",
     "text": [
      "100%|██████████| 1/1 [00:00<00:00,  1.62it/s]\n",
      "100%|██████████| 1/1 [00:00<00:00,  3.42it/s]\n",
      "100%|██████████| 1/1 [00:00<00:00,  3.74it/s]\n",
      "100%|██████████| 1/1 [00:00<00:00,  3.59it/s]\n",
      "100%|██████████| 1/1 [00:00<00:00,  3.74it/s]\n",
      "100%|██████████| 1/1 [00:00<00:00,  3.68it/s]\n",
      "100%|██████████| 1/1 [00:00<00:00,  3.63it/s]\n",
      "100%|██████████| 1/1 [00:00<00:00,  3.77it/s]\n",
      "100%|██████████| 1/1 [00:00<00:00,  3.94it/s]\n",
      "100%|██████████| 1/1 [00:00<00:00,  3.03it/s]\n",
      "100%|██████████| 1/1 [00:00<00:00,  2.07it/s]\n",
      "100%|██████████| 1/1 [00:00<00:00,  3.45it/s]\n",
      "100%|██████████| 1/1 [00:00<00:00,  3.60it/s]\n",
      "100%|██████████| 1/1 [00:00<00:00,  3.67it/s]\n",
      "100%|██████████| 1/1 [00:01<00:00,  1.31s/it]\n",
      "100%|██████████| 1/1 [00:00<00:00,  3.43it/s]\n",
      "100%|██████████| 1/1 [00:00<00:00,  3.21it/s]\n",
      "100%|██████████| 1/1 [00:00<00:00,  3.31it/s]\n",
      "100%|██████████| 1/1 [00:00<00:00,  3.14it/s]\n",
      "100%|██████████| 1/1 [00:00<00:00,  2.77it/s]\n",
      "100%|██████████| 1/1 [00:00<00:00,  3.36it/s]"
     ]
    },
    {
     "name": "stdout",
     "output_type": "stream",
     "text": [
      "{'Tom': 2, 'Bill': 19, 'other': 0}\n"
     ]
    },
    {
     "name": "stderr",
     "output_type": "stream",
     "text": [
      "\n"
     ]
    }
   ],
   "source": [
    "responses_by_verb = {}\n",
    "class_lookups = {\"Tom\": [\"tom\"], \"Bill\": [\"bill\"]}\n",
    "metric = StringMetric(class_lookups)\n",
    "\n",
    "for verb in object_control_verbs[-7:]:\n",
    "    for infinitive, past in actions:\n",
    "        context = [f\"Bill was {verb} by Tom {infinitive}.\"]\n",
    "        prompt_text = f\"Who {past}?\"\n",
    "        key = f\"{verb}, {infinitive}\"\n",
    "\n",
    "        prompt = T5Prompt(context, prompt_text)\n",
    "\n",
    "        replicants = 1\n",
    "        text = str(prompt)\n",
    "        kwargs = {\"max_tokens\": 2, \"temperature\": 0.0}\n",
    "        metric, responses = run_experiment(run_t5_prompt, text, replicants, metric, kwargs)\n",
    "        responses_by_verb[key] = responses \n",
    "\n",
    "counts, classes = metric.get_metric()\n",
    "print(counts)"
   ]
  },
  {
   "cell_type": "code",
   "execution_count": 36,
   "metadata": {},
   "outputs": [
    {
     "name": "stderr",
     "output_type": "stream",
     "text": [
      "100%|██████████| 1/1 [00:00<00:00,  2.56it/s]\n",
      "100%|██████████| 1/1 [00:00<00:00,  2.86it/s]\n",
      "100%|██████████| 1/1 [00:00<00:00,  3.82it/s]\n",
      "100%|██████████| 1/1 [00:00<00:00,  3.97it/s]\n",
      "100%|██████████| 1/1 [00:00<00:00,  1.32it/s]\n",
      "100%|██████████| 1/1 [00:00<00:00,  2.91it/s]\n",
      "100%|██████████| 1/1 [00:00<00:00,  3.73it/s]\n",
      "100%|██████████| 1/1 [00:00<00:00,  3.67it/s]\n",
      "100%|██████████| 1/1 [00:00<00:00,  3.13it/s]\n",
      "100%|██████████| 1/1 [00:00<00:00,  3.67it/s]\n",
      "100%|██████████| 1/1 [00:00<00:00,  4.01it/s]\n",
      "100%|██████████| 1/1 [00:00<00:00,  4.18it/s]\n",
      "100%|██████████| 1/1 [00:00<00:00,  3.85it/s]\n",
      "100%|██████████| 1/1 [00:00<00:00,  3.10it/s]\n",
      "100%|██████████| 1/1 [00:00<00:00,  2.00it/s]\n",
      "100%|██████████| 1/1 [00:00<00:00,  3.83it/s]\n",
      "100%|██████████| 1/1 [00:00<00:00,  3.39it/s]\n",
      "100%|██████████| 1/1 [00:00<00:00,  4.01it/s]\n",
      "100%|██████████| 1/1 [00:00<00:00,  2.94it/s]\n",
      "100%|██████████| 1/1 [00:00<00:00,  3.52it/s]\n",
      "100%|██████████| 1/1 [00:00<00:00,  3.85it/s]"
     ]
    },
    {
     "name": "stdout",
     "output_type": "stream",
     "text": [
      "{'Mary': 4, 'Emma': 17, 'other': 0}\n"
     ]
    },
    {
     "name": "stderr",
     "output_type": "stream",
     "text": [
      "\n"
     ]
    }
   ],
   "source": [
    "responses_by_verb = {}\n",
    "class_lookups = {\"Mary\": [\"mary\"], \"Emma\": [\"emma\"]}\n",
    "metric = StringMetric(class_lookups)\n",
    "\n",
    "for verb in object_control_verbs[-7:]:\n",
    "    for infinitive, past in actions:\n",
    "        context = [f\"Mary was {verb} by Emma {infinitive}.\"]\n",
    "        prompt_text = f\"Who {past}?\"\n",
    "        key = f\"{verb}, {infinitive}\"\n",
    "\n",
    "        prompt = T5Prompt(context, prompt_text)\n",
    "\n",
    "        replicants = 1\n",
    "        text = str(prompt)\n",
    "        kwargs = {\"max_tokens\": 2, \"temperature\": 0.0}\n",
    "        metric, responses = run_experiment(run_t5_prompt, text, replicants, metric, kwargs)\n",
    "        responses_by_verb[key] = responses \n",
    "\n",
    "counts, classes = metric.get_metric()\n",
    "print(counts)"
   ]
  },
  {
   "cell_type": "code",
   "execution_count": 37,
   "metadata": {},
   "outputs": [
    {
     "name": "stderr",
     "output_type": "stream",
     "text": [
      "100%|██████████| 1/1 [00:00<00:00,  3.32it/s]\n",
      "100%|██████████| 1/1 [00:00<00:00,  1.30it/s]\n",
      "100%|██████████| 1/1 [00:01<00:00,  1.43s/it]\n",
      "100%|██████████| 1/1 [00:00<00:00,  2.46it/s]\n",
      "100%|██████████| 1/1 [00:00<00:00,  1.94it/s]\n",
      "100%|██████████| 1/1 [00:00<00:00,  3.33it/s]\n",
      "100%|██████████| 1/1 [00:00<00:00,  3.75it/s]\n",
      "100%|██████████| 1/1 [00:00<00:00,  3.62it/s]\n",
      "100%|██████████| 1/1 [00:00<00:00,  3.08it/s]\n",
      "100%|██████████| 1/1 [00:00<00:00,  1.98it/s]\n",
      "100%|██████████| 1/1 [00:00<00:00,  2.83it/s]\n",
      "100%|██████████| 1/1 [00:00<00:00,  4.02it/s]\n",
      "100%|██████████| 1/1 [00:00<00:00,  3.05it/s]\n",
      "100%|██████████| 1/1 [00:00<00:00,  4.24it/s]\n",
      "100%|██████████| 1/1 [00:00<00:00,  2.44it/s]\n",
      "100%|██████████| 1/1 [00:00<00:00,  3.85it/s]\n",
      "100%|██████████| 1/1 [00:00<00:00,  3.57it/s]\n",
      "100%|██████████| 1/1 [00:00<00:00,  3.82it/s]\n",
      "100%|██████████| 1/1 [00:00<00:00,  2.37it/s]\n",
      "100%|██████████| 1/1 [00:00<00:00,  2.47it/s]\n",
      "100%|██████████| 1/1 [00:00<00:00,  4.20it/s]"
     ]
    },
    {
     "name": "stdout",
     "output_type": "stream",
     "text": [
      "{'Mary': 7, 'Emma': 14, 'other': 0}\n"
     ]
    },
    {
     "name": "stderr",
     "output_type": "stream",
     "text": [
      "\n"
     ]
    }
   ],
   "source": [
    "responses_by_verb = {}\n",
    "class_lookups = {\"Mary\": [\"mary\"], \"Emma\": [\"emma\"]}\n",
    "metric = StringMetric(class_lookups)\n",
    "\n",
    "for verb in object_control_verbs[-7:]:\n",
    "    for infinitive, past in actions:\n",
    "        context = [f\"Emma was {verb} by Mary {infinitive}.\"]\n",
    "        prompt_text = f\"Who {past}?\"\n",
    "        key = f\"{verb}, {infinitive}\"\n",
    "\n",
    "        prompt = T5Prompt(context, prompt_text)\n",
    "\n",
    "        replicants = 1\n",
    "        text = str(prompt)\n",
    "        kwargs = {\"max_tokens\": 2, \"temperature\": 0.0}\n",
    "        metric, responses = run_experiment(run_t5_prompt, text, replicants, metric, kwargs)\n",
    "        responses_by_verb[key] = responses \n",
    "\n",
    "counts, classes = metric.get_metric()\n",
    "print(counts)"
   ]
  },
  {
   "cell_type": "code",
   "execution_count": 38,
   "metadata": {},
   "outputs": [
    {
     "name": "stderr",
     "output_type": "stream",
     "text": [
      "100%|██████████| 1/1 [00:00<00:00,  3.53it/s]\n",
      "100%|██████████| 1/1 [00:00<00:00,  3.69it/s]\n",
      "100%|██████████| 1/1 [00:00<00:00,  2.15it/s]\n",
      "100%|██████████| 1/1 [00:00<00:00,  2.85it/s]\n",
      "100%|██████████| 1/1 [00:00<00:00,  3.16it/s]\n",
      "100%|██████████| 1/1 [00:00<00:00,  1.03it/s]\n",
      "100%|██████████| 1/1 [00:00<00:00,  3.52it/s]\n",
      "100%|██████████| 1/1 [00:00<00:00,  2.35it/s]\n",
      "100%|██████████| 1/1 [00:00<00:00,  3.26it/s]\n",
      "100%|██████████| 1/1 [00:00<00:00,  2.86it/s]\n",
      "100%|██████████| 1/1 [00:00<00:00,  1.60it/s]\n",
      "100%|██████████| 1/1 [00:00<00:00,  3.55it/s]\n",
      "100%|██████████| 1/1 [00:00<00:00,  3.35it/s]\n",
      "100%|██████████| 1/1 [00:00<00:00,  2.28it/s]\n",
      "100%|██████████| 1/1 [00:00<00:00,  2.25it/s]\n",
      "100%|██████████| 1/1 [00:00<00:00,  3.73it/s]\n",
      "100%|██████████| 1/1 [00:00<00:00,  3.23it/s]\n",
      "100%|██████████| 1/1 [00:00<00:00,  3.45it/s]\n",
      "100%|██████████| 1/1 [00:00<00:00,  3.65it/s]\n",
      "100%|██████████| 1/1 [00:00<00:00,  3.62it/s]\n",
      "100%|██████████| 1/1 [00:00<00:00,  3.27it/s]"
     ]
    },
    {
     "name": "stdout",
     "output_type": "stream",
     "text": [
      "{'Person A': 1, 'Person B': 20, 'other': 0}\n"
     ]
    },
    {
     "name": "stderr",
     "output_type": "stream",
     "text": [
      "\n"
     ]
    }
   ],
   "source": [
    "responses_by_verb = {}\n",
    "class_lookups = {\"Person A\": [\"a\"], \"Person B\": [\"b\"]}\n",
    "metric = StringMetric(class_lookups)\n",
    "\n",
    "for verb in object_control_verbs[-7:]:\n",
    "    for infinitive, past in actions:\n",
    "        context = [f\"Person A was {verb} by Person B {infinitive}.\"]\n",
    "        prompt_text = f\"Who {past}?\"\n",
    "        key = f\"{verb}, {infinitive}\"\n",
    "\n",
    "        prompt = T5Prompt(context, prompt_text)\n",
    "\n",
    "        replicants = 1\n",
    "        text = str(prompt)\n",
    "        kwargs = {\"max_tokens\": 2, \"temperature\": 0.0}\n",
    "        metric, responses = run_experiment(run_t5_prompt, text, replicants, metric, kwargs)\n",
    "        responses_by_verb[key] = responses \n",
    "\n",
    "counts, classes = metric.get_metric()\n",
    "print(counts)"
   ]
  },
  {
   "cell_type": "code",
   "execution_count": 39,
   "metadata": {},
   "outputs": [
    {
     "name": "stdout",
     "output_type": "stream",
     "text": [
      "{'urged, to leave': [('question: Who left? context: Person A was urged by Person B to leave. </s>', 'Person A')], 'urged, to call home': [('question: Who called home? context: Person A was urged by Person B to call home. </s>', 'Person B')], 'urged, to reply': [('question: Who replied? context: Person A was urged by Person B to reply. </s>', 'Person B')], 'asked, to leave': [('question: Who left? context: Person A was asked by Person B to leave. </s>', 'Person B')], 'asked, to call home': [('question: Who called home? context: Person A was asked by Person B to call home. </s>', 'Person B')], 'asked, to reply': [('question: Who replied? context: Person A was asked by Person B to reply. </s>', 'Person B')], 'pleaded with, to leave': [('question: Who left? context: Person A was pleaded with by Person B to leave. </s>', 'Person B')], 'pleaded with, to call home': [('question: Who called home? context: Person A was pleaded with by Person B to call home. </s>', 'Person B')], 'pleaded with, to reply': [('question: Who replied? context: Person A was pleaded with by Person B to reply. </s>', 'Person B')], 'persuaded, to leave': [('question: Who left? context: Person A was persuaded by Person B to leave. </s>', 'Person B')], 'persuaded, to call home': [('question: Who called home? context: Person A was persuaded by Person B to call home. </s>', 'Person B')], 'persuaded, to reply': [('question: Who replied? context: Person A was persuaded by Person B to reply. </s>', 'Person B')], 'convinced, to leave': [('question: Who left? context: Person A was convinced by Person B to leave. </s>', 'Person B')], 'convinced, to call home': [('question: Who called home? context: Person A was convinced by Person B to call home. </s>', 'Person B')], 'convinced, to reply': [('question: Who replied? context: Person A was convinced by Person B to reply. </s>', 'Person B')], 'forced, to leave': [('question: Who left? context: Person A was forced by Person B to leave. </s>', 'Person B')], 'forced, to call home': [('question: Who called home? context: Person A was forced by Person B to call home. </s>', 'Person B')], 'forced, to reply': [('question: Who replied? context: Person A was forced by Person B to reply. </s>', 'Person B')], 'pushed, to leave': [('question: Who left? context: Person A was pushed by Person B to leave. </s>', 'Person B')], 'pushed, to call home': [('question: Who called home? context: Person A was pushed by Person B to call home. </s>', 'Person B')], 'pushed, to reply': [('question: Who replied? context: Person A was pushed by Person B to reply. </s>', 'Person B')]}\n"
     ]
    }
   ],
   "source": [
    "print(responses_by_verb)"
   ]
  },
  {
   "cell_type": "code",
   "execution_count": 40,
   "metadata": {},
   "outputs": [
    {
     "name": "stderr",
     "output_type": "stream",
     "text": [
      "100%|██████████| 1/1 [00:00<00:00,  2.35it/s]\n",
      "100%|██████████| 1/1 [00:00<00:00,  2.44it/s]\n",
      "100%|██████████| 1/1 [00:00<00:00,  2.31it/s]\n",
      "100%|██████████| 1/1 [00:00<00:00,  2.51it/s]\n",
      "100%|██████████| 1/1 [00:00<00:00,  3.16it/s]\n",
      "100%|██████████| 1/1 [00:00<00:00,  3.29it/s]\n",
      "100%|██████████| 1/1 [00:00<00:00,  3.24it/s]\n",
      "100%|██████████| 1/1 [00:00<00:00,  2.94it/s]\n",
      "100%|██████████| 1/1 [00:00<00:00,  3.40it/s]\n",
      "100%|██████████| 1/1 [00:00<00:00,  2.20it/s]\n",
      "100%|██████████| 1/1 [00:00<00:00,  3.03it/s]\n",
      "100%|██████████| 1/1 [00:00<00:00,  3.14it/s]\n",
      "100%|██████████| 1/1 [00:00<00:00,  2.66it/s]\n",
      "100%|██████████| 1/1 [00:00<00:00,  2.49it/s]\n",
      "100%|██████████| 1/1 [00:00<00:00,  1.75it/s]\n",
      "100%|██████████| 1/1 [00:00<00:00,  2.95it/s]\n",
      "100%|██████████| 1/1 [00:00<00:00,  3.14it/s]\n",
      "100%|██████████| 1/1 [00:00<00:00,  2.81it/s]\n",
      "100%|██████████| 1/1 [00:00<00:00,  2.22it/s]\n",
      "100%|██████████| 1/1 [00:00<00:00,  2.46it/s]\n",
      "100%|██████████| 1/1 [00:00<00:00,  1.41it/s]"
     ]
    },
    {
     "name": "stdout",
     "output_type": "stream",
     "text": [
      "{'fox': 20, 'cat': 1, 'other': 0}\n"
     ]
    },
    {
     "name": "stderr",
     "output_type": "stream",
     "text": [
      "\n"
     ]
    }
   ],
   "source": [
    "responses_by_verb = {}\n",
    "class_lookups = {\"fox\": [\"fox\"], \"cat\": [\"cat\"]}\n",
    "metric = StringMetric(class_lookups)\n",
    "\n",
    "for verb in object_control_verbs[-7:]:\n",
    "    for infinitive, past in actions:\n",
    "        context = [f\"The fox was {verb} by the cat {infinitive}.\"]\n",
    "        prompt_text = f\"Who {past}?\"\n",
    "        key = f\"{verb}, {infinitive}\"\n",
    "\n",
    "        prompt = T5Prompt(context, prompt_text)\n",
    "\n",
    "        replicants = 1\n",
    "        text = str(prompt)\n",
    "        kwargs = {\"max_tokens\": 2, \"temperature\": 0.0}\n",
    "        metric, responses = run_experiment(run_t5_prompt, text, replicants, metric, kwargs)\n",
    "        responses_by_verb[key] = responses \n",
    "\n",
    "counts, classes = metric.get_metric()\n",
    "print(counts)"
   ]
  },
  {
   "cell_type": "markdown",
   "metadata": {},
   "source": [
    "## Gender results\n",
    "It looks like gender does make a difference. When it's Tom and Mary, the model always picks Tom as the agent. When it's Tom and Bill, the model picks the right one depending on the order.\n",
    "\n",
    "## Does gender matter for subject control? "
   ]
  },
  {
   "cell_type": "code",
   "execution_count": 21,
   "metadata": {},
   "outputs": [
    {
     "name": "stderr",
     "output_type": "stream",
     "text": [
      "100%|██████████| 1/1 [00:00<00:00,  3.44it/s]"
     ]
    },
    {
     "name": "stdout",
     "output_type": "stream",
     "text": [
      "{'Tom': 0, 'Bill': 1, 'other': 0}\n"
     ]
    },
    {
     "name": "stderr",
     "output_type": "stream",
     "text": [
      "\n"
     ]
    }
   ],
   "source": [
    "class_lookups = {\"Tom\": [\"tom\"], \"Bill\": [\"bill\"]}\n",
    "metric = StringMetric(class_lookups)\n",
    "\n",
    "context = [\"Tom promised Bill to leave.\"]\n",
    "prompt_text = \"Who left?\"\n",
    "\n",
    "prompt = T5Prompt(context, prompt_text)\n",
    "replicants = 1\n",
    "text = str(prompt)\n",
    "kwargs = {\"max_tokens\": 2, \"temperature\": 0.0}\n",
    "metric, responses = run_experiment(run_t5_prompt, text, replicants, metric, kwargs)\n",
    "counts, classes = metric.get_metric()\n",
    "print(counts)"
   ]
  },
  {
   "cell_type": "code",
   "execution_count": 24,
   "metadata": {},
   "outputs": [
    {
     "name": "stderr",
     "output_type": "stream",
     "text": [
      "100%|██████████| 1/1 [00:00<00:00,  7.95it/s]"
     ]
    },
    {
     "name": "stdout",
     "output_type": "stream",
     "text": [
      "{'Tom': 1, 'Bill': 0, 'other': 0}\n"
     ]
    },
    {
     "name": "stderr",
     "output_type": "stream",
     "text": [
      "\n"
     ]
    }
   ],
   "source": [
    "class_lookups = {\"Tom\": [\"tom\"], \"Bill\": [\"bill\"]}\n",
    "metric = StringMetric(class_lookups)\n",
    "\n",
    "context = [\"Bill promised Tom to leave.\"]\n",
    "prompt_text = \"Who left?\"\n",
    "\n",
    "prompt = T5Prompt(context, prompt_text)\n",
    "replicants = 1\n",
    "text = str(prompt)\n",
    "kwargs = {\"max_tokens\": 2, \"temperature\": 0.0}\n",
    "metric, responses = run_experiment(run_t5_prompt, text, replicants, metric, kwargs)\n",
    "counts, classes = metric.get_metric()\n",
    "print(counts)"
   ]
  },
  {
   "cell_type": "markdown",
   "metadata": {},
   "source": [
    "## Conclusions\n",
    "- Finetuned T5 succeeds on object control and fails on subject control. This would be consistent with the MDP. \n",
    "- However, on passives it violates the MDP when one person is male and the other is female, or when both people are female. In that case, it just chooses one name and answers that no matter what. "
   ]
  },
  {
   "cell_type": "code",
   "execution_count": null,
   "metadata": {},
   "outputs": [],
   "source": []
  }
 ],
 "metadata": {
  "interpreter": {
   "hash": "ec6008f546f3cd66431ed7a4f2e2b63949ea9a2fd324a00b9368fd8a5a5333f5"
  },
  "kernelspec": {
   "display_name": "Python 3.7.11 64-bit ('openai': conda)",
   "language": "python",
   "name": "python3"
  },
  "language_info": {
   "codemirror_mode": {
    "name": "ipython",
    "version": 3
   },
   "file_extension": ".py",
   "mimetype": "text/x-python",
   "name": "python",
   "nbconvert_exporter": "python",
   "pygments_lexer": "ipython3",
   "version": "3.7.11"
  },
  "orig_nbformat": 4
 },
 "nbformat": 4,
 "nbformat_minor": 2
}
