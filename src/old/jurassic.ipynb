{
 "cells": [
  {
   "cell_type": "code",
   "execution_count": null,
   "metadata": {},
   "outputs": [],
   "source": [
    "from api_tools import GPTPrompt, run_experiment, run_ai21_prompt, StringMetric"
   ]
  },
  {
   "cell_type": "markdown",
   "metadata": {},
   "source": [
    "\n",
    "## How does Jurassic large feel about object control"
   ]
  },
  {
   "cell_type": "code",
   "execution_count": null,
   "metadata": {},
   "outputs": [],
   "source": [
    "object_control_verbs = [\"told\", \"ordered\", \"exhorted\", \"begged\", \"entreated\", \"called upon\", \"reminded\", \"urged\", \"asked\", \"pleaded with\", \"persuaded\", \"convinced\", \"forced\", \"pushed\"]\n",
    "\n",
    "actions = [(\"to leave\", \"left\"), (\"to call home\", \"called home\"), (\"to reply\", \"replied\")]\n",
    "\n",
    "responses_by_verb = {}\n",
    "\n",
    "class_lookups = {\"Tom\": [\"tom\"], \"Mary\": [\"mary\"]}\n",
    "metric = StringMetric(class_lookups)\n",
    "for verb in object_control_verbs:\n",
    "    for infinitive, past in actions:\n",
    "        context = [f\"\"\"You will be given a context and a question. Answer the question with either \"Tom\" or \"Mary\".\\nContext: Tom {verb} Mary {infinitive}.\\n\"\"\",\n",
    "                f\"Question:  Who {past}, Tom or Mary?\"]\n",
    "        prompt_text = \"Answer: \"\n",
    "\n",
    "        key = f\"{verb}, {infinitive}\"\n",
    "\n",
    "        prompt = GPTPrompt(context, prompt_text)\n",
    "\n",
    "        replicants = 1\n",
    "        text = str(prompt)\n",
    "        kwargs = {\"maxTokens\": 2, \"temperature\": 0.0}\n",
    "        metric, responses = run_experiment(run_ai21_prompt, text, replicants, metric, kwargs)\n",
    "        responses_by_verb[key] = responses \n",
    "\n",
    "counts, classes = metric.get_metric()\n",
    "print(counts)\n",
    "\n"
   ]
  },
  {
   "cell_type": "markdown",
   "metadata": {},
   "source": [
    "## What about subject control "
   ]
  },
  {
   "cell_type": "code",
   "execution_count": null,
   "metadata": {},
   "outputs": [],
   "source": [
    "\n",
    "context = [\"\"\"You will be given a context and a question. Answer the question with either \"Tom\" or \"Mary\".\\nContext: Tom promised Mary to call home.\\n\"\"\",\n",
    "           \"Question:  Who called home, Tom or Mary?\"]\n",
    "prompt_text = \"Answer: \"\n",
    "\n",
    "prompt = GPTPrompt(context, prompt_text)\n",
    "\n",
    "replicants = 1 \n",
    "class_lookups = {\"Tom\": [\"tom\"], \"Mary\": [\"mary\"]}\n",
    "metric = StringMetric(class_lookups)\n",
    "text = str(prompt)\n",
    "kwargs = {\"maxTokens\": 2, \"temperature\": 0.0}\n",
    "metric, responses = run_experiment(run_ai21_prompt, text, replicants, metric, kwargs)\n",
    "counts, classes = metric.get_metric()\n",
    "\n",
    "print(counts)"
   ]
  },
  {
   "cell_type": "code",
   "execution_count": 1,
   "metadata": {},
   "outputs": [],
   "source": [
    "\n",
    "from experiment import Experiment\n",
    "from api_tools import FixedGPTPrompt, run_ai21_prompt\n",
    "\n"
   ]
  },
  {
   "cell_type": "code",
   "execution_count": 2,
   "metadata": {},
   "outputs": [],
   "source": [
    "names = [(\"Tom\", \"Mary\")]\n",
    "verbs = ['persuaded']\n",
    "actions = [('to call home', 'called home')]\n",
    "\n",
    "\n",
    "kwargs = {\"maxTokens\": 2, \"temperature\": 0.0}\n",
    "\n",
    "test_experiment  = Experiment(\"jurassic-large\", \"object-control\", FixedGPTPrompt, run_ai21_prompt, 1, kwargs)"
   ]
  },
  {
   "cell_type": "code",
   "execution_count": 3,
   "metadata": {},
   "outputs": [
    {
     "name": "stdout",
     "output_type": "stream",
     "text": [
      "You will be given a context and a question. Answer the question with either \"Tom\" or \"Mary\".\n",
      "Context: Tom persuaded Mary to call home.\n",
      "\n",
      "Question:  Who called home, Tom or Mary?\n",
      "Answer: \n"
     ]
    },
    {
     "name": "stderr",
     "output_type": "stream",
     "text": [
      "100%|██████████| 1/1 [00:00<00:00,  2.22it/s]"
     ]
    },
    {
     "name": "stdout",
     "output_type": "stream",
     "text": [
      "[('You will be given a context and a question. Answer the question with either \"Tom\" or \"Mary\".\\nContext: Tom persuaded Mary to call home.\\n\\nQuestion:  Who called home, Tom or Mary?\\nAnswer: ', ' Tom called')]\n"
     ]
    },
    {
     "name": "stderr",
     "output_type": "stream",
     "text": [
      "\n"
     ]
    }
   ],
   "source": [
    "test_experiment.run(names, 1, verbs, actions)"
   ]
  },
  {
   "cell_type": "code",
   "execution_count": 4,
   "metadata": {},
   "outputs": [
    {
     "data": {
      "text/html": [
       "<div>\n",
       "<style scoped>\n",
       "    .dataframe tbody tr th:only-of-type {\n",
       "        vertical-align: middle;\n",
       "    }\n",
       "\n",
       "    .dataframe tbody tr th {\n",
       "        vertical-align: top;\n",
       "    }\n",
       "\n",
       "    .dataframe thead th {\n",
       "        text-align: right;\n",
       "    }\n",
       "</style>\n",
       "<table border=\"1\" class=\"dataframe\">\n",
       "  <thead>\n",
       "    <tr style=\"text-align: right;\">\n",
       "      <th></th>\n",
       "      <th>model</th>\n",
       "      <th>exp_type</th>\n",
       "      <th>verb</th>\n",
       "      <th>action</th>\n",
       "      <th>true</th>\n",
       "      <th>pred</th>\n",
       "    </tr>\n",
       "  </thead>\n",
       "  <tbody>\n",
       "    <tr>\n",
       "      <th>0</th>\n",
       "      <td>jurassic-large</td>\n",
       "      <td>object-control</td>\n",
       "      <td>persuaded</td>\n",
       "      <td>to call home</td>\n",
       "      <td>Mary</td>\n",
       "      <td>Tom</td>\n",
       "    </tr>\n",
       "  </tbody>\n",
       "</table>\n",
       "</div>"
      ],
      "text/plain": [
       "            model        exp_type       verb        action  true pred\n",
       "0  jurassic-large  object-control  persuaded  to call home  Mary  Tom"
      ]
     },
     "execution_count": 4,
     "metadata": {},
     "output_type": "execute_result"
    }
   ],
   "source": [
    "test_experiment.format_results()"
   ]
  },
  {
   "cell_type": "code",
   "execution_count": null,
   "metadata": {},
   "outputs": [],
   "source": []
  },
  {
   "cell_type": "code",
   "execution_count": null,
   "metadata": {},
   "outputs": [],
   "source": []
  }
 ],
 "metadata": {
  "interpreter": {
   "hash": "ec6008f546f3cd66431ed7a4f2e2b63949ea9a2fd324a00b9368fd8a5a5333f5"
  },
  "kernelspec": {
   "display_name": "Python 3.7.11 64-bit ('openai': conda)",
   "language": "python",
   "name": "python3"
  },
  "language_info": {
   "codemirror_mode": {
    "name": "ipython",
    "version": 3
   },
   "file_extension": ".py",
   "mimetype": "text/x-python",
   "name": "python",
   "nbconvert_exporter": "python",
   "pygments_lexer": "ipython3",
   "version": "3.7.11"
  },
  "orig_nbformat": 4
 },
 "nbformat": 4,
 "nbformat_minor": 2
}
